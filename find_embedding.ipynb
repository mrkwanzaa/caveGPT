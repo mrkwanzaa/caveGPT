{
 "cells": [
  {
   "cell_type": "markdown",
   "metadata": {},
   "source": [
    "# Code"
   ]
  },
  {
   "cell_type": "code",
   "execution_count": 1,
   "metadata": {},
   "outputs": [
    {
     "name": "stderr",
     "output_type": "stream",
     "text": [
      "/home/will/anaconda3/envs/thesis/lib/python3.11/site-packages/tqdm/auto.py:21: TqdmWarning: IProgress not found. Please update jupyter and ipywidgets. See https://ipywidgets.readthedocs.io/en/stable/user_install.html\n",
      "  from .autonotebook import tqdm as notebook_tqdm\n"
     ]
    }
   ],
   "source": [
    "# Imports and setup model\n",
    "import os\n",
    "import openai\n",
    "import json\n",
    "import configobj\n",
    "import numpy\n",
    "from langchain.document_loaders import DirectoryLoader\n",
    "from langchain.text_splitter import RecursiveCharacterTextSplitter\n",
    "import tiktoken\n",
    "from typing_extensions import Concatenate\n",
    "from uuid import uuid4\n",
    "from tqdm.auto import tqdm\n",
    "import pinecone\n",
    "from time import sleep\n",
    "from IPython.display import Markdown"
   ]
  },
  {
   "cell_type": "code",
   "execution_count": 28,
   "metadata": {},
   "outputs": [],
   "source": [
    "# Setup env vars and constants\n",
    "config = configobj.ConfigObj('.env')\n",
    "openai.api_key = config[\"OPENAI_API_KEY\"]\n",
    "pinecone_key = config[\"PINECONE_API_KEY\"]\n",
    "pinecone_env = config[\"PINECONE_ENVIRONMENT\"]\n",
    "\n",
    "embedding_model = \"text-embedding-ada-002\" \n",
    "dimensions = 1536\n",
    "docs_dir = 'docs/'"
   ]
  },
  {
   "cell_type": "code",
   "execution_count": 35,
   "metadata": {},
   "outputs": [
    {
     "name": "stdout",
     "output_type": "stream",
     "text": [
      "### `maps`\n",
      "This key group allows designers to specify information about the starting state of the map, what information is contained and how it is grouped in the legend, and what viewports can be easily jumped to by the user.\n",
      "\n",
      "## Common keys\n",
      "- [`allowModification`](../common_keys/common_keys.md#allowModification)\n",
      "- [`data`](../common_keys/common_keys.md#data)\n",
      "- [`icon`](../common_keys/common_keys.md#icon)\n",
      "- [`name`](../common_keys/common_keys.md#name)\n",
      "- [`order`](../common_keys/common_keys.md#order)\n",
      "- [`sendToApi`](../common_keys/common_keys.md#sendToApi)\n",
      "- [`sendToClient`](../common_keys/common_keys.md#sendToClient)\n",
      "\n",
      "## Special and custom keys\n",
      "Key | Default | Description\n",
      "--- | ------- | -----------\n",
      "<a name=\"defaultViewport\">`customMapKey.defaultViewport`</a> | | A dictionary object containing geo properties that set the map's default field of view. Also used by the \"home\" viewport button in the app.\n",
      "`customMapKey.defaultViewport.bearing` | `0` | The initial bearing (rotation) of the map, measured in degrees counter-clockwise from north.\n",
      "`customMapKey.defaultViewport.pitch` | `0` | The initial pitch (*tilt*) of the viewport in the \"**Map**\" view, measured in degrees away from the plane of the screen (0&deg; - 85&deg;). A pitch of 0&deg; results in a two-dimensional map, as if your line of sight forms a perpendicular angle with the earth's surface, while a greater value like 60&deg; looks ahead towards the horizon.\n",
      "`customMapKey.defaultViewport.latitude` | `42.36157` | The center latitude of the viewport in the \"**Map**\" view. It takes a float value.\n",
      "`customMapKey.defaultViewport.longitude` | `-71.08463` | The center longitude of the viewport in the \"**Map**\" view. It takes a float value.\n",
      "`customMapKey.defaultViewport.maxZoom` | `22` | The maximum zoom level of the viewport in the \"**Map**\" view. It takes an integer value.\n",
      "`customMapKey.defaultViewport.minZoom` | `1.5` | The minimum zoom level of the viewport in the \"**Map**\" view. It takes an integer value.\n",
      "`customMapKey.defaultViewport.zoom` | `13` | The initial zoom level of the viewport in the \"**Map**\" view. It takes an integer value. Learn more about the zoom levels [here](#https://docs.mapbox.com/help/glossary/zoom-level/).\n",
      "<a name=\"optionalViewports\">`customMapKey.optionalViewports`</a> | | A dictionary of optional viewports that can be jumped to by users. Each optional viewport should contain the same keys as `defaultViewport` as well as `name` and `icon` keys.\n",
      "<a name=\"legendGroups\">`customMapKey.legendGroups`</a> | `{}` | A dictionary object of all layer groupings to display in the map legend. The legend groups are displayed according to their `order` and each has an internal order of `nodes`, `arcs`, and `geos`. Types not included in any legend group cannot be toggled.\n",
      "`customMapKey.legendGroups.customLegendGroupKey*` | `{}` | A custom key wrapper for a legend group that contains its `name`, its display `order` from top to bottom within the map legend, as well as the initial state of the toggles for [`arc type`](arcs.md#arc-type)s, [`node type`](nodes.md#node-type)s, and [`geo type`](geos.md#geo-type)s.\n",
      "`customMapKey.legendGroups.customLegendGroupKey*.arcs` | `{}` | A list of all arc types to include in the legend group. Note that settings (`colorBy`, `sizeBy`) are syncronized across the same type in multiple groups.\n",
      "`customMapKey.legendGroups.customLegendGroupKey*.arcs.customArcType*` | `{value: False}` | A [arc type](arcs.md#arc-type) that matches the initial state of the toggle within the legend group. The inner `value` key is paired with a boolean indicating whether the arc type should be displayed in the \"Map\" view or not, while the `order` key follows the standard [`order`](../common_keys/common_keys.md#order)ing convention, allowing to set the display order of the arc type within the legend group. The `colorBy` and `sizeBy` keys set the default coloring and sizing props of the arc type.\n",
      "`customMapKey.legendGroups.customLegendGroupKey*.geos` | `{}` | A list of all geo types to include in the legend group. Note that settings (`colorBy`, `sizeBy`) are syncronized across the same type in multiple groups.\n",
      "`customMapKey.legendGroups.customLegendGroupKey*.geos.customGeoType*` | `{value: False}` | A [geo type](geos.md#geo-type) that matches the initial state of the toggle within the legend group. The inner `value` key is paired with a boolean indicating whether the geo type should be displayed in the \"Map\" view or not, while the `order` key follows the standard [`order`](../common_keys/common_keys.md#order)ing convention, allowing to set the display order of the geo type within the legend group. The `colorBy` key set the default coloring prop of the geo type.\n",
      "`customMapKey.legendGroups.customLegendGroupKey*.nodes` | `{}` | A dictionary of all node types to include in the legend group. Note that settings (`colorBy`, `sizeBy`) are syncronized across the same type in multiple groups.\n",
      "`customMapKey.legendGroups.customLegendGroupKey*.nodes.customNodeType*` | `{}` | An object to hold the options related to each custom node type\n",
      "`customMapKey.legendGroups.customLegendGroupKey*.nodes.customNodeType*.value` | `false` | A boolean value to indicate if this layer should be shown\n",
      "`customMapKey.legendGroups.customLegendGroupKey*.nodes.customNodeType*.order` | | The [`order`](../common_keys/common_keys.md#order) value that this toggle should appear in the legend group\n",
      "`customMapKey.legendGroups.customLegendGroupKey*.nodes.customNodeType*.colorBy` | `false` | The prop to used to color this node layer\n",
      "`customMapKey.legendGroups.customLegendGroupKey*.nodes.customNodeType*.sizeBy` | `false` | The prop to used to size this node layer\n",
      "`customMapKey.legendGroups.customLegendGroupKey*.nodes.customNodeType*.allowGrouping` | `false` | (BETA Feature) A node specific key to determine if this node layer is able to be auto grouped.\n",
      "`customMapKey.legendGroups.customLegendGroupKey*.nodes.customNodeType*.group` | `false` | (BETA Feature) Group the nodes in this layer (to use this you must set `allowGrouping=true`)\n",
      "`customMapKey.legendGroups.customLegendGroupKey*.nodes.customNodeType*.groupCalcByColor` | `count` | (BETA Feature) The aggregation method to use on the prop specified in `colorBy`. Options include [`count`,`max`,`min`,`mean`,`median`,`mode`,`sum`]\n",
      "`customMapKey.legendGroups.customLegendGroupKey*.nodes.customNodeType*.groupCalcBySize` | `count` | (BETA Feature) The aggregation method to use on the prop specified in `sizeBy`. Options include [`count`,`max`,`min`,`mean`,`median`,`mode`,`sum`]\n"
     ]
    }
   ],
   "source": [
    "# load docs\n",
    "texts = []\n",
    "\n",
    "for doc in os.listdir(docs_dir):\n",
    "    with open(docs_dir + doc, 'r') as f:\n",
    "        texts.append(f.read())\n",
    "\n",
    "print(texts[1])"
   ]
  },
  {
   "cell_type": "code",
   "execution_count": 3,
   "metadata": {},
   "outputs": [
    {
     "ename": "NameError",
     "evalue": "name 'texts' is not defined",
     "output_type": "error",
     "traceback": [
      "\u001b[0;31m---------------------------------------------------------------------------\u001b[0m",
      "\u001b[0;31mNameError\u001b[0m                                 Traceback (most recent call last)",
      "Cell \u001b[0;32mIn[3], line 13\u001b[0m\n\u001b[1;32m      7\u001b[0m     tokens \u001b[39m=\u001b[39m tokenizer\u001b[39m.\u001b[39mencode(\n\u001b[1;32m      8\u001b[0m         text,\n\u001b[1;32m      9\u001b[0m         disallowed_special\u001b[39m=\u001b[39m()\n\u001b[1;32m     10\u001b[0m     )\n\u001b[1;32m     11\u001b[0m     \u001b[39mreturn\u001b[39;00m \u001b[39mlen\u001b[39m(tokens)\n\u001b[0;32m---> 13\u001b[0m \u001b[39mprint\u001b[39m([tiktoken_len(doc) \u001b[39mfor\u001b[39;00m doc \u001b[39min\u001b[39;00m texts])\n",
      "\u001b[0;31mNameError\u001b[0m: name 'texts' is not defined"
     ]
    }
   ],
   "source": [
    "#Tokenize docs\n",
    "tokenizer_name = tiktoken.encoding_for_model('gpt-4')\n",
    "tokenizer = tiktoken.get_encoding(tokenizer_name.name)\n",
    "\n",
    "# create the length function\n",
    "def tiktoken_len(text):\n",
    "    tokens = tokenizer.encode(\n",
    "        text,\n",
    "        disallowed_special=()\n",
    "    )\n",
    "    return len(tokens)\n",
    "\n",
    "print([tiktoken_len(doc) for doc in texts])"
   ]
  },
  {
   "cell_type": "code",
   "execution_count": 58,
   "metadata": {},
   "outputs": [
    {
     "data": {
      "text/plain": [
       "'## Panes\\nPanes are constructs primarily used to place UI controls (toggles, text and number fields, sliders, etc.), as well as buttons to allow interaction with actionable data. Custom panes can be designed to enable users to tune up the parameters of a simulation, navigate through different case study scenarios, reset the state of a simulation, synchronize data or settings with other users, and so on.\\n\\nPanes can be of different [`variant`](#pane-variant)s, so to keep the data structure examples simple and modular, you can examine each one at a time in the following switchables:\\n\\n<details>\\n  <summary>App Settings pane</summary>\\n\\n```py\\n\"appSettings\": {\\n    \"variant\": \"appSettings\",\\n},\\n```\\n</details>\\n\\n<details>\\n  <summary>Options pane</summary>\\n\\n```py\\n\"customPropsPane\": {\\n    \"name\": \"Example Props Pane\",\\n    \"props\": {\\n        \"numericHeader\": {\\n            \"name\": \"Numeric Props\",\\n            \"type\": \"head\",\\n            \"help\": \"Some help for numeric props\",\\n        },\\n        \"numericInputExample\": {\\n            \"name\": \"Numeric Input Example\",\\n            \"type\": \"num\",\\n            \"value\": 50,\\n            \"enabled\": True,\\n            \"help\": \"Help for the numeric input example\",\\n            \"maxValue\": 100,\\n            \"minValue\": 0,\\n            \"numberFormat\": {\\n                \"precision\": 0,\\n                \"unit\": \"units\",\\n            },\\n        },\\n        \"numericSliderExample\": {\\n            \"name\": \"Numeric Slider Example\",\\n            \"type\": \"num\",\\n            \"value\": 50,\\n            \"enabled\": True,\\n            \"variant\": \"slider\",\\n            \"help\": \"Help for the numeric slider example\",\\n            \"maxValue\": 100,\\n            \"minValue\": 0,\\n        },\\n        \"miscHeader\": {\\n            \"name\": \"Misc Props\",\\n            \"type\": \"head\",\\n            \"help\": \"Some help for miscelanous props\",\\n        },\\n        \"toggleInputExample\": {\\n            \"name\": \"Toggle Input Example\",\\n            \"type\": \"toggle\",\\n            \"value\": True,\\n            \"enabled\": True,\\n            \"help\": \"Help for the toggle input example\",\\n        },\\n        \"buttonInputExample\": {\\n            \"name\": \"Button Input Example (Creates an Error)\",\\n            \"value\": \"Press Me!\",\\n            \"type\": \"button\",\\n            \"apiCommand\": \"test\",\\n            \"enabled\": True,\\n            \"help\": \"Press this button to create an error\",\\n        },\\n        \"textInputExample\": {\\n            \"name\": \"Text Input Example\",\\n            \"type\": \"text\",\\n            \"value\": \"Example Text Here\",\\n            \"enabled\": True,\\n            \"help\": \"Help for the text input example\",\\n        },\\n        \"selectorHeader\": {\\n            \"name\": \"Selection Props\",\\n            \"type\": \"head\",\\n            \"help\": \"Some help for Selection Props\",\\n        },\\n        \"dropdownItemExample\": {\\n            \"name\": \"Dropdown Item Example\",\\n            \"type\": \"selector\",\\n            \"variant\": \"dropdown\",\\n            \"value\": [\"option_c\"],\\n            \"options\": {\\n                \"option_a\": {\"name\": \"Option A\"},\\n                \"option_b\": {\"name\": \"Option B\"},\\n                \"option_c\": {\"name\": \"Option C\"},\\n            },\\n            \"enabled\": True,\\n            \"help\": \"Select an option from the dropdown\",\\n        },\\n        \"checkboxItemExample\": {\\n            \"name\": \"Checkbox Item Example\",\\n            \"type\": \"selector\",\\n            \"variant\": \"checkbox\",\\n            \"value\": [\"option_a\", \"option_c\"],\\n            \"options\": {\\n                \"option_a\": {\"name\": \"Option A\"},\\n                \"option_b\": {\"name\": \"Option B\"},\\n                \"option_c\": {\"name\": \"Option C\"},\\n            },\\n            \"enabled\": True,\\n            \"help\": \"Select all relevant items\",\\n        },\\n        \"radioItemExample\": {\\n            \"name\": \"Radio Item Example\",\\n            \"type\": \"selector\",\\n            \"variant\": \"radio\",\\n            \"value\": [\"option_a\"],\\n            \"options\": {\\n                \"option_a\": {\"name\": \"Option A\"},\\n                \"option_b\": {\"name\": \"Option B\"},\\n                \"option_c\": {\"name\": \"Option C\"},\\n            },\\n            \"enabled\": True,\\n            \"help\": \"Select one item from the list\",\\n        },\\n    },\\n    \"layout\": {\\n        \"type\": \"grid\",\\n        \"numColumns\": 3,\\n        \"numRows\": \"auto\",\\n        \"data\": {\\n            \"col1Row1\": {\\n                \"type\": \"item\",\\n                \"column\": 1,\\n                \"row\": 1,\\n                \"itemId\": \"numericHeader\",\\n            },\\n            \"col1Row2\": {\\n                \"type\": \"item\",\\n                \"column\": 1,\\n                \"row\": 2,\\n                \"itemId\": \"numericInputExample\",\\n            },\\n            \"col1Row3\": {\\n                \"type\": \"item\",\\n                \"column\": 1,\\n                \"row\": 3,\\n                \"itemId\": \"numericSliderExample\",\\n            },\\n            \"col2Row1\": {\\n                \"type\": \"item\",\\n                \"column\": 2,\\n                \"row\": 1,\\n                \"itemId\": \"miscHeader\",\\n            },\\n            \"col2Row2\": {\\n                \"type\": \"item\",\\n                \"column\": 2,\\n                \"row\": 2,\\n                \"itemId\": \"toggleInputExample\",\\n            },\\n            \"col2Row3\": {\\n                \"type\": \"item\",\\n                \"column\": 2,\\n                \"row\": 3,\\n                \"itemId\": \"buttonInputExample\",\\n            },\\n            \"col2Row4\": {\\n                \"type\": \"item\",\\n                \"column\": 2,\\n                \"row\": 4,\\n                \"itemId\": \"textInputExample\",\\n            },\\n            \"col3Row1\": {\\n                \"type\": \"item\",\\n                \"column\": 3,\\n                \"row\": 1,\\n                \"itemId\": \"selectorHeader\",\\n            },\\n            \"col3Row2\": {\\n                \"type\": \"item\",\\n                \"column\": 3,\\n                \"row\": 2,\\n                \"itemId\": \"dropdownItemExample\",\\n            },\\n            \"col3Row3\": {\\n                \"type\": \"item\",\\n                \"column\": 3,\\n                \"row\": 3,\\n                \"itemId\": \"checkboxItemExample\",\\n            },\\n            \"col3Row4\": {\\n                \"type\": \"item\",\\n                \"column\": 3,\\n                \"row\": 4,\\n                \"itemId\": \"radioItemExample\",\\n            },\\n        },\\n    },\\n    \"variant\": \"options\",\\n},\\n```\\n</details>\\n\\n<details>\\n  <summary>Context pane</summary>\\n\\n```py\\n\"customContextPane\": {\\n    \"name\": \"Example Context Pane\",\\n    \"props\": {\\n        \"numericContextProp\": {\\n            \"type\": \"num\",\\n            \"value\": 100,\\n            \"enabled\": True,\\n            \"help\": \"Numeric Context Prop Help\",\\n            \"label\": \"%\",\\n            \"variant\": \"slider\",\\n            \"maxValue\": 500,\\n            \"minValue\": 0,\\n            \"selectableCategories\": [\"location\", \"sku\"],\\n        },\\n    },\\n    \"data\": {\\n        \"context1\": {\\n            \"prop\": \"numericContextProp\",\\n            \"value\": 110,\\n            \"applyCategories\": {\"location\": [\"locUsMi\"]},\\n        }\\n    },\\n    \"variant\": \"context\",\\n},\\n```\\n</details>\\n\\n<details>\\n  <summary>Filter pane</summary>\\n\\n```py\\n\"filter\": {\\n    \"variant\": \"filter\",\\n},\\n```\\n</details>\\n\\n<details>\\n  <summary>Session pane</summary>\\n\\n```py\\n\"CustomSessionPane\": {\\n    \"name\": \"Sessions\",\\n    \"variant\": \"session\",\\n},\\n```\\n</details>\\n\\n## Common keys\\n- [`allowModification`](../common_keys/common_keys.md#allowModification)\\n- [`layout`](../common_keys/common_keys.md#layout)\\n- [`name`](../common_keys/common_keys.md#name)\\n- [`order`](../common_keys/common_keys.md#order)\\n- [`prop > type`](../common_keys/common_keys.md#prop-type)\\n- [`props`](../common_keys/common_keys.md#props-short)\\n- [`sendToApi`](../common_keys/common_keys.md#sendToApi)\\n- [`sendToClient`](../common_keys/common_keys.md#sendToClient)\\n- [`variant`](../common_keys/common_keys.md#variant)\\n\\n## Special and custom keys\\nKey | Default | Description\\n--- | ------- | -----------\\n`customContextPaneKey*.data.customContextData*` | | This represents the data structure created by the client to store each context in a list of contexts. Initial values can be provided by the API designer if needed.\\n`customContextPaneKey*.data.customContextData*`&swarhk;<br>`.applyCategories` | | Used **only** with a [`context`](#context-pane) pane, it takes a dictionary of [`category_*`](#category_)s, each of which is paired with a partial list of its [`customDataChunck*`](../all_keys/categories.md#customDataChunck) keys. This data is normally generated by user interactions as they build out contexts and returned to the API on a `configure` or `solve` request. Initial values can be provided by the API designer if needed.\\n`customContextPaneKey*.data.customContextData*`&swarhk;<br>`.applyCategories.category*.customDataChunck*` | | See [`customDataChunck*`](../all_keys/categories.md#customDataChunck).\\n`customContextPaneKey*.data.customContextData*`&swarhk;<br>`.prop` | | Used in the `data` portion of a [`context`](#context-pane) pane to note which prop the current context is altering. Takes a `customPropKey*`.\\n`customPaneKey*.props.customPropKey*` | | See [`customPropKey*`](../common_keys/props.md#customPropKey).\\n`customPaneKey*.props.customPropKey*`&swarhk;<br>`.value.customOption*` | | See [`customOption*`](../common_keys/props.md#customOption).\\n`customContextPaneKey*.props.customPropKey*`&swarhk;<br>`.selectableCategories` | Required | Used in a [`context`](#context-pane) pane, it takes a list of [`category_*`](#category_) keys (**only**). These are the used to determine which categories this context can be applied to.\\n`customPaneKey*.teamSync` | `False` | If `True`, creates a sync button on the top of the pane. When that sync button is clicked, everything in that pane is synced across all sessions for that team (or user if individual session) such that all other sessions for that team have the exact same pane as it exists in the current session.\\n`customPaneKey*.teamSyncCommand` | | If specified, passes an API command argument along with a mutation request. This command will be passed to `execute_command` for each session to be synced.\\n`customPaneKey*.teamSyncCommandKeys` | | If specified, only passes specific session keys over to `execute_command` for each session to be synced.\\n<a name=\"pane-variant\">`customPaneKey*.variant`</a> | `\\'options\\'` | As a direct child of `customPaneKey*`, the `variant` key is used to determine the pane variant. Each variant comes along with additional keys that add specific functionality to the pane. Acceptable values inclue `session`, `appSettings`, `options`, `context`, `filter`\\n`customPaneKey*.width` | `\\'auto\\'` | Sets the width of the pane. This property is an exact equivalent of the [CSS `width` property](https://developer.mozilla.org/en-US/docs/Web/CSS/width). If set to `\\'auto\\'`, the pane will stretch to fit its content with a width no less than `\\'450px\\'`. If the specified width exceeds the width of the viewport, the pane will match the width of the viewport.\\n<!-- `paneState.open` | | Takes a `customPaneKey*` value to cause the referenced pane to open when the app loads. -->\\n<!-- `filtered` | `{}` | Takes key value pairs where the keys are category keys, and the values are lists of lowest level items in that category to be included (not filtered out). If a category is not included in this dictionary then all items in that category are displayed. -->'"
      ]
     },
     "execution_count": 58,
     "metadata": {},
     "output_type": "execute_result"
    }
   ],
   "source": [
    "texts[5]"
   ]
  },
  {
   "cell_type": "code",
   "execution_count": 4,
   "metadata": {},
   "outputs": [
    {
     "name": "stdout",
     "output_type": "stream",
     "text": [
      "['gpt-4-embedded-docs']\n"
     ]
    },
    {
     "data": {
      "text/plain": [
       "{'dimension': 1536,\n",
       " 'index_fullness': 0.0,\n",
       " 'namespaces': {'': {'vector_count': 12}},\n",
       " 'total_vector_count': 12}"
      ]
     },
     "execution_count": 4,
     "metadata": {},
     "output_type": "execute_result"
    }
   ],
   "source": [
    "#intialize pinecone index\n",
    "pinecone.init(api_key=pinecone_key, environment=pinecone_env)\n",
    "pinecone.whoami()\n",
    "\n",
    "index_name = 'gpt-4-embedded-docs'\n",
    "print(pinecone.list_indexes())\n",
    "# check if index already exists (it shouldn't if this is first time)\n",
    "if index_name not in pinecone.list_indexes():\n",
    "    # if does not exist, create index\n",
    "    pinecone.create_index(\n",
    "        index_name,\n",
    "        dimension=dimensions,\n",
    "        metric='cosine'\n",
    "    )\n",
    "    # wait for index to be initialized\n",
    "    sleep(10)\n",
    "\n",
    "# connect to index\n",
    "index = pinecone.GRPCIndex(index_name)\n",
    "# view index stats\n",
    "index.describe_index_stats()\n"
   ]
  },
  {
   "cell_type": "code",
   "execution_count": 42,
   "metadata": {},
   "outputs": [
    {
     "name": "stderr",
     "output_type": "stream",
     "text": [
      "100%|██████████| 12/12 [00:08<00:00,  1.47it/s]\n"
     ]
    }
   ],
   "source": [
    "# get embeddings\n",
    "for idx, doc in enumerate(tqdm(texts)):\n",
    "  # create embeddings (try-except added to avoid RateLimitError)\n",
    "  try:\n",
    "        res = openai.Embedding.create(input=doc, engine=embedding_model)\n",
    "  except:\n",
    "      done = False\n",
    "      while not done:\n",
    "          sleep(5)\n",
    "          try:\n",
    "              res = openai.Embedding.create(input=doc, engine=embedding_model)\n",
    "              done = True\n",
    "          except:\n",
    "              pass\n",
    "\n",
    "  embeds = [record['embedding'] for record in res['data']]\n",
    "  to_upsert = list(zip([f'{idx}'], embeds))\n",
    "  index.upsert(vectors=to_upsert)"
   ]
  },
  {
   "cell_type": "code",
   "execution_count": 66,
   "metadata": {},
   "outputs": [],
   "source": [
    "# Example retrieval\n",
    "query = \"In the dashboard change the stat example a chart to group by sku\"\n",
    "\n",
    "res = openai.Embedding.create(\n",
    "    input=[query],\n",
    "    engine=embedding_model\n",
    ")\n",
    "\n",
    "# retrieve from Pinecone\n",
    "xq = res['data'][0]['embedding']\n",
    "\n",
    "# get relevant contexts (including the questions)\n",
    "output = index.query(xq, top_k=3, include_metadata=True)"
   ]
  },
  {
   "cell_type": "code",
   "execution_count": 68,
   "metadata": {},
   "outputs": [
    {
     "name": "stdout",
     "output_type": "stream",
     "text": [
      "{'matches': [{'id': '11',\n",
      "              'metadata': {},\n",
      "              'score': 0.76675105,\n",
      "              'sparse_values': {'indices': [], 'values': []},\n",
      "              'values': []},\n",
      "             {'id': '9',\n",
      "              'metadata': {},\n",
      "              'score': 0.7471639,\n",
      "              'sparse_values': {'indices': [], 'values': []},\n",
      "              'values': []},\n",
      "             {'id': '7',\n",
      "              'metadata': {},\n",
      "              'score': 0.7391393,\n",
      "              'sparse_values': {'indices': [], 'values': []},\n",
      "              'values': []}],\n",
      " 'namespace': ''}\n",
      "11\n",
      "# `dashboards`\n",
      "The `dashboards` key allows API designers to create custom dashboards for displaying charts and tables of statistics and kpi data. This key allows for default information and layout to be specified, as well as whether the dashboards can be edited by the user.\n",
      "\n",
      "## Special and custom keys\n",
      "Key | Default | Description\n",
      "--- | ------- | -----------\n",
      "`customDashKey.dashboardLayout` | `[]` | A list of chart items (max of 4 items currently supported) that belong to the current dashboard. Each chart item contains the following keys: `chart`, `grouping`, `statistic`, `category`, `level`, `type`, and `lockedLayout`.\n",
      "`customDashKey.statOptions` | `[]` | A list of stat type keys that can be displayed in the charts on the dashboard. If the list is empty or no list is passed all stats are availible.\n",
      "`customDashKey.dashboardLayout.*.*.category` | | The category selected from the \"**Group By**\" drop-down menu of a chart in a dashboard view. This key is different from the common key [`category`](../common_keys/common_keys.md#category).\n",
      "`customDashKey.dashboardLayout.*.*.category2` | | The category selected from the \"**Sub Group**\" drop-down menu of a chart in a dashboard view. This uses the data resulting from \"**Group By**\" as input and allows you to further divide it based on the selected `category2` and [`level2`](#level2).\n",
      "`customDashKey.dashboardLayout.*.*.chart` | | The chart type selected from the top-left drop-down menu of a chart in a dashboard view. The `chart` key sets the type of chart to one of these values: `'Bar'`,`'Stacked Bar'`,`'Line'`,`'Cumulative Line'`,`'Table'`,`'Box Plot'`,`'Waterfall'`,`'Stacked Waterfall'`,`'Sunburst'`\n",
      "`customDashKey.dashboardLayout.*.*.grouping` | | A statistical or mathematical function selected by the user from a predefined set, to be applied over the data and rendered in a chart. It takes one of the following values: `'Sum'`, `'Average'`, `'Minimum'` or `'Maximum'`.\n",
      "`customDashKey.dashboardLayout.*.*.kpi` | | The KPI key or the list of KPI keys selected from the \"**KPIs**\" drop-down of a chart in a dashboard view if chart `type='kpis'`.\n",
      "`customDashKey.dashboardLayout.*.*.level` | | The second-level aggregation selected from the \"**Group By**\" drop-down menu of a chart in a dashboard view.\n",
      "<a name=\"level2\">`customDashKey.dashboardLayout.*.*.level2`</a> | | The second-level aggregation selected from the \"**Sub Group**\" drop-down menu of a chart in a dashboard view.\n",
      "`customDashKey.dashboardLayout.*.*.lockedLayout` | `False` | A boolean to indicate if the layout on this chart can be changed by users.\n",
      "`customDashKey.dashboardLayout.*.*.statistic` | | The statistic selected from the \"**Statistic**\" drop-down menu of a chart in a dashboard view if the chart `type='stats'`\n",
      "`customDashKey.dashboardLayout.*.*.type` | `'stats'` | This has two options: `'stats'` or `'kpis'`\n",
      "`customDashKey.lockedLayout` | `False` | If `True`, prevents users from modifying the layout of a dashboard view by adding or removing charts.\n"
     ]
    }
   ],
   "source": [
    "print(output)\n",
    "print(len(texts))\n",
    "print(texts[int(output['matches'][1]['id'])])"
   ]
  },
  {
   "cell_type": "code",
   "execution_count": 23,
   "metadata": {},
   "outputs": [
    {
     "name": "stdout",
     "output_type": "stream",
     "text": [
      "{\"data\":{\"maps\":{\"data\":{\"map1\":{\"defaultViewport\":{\"longitude\":-75.44766721108091,\"latitude\":40.34530681636297,\"zoom\":4.657916626867326,\"pitch\":0,\"bearing\":0,\"height\":1287,\"altitude\":1.5,\"maxZoom\":12,\"minZoom\":2},\"optionalViewports\":{\"ov0\":{\"icon\":\"FaGlobeAsia\",\"name\":\"Asia\",\"zoom\":4,\"order\":1,\"pitch\":0,\"bearing\":0,\"maxZoom\":12,\"minZoom\":2,\"latitude\":30,\"longitude\":121},\"ov1\":{\"icon\":\"FaGlobeEurope\",\"name\":\"EMEA\",\"zoom\":4,\"order\":1,\"pitch\":0,\"bearing\":0,\"maxZoom\":12,\"minZoom\":2,\"latitude\":47,\"longitude\":14}},\"legendGroups\":{\"lga\":{\"name\":\"Legend Group A\",\"nodes\":{\"nodeTypeA\":{\"value\":true,\"sizeBy\":\"numericPropExampleA\",\"colorBy\":\"booleanPropExample\",\"allowGrouping\":true,\"groupCalcByColor\":\"sum\",\"groupCalcBySize\":\"mode\"}},\"arcs\":{\"T1\":{\"colorBy\":\"numericPropExampleA\",\"sizeBy\":\"numericPropExampleB\",\"value\":true}},\"order\":1},\"lgb\":{\"name\":\"Legend Group B\",\"nodes\":{\"nodeTypeB\":{\"value\":true,\"sizeBy\":\"numericPropExampleB\",\"colorBy\":\"booleanPropExample\"}},\"arcs\":{\"T2\":{\"colorBy\":\"numericPropExampleA\",\"sizeBy\":\"numericPropExampleB\",\"value\":true}},\"geos\":{\"state\":{\"value\":true,\"colorBy\":\"numericPropExampleC\"},\"country\":{\"value\":false,\"colorBy\":\"numericPropExampleC\"}},\"order\":2}}},\"map2\":{\"defaultViewport\":{\"longitude\":-75.44766721108091,\"latitude\":40.34530681636297,\"zoom\":4.657916626867326,\"pitch\":0,\"bearing\":0,\"height\":1287,\"altitude\":1.5,\"maxZoom\":12,\"minZoom\":2},\"optionalViewports\":{\"ov0\":{\"icon\":\"FaGlobeAsia\",\"name\":\"Asia\",\"zoom\":4,\"order\":1,\"pitch\":0,\"bearing\":0,\"maxZoom\":12,\"minZoom\":2,\"latitude\":30,\"longitude\":121},\"ov1\":{\"icon\":\"FaGlobeEurope\",\"name\":\"EMEA\",\"zoom\":4,\"order\":1,\"pitch\":0,\"bearing\":0,\"maxZoom\":12,\"minZoom\":2,\"latitude\":47,\"longitude\":14}},\"legendGroups\":{\"lga\":{\"name\":\"Legend Group A\",\"nodes\":{\"nodeTypeA\":{\"value\":true,\"sizeBy\":\"numericPropExampleA\",\"colorBy\":\"booleanPropExample\"}},\"arcs\":{\"T1\":{\"colorBy\":\"numericPropExampleA\",\"sizeBy\":\"numericPropExampleB\",\"value\":true}},\"order\":1},\"lgb\":{\"name\":\"Legend Group B\",\"nodes\":{\"nodeTypeB\":{\"value\":true,\"sizeBy\":\"numericPropExampleB\",\"colorBy\":\"booleanPropExample\"}},\"arcs\":{\"T2\":{\"colorBy\":\"numericPropExampleA\",\"sizeBy\":\"numericPropExampleB\",\"value\":true}},\"geos\":{\"state\":{\"value\":true,\"colorBy\":\"numericPropExampleC\"},\"country\":{\"value\":false,\"colorBy\":\"numericPropExampleC\"}},\"order\":2}}}}},\"settings\":{\"allowModification\":false,\"data\":{\"sync\":{\"appBar\":{\"name\":\"App Bar\",\"showToggle\":true,\"value\":false,\"data\":{\"ab1\":[\"appBar\",\"paneState\"]}},\"pageSelection\":{\"name\":\"Page Selection\",\"showToggle\":true,\"value\":false,\"data\":{\"ps1\":[\"appBar\",\"data\",\"appBarId\"]}},\"mapLayers\":{\"name\":\"Map Layers\",\"showToggle\":true,\"value\":false,\"data\":{\"ml1\":[\"maps\",\"data\",\"map1\",\"legendGroups\"]}},\"dashboards\":{\"name\":\"Dashboards\",\"showToggle\":true,\"value\":false,\"data\":{\"db1\":[\"dashboards\",\"data\"]}}},\"iconUrl\":\"https://react-icons.mitcave.com/4.8.0\",\"numberFormat\":{\"precision\":4,\"trailingZeros\":false,\"unitSpace\":true},\"debug\":true}},\"categories\":{\"allowModification\":false,\"data\":{\"location\":{\"data\":{\"locUsMi\":{\"region\":\"North America\",\"country\":\"USA\",\"state\":\"Michigan\"},\"locUsMa\":{\"region\":\"North America\",\"country\":\"USA\",\"state\":\"Massachusetts\"},\"locUsFl\":{\"region\":\"North America\",\"country\":\"USA\",\"state\":\"Florida\"},\"locUsIn\":{\"region\":\"North America\",\"country\":\"USA\",\"state\":\"Indiana\"},\"locCaOn\":{\"region\":\"North America\",\"country\":\"Canada\",\"state\":\"Ontario\"}},\"name\":\"Locations\",\"nestedStructure\":{\"region\":{\"name\":\"Regions\",\"order\":1},\"country\":{\"name\":\"Countries\",\"ordering\":[\"USA\",\"Canada\"],\"order\":2},\"state\":{\"name\":\"States\",\"order\":3}},\"layoutDirection\":\"horizontal\",\"grouping\":\"Solo\",\"order\":1},\"sku\":{\"data\":{\"SKU1\":{\"type\":\"Type A\",\"size\":\"Size A\",\"sku\":\"SKU1\"},\"SKU2\":{\"type\":\"Type A\",\"size\":\"Size B\",\"sku\":\"SKU2\"}},\"name\":\"SKUs\",\"nestedStructure\":{\"type\":{\"name\":\"Types\",\"order\":1},\"size\":{\"name\":\"Sizing\",\"ordering\":[\"Size B\",\"Size A\"],\"order\":2},\"sku\":{\"name\":\"SKU\",\"order\":3}},\"layoutDirection\":\"horizontal\",\"order\":2}}},\"panes\":{\"data\":{\"session\":{\"variant\":\"session\",\"name\":\"Sessions Pane\"},\"appSettings\":{\"name\":\"App Settings Pane\",\"variant\":\"appSettings\"},\"examplePropsPane\":{\"name\":\"Example Props Pane\",\"variant\":\"options\",\"props\":{\"numericHeader\":{\"name\":\"Numeric Props\",\"type\":\"head\",\"help\":\"Some help for numeric props\"},\"numericInputExample\":{\"name\":\"Numeric Input Example\",\"type\":\"num\",\"value\":50,\"enabled\":true,\"help\":\"Help for the numeric input example\",\"maxValue\":100,\"minValue\":0,\"numberFormat\":{\"precision\":0,\"unit\":\"units\"}},\"numericSliderExample\":{\"name\":\"Numeric Slider Example\",\"type\":\"num\",\"value\":50,\"enabled\":true,\"variant\":\"slider\",\"help\":\"Help for the numeric slider example\",\"maxValue\":100,\"minValue\":0,\"numberFormat\":{\"unit\":\"%\"}},\"miscHeader\":{\"name\":\"Misc Props\",\"type\":\"head\",\"help\":\"Some help for miscelanous props\"},\"toggleInputExample\":{\"name\":\"Toggle Input Example\",\"type\":\"toggle\",\"value\":true,\"enabled\":true,\"help\":\"Help for the toggle input example\"},\"buttonInputExample\":{\"name\":\"Button Input Example (Creates an Error)\",\"value\":\"Press Me!\",\"type\":\"button\",\"apiCommand\":\"test\",\"enabled\":true,\"help\":\"Press this button to create an error\"},\"pictureExample\":{\"name\":\"Picture Example\",\"type\":\"media\",\"variant\":\"picture\",\"value\":\"https://ctl.mit.edu/sites/ctl.mit.edu/files/inline-images/MIT_CTL_CAVE_Lab_2.png\",\"help\":\"Click the expand button to view an enlarged version\"},\"videoExample\":{\"name\":\"Video Example\",\"type\":\"media\",\"variant\":\"video\",\"value\":\"https://www.youtube.com/embed/6q5R1TDmKnU\",\"help\":\"Click the play button to start the video\"},\"textHeader\":{\"name\":\"Text Props\",\"type\":\"head\",\"help\":\"Some help for Text Props\"},\"textInputExample\":{\"name\":\"Text Input Example\",\"type\":\"text\",\"value\":\"Example Text Here\",\"enabled\":true,\"help\":\"Help for the text input example\"},\"textAreaInputExample\":{\"name\":\"TextArea Input Example\",\"type\":\"text\",\"variant\":\"textarea\",\"rows\":6,\"value\":\"Velit non incididunt velit quis commodo consequat velit nulla. Id sunt sint consequat do in. Et adipisicing aliqua voluptate eu consequat et dolore mollit sit veniam minim nisi tempor. Enim laboris proident ex magna. Duis culpa veniam et officia irure id qui id ad laborum deserunt dolor proident elit.\",\"enabled\":true,\"help\":\"Help for the text area input example\"},\"selectorHeader\":{\"name\":\"Selection Props\",\"type\":\"head\",\"help\":\"Some help for Selection Props\"},\"dropdownItemExample\":{\"name\":\"Dropdown Item Example\",\"type\":\"selector\",\"variant\":\"dropdown\",\"value\":[\"option_c\"],\"options\":{\"option_a\":{\"name\":\"Option A\"},\"option_b\":{\"name\":\"Option B\"},\"option_c\":{\"name\":\"Option C\"}},\"enabled\":true,\"help\":\"Select an option from the dropdown\"},\"checkboxItemExample\":{\"name\":\"Checkbox Item Example\",\"type\":\"selector\",\"variant\":\"checkbox\",\"value\":[\"option_a\",\"option_c\"],\"options\":{\"option_a\":{\"name\":\"Option A\"},\"option_b\":{\"name\":\"Option B\"},\"option_c\":{\"name\":\"Option C\"}},\"enabled\":true,\"help\":\"Select all relevant items\"},\"radioItemExample\":{\"name\":\"Radio Item Example\",\"type\":\"selector\",\"variant\":\"radio\",\"value\":[\"option_a\"],\"options\":{\"option_a\":{\"name\":\"Option A\"},\"option_b\":{\"name\":\"Option B\"},\"option_c\":{\"name\":\"Option C\"}},\"enabled\":true,\"help\":\"Select one item from the list\"},\"hstepperItemExample\":{\"name\":\"Horizontal Stepper Item Example\",\"type\":\"selector\",\"variant\":\"hstepper\",\"value\":[\"option_c\"],\"options\":{\"option_a\":{\"name\":\"Option A\"},\"option_b\":{\"name\":\"Option B\"},\"option_c\":{\"name\":\"Option C\"}},\"enabled\":true,\"help\":\"Select an option from the stepper\"},\"vstepperItemExample\":{\"name\":\"Vertical Stepper Item Example\",\"type\":\"selector\",\"variant\":\"vstepper\",\"value\":[\"option_c\"],\"options\":{\"option_a\":{\"name\":\"Option A\"},\"option_b\":{\"name\":\"Option B\"},\"option_c\":{\"name\":\"Option C\"}},\"enabled\":true,\"help\":\"Select an option from the stepper\"},\"hradioItemExample\":{\"name\":\"Horizontal Radio Item Example\",\"type\":\"selector\",\"variant\":\"hradio\",\"value\":[\"option_c\"],\"options\":{\"option_a\":{\"name\":\"Option A\"},\"option_b\":{\"name\":\"Option B\"},\"option_c\":{\"name\":\"Option C\"}},\"enabled\":true,\"help\":\"Select an option from the radio\"},\"comboBoxItemExample\":{\"name\":\"ComboBox Item Example\",\"type\":\"selector\",\"variant\":\"combobox\",\"value\":[\"option_b\"],\"placeholder\":\"Option\",\"options\":{\"option_a\":{\"name\":\"Option A\"},\"option_b\":{\"name\":\"Option B\"},\"option_c\":{\"name\":\"Option C\"}},\"enabled\":true,\"help\":\"Select an option from the combobox\"},\"nestedItemExample\":{\"name\":\"Nested Item Example\",\"type\":\"selector\",\"variant\":\"nested\",\"value\":[\"t1_b1_tw1\",\"t1_b1_tw2\",\"t1_b2_tw2\",\"t2_b1_tw1\",\"t2_b1_tw2\"],\"options\":{\"t1_b1_tw1\":{\"name\":\"Twig1\",\"path\":[\"Tree1\",\"Branch1\"]},\"t1_b1_tw2\":{\"name\":\"Twig2\",\"path\":[\"Tree1\",\"Branch1\"]},\"t1_b1_tw3\":{\"name\":\"Twig3\",\"path\":[\"Tree1\",\"Branch1\"]},\"t1_b2_tw1\":{\"name\":\"Twig1\",\"path\":[\"Tree1\",\"Branch2\"]},\"t1_b2_tw2\":{\"name\":\"Twig2\",\"path\":[\"Tree1\",\"Branch2\"]},\"t2_b1_tw1\":{\"name\":\"Twig1\",\"path\":[\"Tree2\",\"Branch1\"]},\"t2_b1_tw2\":{\"name\":\"Twig2\",\"path\":[\"Tree2\",\"Branch1\"]},\"t2_b2_tw1\":{\"name\":\"Twig1\",\"path\":[\"Tree2\",\"Branch2\"]},\"t2_b2_tw2\":{\"name\":\"Twig2\",\"path\":[\"Tree2\",\"Branch2\"]}},\"enabled\":true,\"help\":\"Select all relevant items\"},\"dateTimeHeader\":{\"name\":\"Date and Time Props\",\"type\":\"head\",\"help\":\"Some help for Date and Time Props\"},\"dateItemExample\":{\"name\":\"Date Example\",\"type\":\"date\",\"variant\":\"date\",\"value\":\"07/20/1969\",\"enabled\":true,\"help\":\"The Eagle has landed!\"},\"timeItemExample\":{\"name\":\"Time Example\",\"type\":\"date\",\"variant\":\"time\",\"value\":\"1969-07-20T20:17:40\",\"enabled\":true,\"help\":\"The Eagle has landed!\"},\"dateTimeItemExample\":{\"name\":\"Date and Time Example\",\"type\":\"date\",\"variant\":\"datetime\",\"value\":\"1969-07-20T20:17:40\",\"enabled\":true,\"help\":\"The Eagle has landed!\"}},\"layout\":{\"type\":\"grid\",\"numColumns\":5,\"numRows\":\"auto\",\"data\":{\"col1Row1\":{\"type\":\"item\",\"column\":1,\"row\":1,\"itemId\":\"numericHeader\"},\"col1Row2\":{\"type\":\"item\",\"column\":1,\"row\":2,\"itemId\":\"numericInputExample\"},\"col1Row3\":{\"type\":\"item\",\"column\":1,\"row\":3,\"itemId\":\"numericSliderExample\"},\"col2Row1\":{\"type\":\"item\",\"column\":2,\"row\":1,\"itemId\":\"textHeader\"},\"col2Row2\":{\"type\":\"item\",\"column\":2,\"row\":2,\"itemId\":\"textInputExample\"},\"col2Row3\":{\"type\":\"item\",\"column\":2,\"row\":3,\"itemId\":\"textAreaInputExample\"},\"col3Row1\":{\"type\":\"item\",\"column\":3,\"row\":1,\"itemId\":\"miscHeader\"},\"col3Row2\":{\"type\":\"item\",\"column\":3,\"row\":2,\"itemId\":\"toggleInputExample\"},\"col3Row3\":{\"type\":\"item\",\"column\":3,\"row\":3,\"itemId\":\"buttonInputExample\"},\"col3Row4\":{\"type\":\"item\",\"column\":3,\"row\":4,\"itemId\":\"pictureExample\"},\"col3Row5\":{\"type\":\"item\",\"column\":3,\"row\":5,\"itemId\":\"videoExample\"},\"col4Row1\":{\"type\":\"item\",\"column\":4,\"row\":1,\"itemId\":\"selectorHeader\"},\"col4Row2\":{\"type\":\"item\",\"column\":4,\"row\":2,\"itemId\":\"dropdownItemExample\"},\"col4Row3\":{\"type\":\"item\",\"column\":4,\"row\":3,\"itemId\":\"checkboxItemExample\"},\"col4Row4\":{\"type\":\"item\",\"column\":4,\"row\":4,\"itemId\":\"radioItemExample\"},\"col4Row5\":{\"type\":\"item\",\"column\":4,\"row\":5,\"itemId\":\"comboBoxItemExample\"},\"col4Row6\":{\"type\":\"item\",\"column\":4,\"row\":6,\"itemId\":\"hstepperItemExample\"},\"col4Row7\":{\"type\":\"item\",\"column\":4,\"row\":7,\"itemId\":\"vstepperItemExample\"},\"col4Row8\":{\"type\":\"item\",\"column\":4,\"row\":8,\"itemId\":\"hradioItemExample\"},\"col4Row9\":{\"type\":\"item\",\"column\":4,\"row\":9,\"itemId\":\"nestedItemExample\"},\"col5Row1\":{\"type\":\"item\",\"column\":5,\"row\":1,\"itemId\":\"dateTimeHeader\"},\"col5Row2\":{\"type\":\"item\",\"column\":5,\"row\":2,\"itemId\":\"dateItemExample\"},\"col5Row3\":{\"type\":\"item\",\"column\":5,\"row\":3,\"itemId\":\"timeItemExample\"},\"col5Row4\":{\"type\":\"item\",\"column\":5,\"row\":4,\"itemId\":\"dateTimeItemExample\"}}}},\"filter\":{\"name\":\"Filter\",\"variant\":\"filter\"},\"context\":{\"name\":\"Context Pane\",\"variant\":\"context\",\"props\":{\"numericContextProp\":{\"name\":\"Numeric Context Prop\",\"type\":\"num\",\"value\":100,\"enabled\":true,\"help\":\"Numeric Context Prop Help\",\"label\":\"%\",\"variant\":\"slider\",\"maxValue\":500,\"minValue\":0,\"selectableCategories\":[\"location\",\"sku\"]}},\"data\":{\"context1\":{\"prop\":\"numericContextProp\",\"value\":110,\"applyCategories\":{\"location\":[\"locUsMi\"]}}}}}},\"arcs\":{\"types\":{\"T1\":{\"name\":\"Flow Type 1\",\"colorByOptions\":{\"selectorPropForColor\":{\"a\":\"rgb(128,255,255)\",\"b\":\"rgb(0,153,51)\",\"c\":\"rgb(0,0,128)\",\"d\":\"rgb(204,0,0)\",\"e\":\"rgb(153,77,0)\",\"f\":\"rgb(255,25,255)\"},\"numericPropExampleA\":{\"min\":0,\"max\":50,\"startGradientColor\":{\"dark\":\"rgb(233, 0, 0)\",\"light\":\"rgb(52, 52, 236)\"},\"endGradientColor\":{\"dark\":\"rgb(96, 2, 2)\",\"light\":\"rgb(23, 23, 126)\"}},\"numericPropExampleB\":{\"min\":0,\"max\":40,\"startGradientColor\":{\"dark\":\"rgb(233, 0, 0)\",\"light\":\"rgb(52, 52, 236)\"},\"endGradientColor\":{\"dark\":\"rgb(96, 2, 2)\",\"light\":\"rgb(23, 23, 126)\"}}},\"lineBy\":\"solid\",\"sizeByOptions\":{\"numericPropExampleA\":{\"min\":0,\"max\":50},\"numericPropExampleB\":{\"min\":0,\"max\":40}},\"startSize\":\"15px\",\"endSize\":\"30px\",\"props\":{\"numericPropExampleA\":{\"name\":\"Numeric Prop Example A\",\"type\":\"num\",\"enabled\":true,\"help\":\"Help for numeric prop example A\",\"numberFormat\":{\"unit\":\"A units\"},\"legendOverride\":{\"useScientificFormat\":false,\"minLabel\":\"small\"}},\"numericPropExampleB\":{\"name\":\"Numeric Prop Example B\",\"type\":\"num\",\"enabled\":true,\"help\":\"Help for numeric prop example B\",\"numberFormat\":{\"unit\":\"B units\"}},\"selectorPropForColor\":{\"name\":\"Example Categorical Prop\",\"type\":\"selector\",\"variant\":\"dropdown\",\"value\":[\"a\"],\"options\":{\"a\":{\"name\":\"A\"},\"b\":{\"name\":\"B\"},\"c\":{\"name\":\"C\"},\"d\":{\"name\":\"D\"},\"e\":{\"name\":\"E\"},\"f\":{\"name\":\"F\"}},\"enabled\":true}},\"layout\":{\"type\":\"grid\",\"numColumns\":\"auto\",\"numRows\":1,\"data\":{\"col1\":{\"type\":\"item\",\"itemId\":\"numericPropExampleA\",\"column\":1},\"col2\":{\"type\":\"item\",\"itemId\":\"numericPropExampleB\",\"column\":2},\"col3\":{\"type\":\"item\",\"itemId\":\"selectorPropForColor\",\"column\":3}}}},\"T2\":{\"name\":\"Flow Type 2\",\"colorByOptions\":{\"selectorPropForColor\":{\"a\":\"rgb(128,255,255)\",\"b\":\"rgb(0,153,51)\",\"c\":\"rgb(0,0,128)\",\"d\":\"rgb(204,0,0)\",\"e\":\"rgb(153,77,0)\",\"f\":\"rgb(255,25,255)\"},\"numericPropExampleA\":{\"min\":0,\"max\":50,\"startGradientColor\":{\"dark\":\"rgb(233, 0, 0)\",\"light\":\"rgb(52, 52, 236)\"},\"endGradientColor\":{\"dark\":\"rgb(96, 2, 2)\",\"light\":\"rgb(23, 23, 126)\"}},\"numericPropExampleB\":{\"min\":0,\"max\":40,\"startGradientColor\":{\"dark\":\"rgb(233, 0, 0)\",\"light\":\"rgb(52, 52, 236)\"},\"endGradientColor\":{\"dark\":\"rgb(96, 2, 2)\",\"light\":\"rgb(23, 23, 126)\"}}},\"lineBy\":\"dotted\",\"sizeByOptions\":{\"numericPropExampleA\":{\"min\":0,\"max\":50},\"numericPropExampleB\":{\"min\":0,\"max\":40}},\"startSize\":\"15px\",\"endSize\":\"30px\",\"props\":{\"numericPropExampleA\":{\"name\":\"Numeric Prop Example A\",\"type\":\"num\",\"enabled\":true,\"help\":\"Help for numeric prop example A\",\"numberFormat\":{\"unit\":\"A units\"}},\"numericPropExampleB\":{\"name\":\"Numeric Prop Example B\",\"type\":\"num\",\"enabled\":true,\"help\":\"Help for numeric prop example B\",\"numberFormat\":{\"unit\":\"B units\"}},\"selectorPropForColor\":{\"name\":\"Example Categorical Prop\",\"type\":\"selector\",\"variant\":\"dropdown\",\"value\":[\"a\"],\"options\":{\"a\":{\"name\":\"A\"},\"b\":{\"name\":\"B\"},\"c\":{\"name\":\"C\"},\"d\":{\"name\":\"D\"},\"e\":{\"name\":\"E\"},\"f\":{\"name\":\"F\"}},\"enabled\":true}},\"layout\":{\"type\":\"grid\",\"numColumns\":1,\"numRows\":\"auto\",\"data\":{\"row1\":{\"type\":\"item\",\"itemId\":\"numericPropExampleA\",\"row\":1},\"row2\":{\"type\":\"item\",\"itemId\":\"numericPropExampleB\",\"row\":2},\"row3\":{\"type\":\"item\",\"itemId\":\"selectorPropForColor\",\"row\":3}}}}},\"data\":{\"arc1\":{\"startLatitude\":43.78,\"startLongitude\":-79.63,\"endLatitude\":39.82,\"endLongitude\":-86.18,\"startClick\":800,\"endClick\":1600,\"type\":\"T1\",\"category\":{\"location\":[\"locCaOn\",\"locUsIn\"],\"sku\":[\"SKU2\",\"SKU1\"]},\"props\":{\"numericPropExampleA\":{\"value\":50},\"numericPropExampleB\":{\"value\":40},\"selectorPropForColor\":{\"value\":[\"b\"]}}},\"arc2\":{\"startLatitude\":39.82,\"startLongitude\":-86.18,\"endLatitude\":42.89,\"endLongitude\":-85.68,\"startClick\":1600,\"endClick\":2000,\"type\":\"T2\",\"category\":{\"location\":[\"locUsMi\",\"locUsIn\"],\"sku\":[\"SKU2\",\"SKU1\"]},\"props\":{\"numericPropExampleA\":{\"value\":30},\"numericPropExampleB\":{\"value\":20},\"selectorPropForColor\":{\"value\":[\"e\"]}}},\"arc3\":{\"startLatitude\":39.82,\"startLongitude\":-86.18,\"endLatitude\":28.49,\"endLongitude\":-81.56,\"startClick\":1600,\"endClick\":2000,\"type\":\"T2\",\"category\":{\"location\":[\"locUsFl\",\"locUsIn\"],\"sku\":[\"SKU2\",\"SKU1\"]},\"props\":{\"numericPropExampleA\":{\"value\":30},\"numericPropExampleB\":{\"value\":14},\"selectorPropForColor\":{\"value\":[\"d\"]}}},\"arc4\":{\"startLatitude\":39.82,\"startLongitude\":-86.18,\"endLatitude\":42.361176,\"endLongitude\":-71.084707,\"startClick\":1600,\"endClick\":2000,\"type\":\"T2\",\"category\":{\"location\":[\"locUsMa\",\"locUsIn\"],\"sku\":[\"SKU2\",\"SKU1\"]},\"props\":{\"numericPropExampleA\":{\"value\":30},\"numericPropExampleB\":{\"value\":6},\"selectorPropForColor\":{\"value\":[\"f\"]}}}}},\"nodes\":{\"types\":{\"nodeTypeA\":{\"name\":\"Node Type A\",\"colorByOptions\":{\"numericPropExampleA\":{\"min\":0,\"max\":80,\"startGradientColor\":{\"dark\":\"rgb(233, 0, 0)\",\"light\":\"rgb(52, 52, 236)\"},\"endGradientColor\":{\"dark\":\"rgb(96, 2, 2)\",\"light\":\"rgb(23, 23, 126)\"}},\"numericPropExampleB\":{\"min\":0,\"max\":50,\"startGradientColor\":{\"dark\":\"rgb(233, 0, 0)\",\"light\":\"rgb(52, 52, 236)\"},\"endGradientColor\":{\"dark\":\"rgb(96, 2, 2)\",\"light\":\"rgb(23, 23, 126)\"}},\"booleanPropExample\":{\"false\":\"rgb(255,0,0)\",\"true\":\"rgb(0,255,0)\"}},\"sizeByOptions\":{\"numericPropExampleA\":{\"min\":0,\"max\":80},\"numericPropExampleB\":{\"min\":0,\"max\":50}},\"startSize\":\"30px\",\"endSize\":\"45px\",\"icon\":\"FaIgloo\",\"props\":{\"numericPropExampleA\":{\"name\":\"Numeric Prop Example A\",\"type\":\"num\",\"enabled\":true,\"help\":\"Help for numeric prop example A\",\"numberFormat\":{\"unit\":\"A units\"},\"legendOverride\":{\"scientificPrecision\":5,\"useScientificFormat\":true}},\"numericPropExampleB\":{\"name\":\"Numeric Prop Example B\",\"type\":\"num\",\"enabled\":true,\"help\":\"Help for numeric prop example B\",\"numberFormat\":{\"unit\":\"B units\"},\"legendOverride\":{\"useScientificFormat\":true}},\"booleanPropExample\":{\"name\":\"Boolean Prop Example\",\"type\":\"toggle\",\"value\":true,\"enabled\":true,\"help\":\"Help for boolean prop\"}}},\"nodeTypeB\":{\"name\":\"Node Type B\",\"colorByOptions\":{\"numericPropExampleA\":{\"min\":0,\"max\":1000,\"startGradientColor\":{\"dark\":\"rgb(233, 0, 0)\",\"light\":\"rgb(52, 52, 236)\"},\"endGradientColor\":{\"dark\":\"rgb(96, 2, 2)\",\"light\":\"rgb(23, 23, 126)\"}},\"numericPropExampleB\":{\"min\":0,\"max\":50,\"startGradientColor\":{\"dark\":\"rgb(233, 0, 0)\",\"light\":\"rgb(52, 52, 236)\"},\"endGradientColor\":{\"dark\":\"rgb(96, 2, 2)\",\"light\":\"rgb(23, 23, 126)\"}},\"booleanPropExample\":{\"false\":\"rgb(233, 0, 0)\",\"true\":\"rgb(0, 233, 0)\"}},\"sizeByOptions\":{\"numericPropExampleA\":{\"min\":0,\"max\":100},\"numericPropExampleB\":{\"min\":0,\"max\":250}},\"startSize\":\"30px\",\"endSize\":\"45px\",\"icon\":\"BsBuilding\",\"props\":{\"numericPropExampleA\":{\"name\":\"Numeric Prop Example A\",\"type\":\"num\",\"enabled\":true,\"help\":\"Help for numeric prop example A\",\"numberFormat\":{\"unit\":\"A units\"},\"legendOverride\":{\"scientificPrecision\":5}},\"numericPropExampleB\":{\"name\":\"Numeric Prop Example B\",\"type\":\"num\",\"enabled\":true,\"help\":\"Help for numeric prop example B\",\"numberFormat\":{\"unit\":\"B units\"},\"legendOverride\":{\"minLabel\":\"Lo\",\"maxLabel\":\"Hi\"}},\"booleanPropExample\":{\"name\":\"Boolean Prop Example\",\"type\":\"toggle\",\"value\":true,\"enabled\":true,\"help\":\"Help for boolean prop\"}}}},\"data\":{\"node1\":{\"latitude\":43.78,\"longitude\":-79.63,\"type\":\"nodeTypeA\",\"category\":{\"location\":[\"locCaOn\"],\"sku\":[\"SKU2\",\"SKU1\"]},\"props\":{\"numericPropExampleA\":{\"value\":100},\"numericPropExampleB\":{\"value\":50},\"booleanPropExample\":{\"value\":true}}},\"node2\":{\"latitude\":39.82,\"longitude\":-86.18,\"type\":\"nodeTypeA\",\"category\":{\"location\":[\"locUsIn\"],\"sku\":[\"SKU2\",\"SKU1\"]},\"props\":{\"numericPropExampleA\":{\"value\":80},\"numericPropExampleB\":{\"value\":40},\"booleanPropExample\":{\"value\":true}}},\"node3\":{\"latitude\":42.89,\"longitude\":-85.68,\"type\":\"nodeTypeB\",\"category\":{\"location\":[\"locUsMi\"],\"sku\":[\"SKU2\",\"SKU1\"]},\"props\":{\"numericPropExampleA\":{\"value\":500},\"numericPropExampleB\":{\"value\":150},\"booleanPropExample\":{\"value\":true}}},\"node4\":{\"latitude\":28.49,\"longitude\":-81.56,\"type\":\"nodeTypeB\",\"category\":{\"location\":[\"locUsFl\"],\"sku\":[\"SKU2\",\"SKU1\"]},\"props\":{\"numericPropExampleA\":{\"value\":1000},\"numericPropExampleB\":{\"value\":250},\"booleanPropExample\":{\"value\":true}}},\"node5\":{\"latitude\":42.361176,\"longitude\":-71.084707,\"type\":\"nodeTypeB\",\"category\":{\"location\":[\"locUsMa\"],\"sku\":[\"SKU2\",\"SKU1\"]},\"props\":{\"numericPropExampleA\":{\"value\":1000},\"numericPropExampleB\":{\"value\":250},\"booleanPropExample\":{\"value\":true}}}}},\"geos\":{\"types\":{\"state\":{\"name\":\"State\",\"colorByOptions\":{\"numericPropExampleC\":{\"min\":0,\"max\":300,\"startGradientColor\":{\"dark\":\"rgb(100, 100, 100)\",\"light\":\"rgb(200, 200, 200)\"},\"endGradientColor\":{\"dark\":\"rgb(20, 205, 20)\",\"light\":\"rgb(10, 100, 10)\"}}},\"geoJson\":{\"geoJsonLayer\":\"https://geojsons.mitcave.com/world/world-states-provinces-md.json\",\"geoJsonProp\":\"code_hasc\"},\"icon\":\"BsHexagon\",\"props\":{\"numericPropExampleC\":{\"name\":\"Numeric Prop Example C\",\"type\":\"num\",\"enabled\":true,\"help\":\"Help with the example numeric prop for this State\",\"numberFormat\":{\"unit\":\"C units\"}}}},\"country\":{\"name\":\"Country\",\"colorByOptions\":{\"numericPropExampleC\":{\"min\":0,\"max\":800,\"startGradientColor\":{\"dark\":\"rgb(100, 100, 100)\",\"light\":\"rgb(200, 200, 200)\"},\"endGradientColor\":{\"dark\":\"rgb(20, 205, 20)\",\"light\":\"rgb(10, 100, 10)\"}}},\"geoJson\":{\"geoJsonLayer\":\"https://geojsons.mitcave.com/world/countries-sm.json\",\"geoJsonProp\":\"FIPS_10\"},\"icon\":\"BsHexagon\",\"props\":{\"numericPropExampleC\":{\"name\":\"Numeric Prop Example C\",\"type\":\"num\",\"enabled\":true,\"help\":\"Help with the example numeric prop for this Country\",\"numberFormat\":{\"unit\":\"units\"}}}}},\"data\":{\"geo1\":{\"name\":\"Ontario, Canada\",\"geoJsonValue\":\"CA.ON\",\"type\":\"state\",\"category\":{\"location\":[\"locCaOn\"]},\"props\":{\"numericPropExampleC\":{\"value\":50}}},\"geo2\":{\"name\":\"Michigan, USA\",\"geoJsonValue\":\"US.MI\",\"type\":\"state\",\"category\":{\"location\":[\"locUsMi\"]},\"props\":{\"numericPropExampleC\":{\"value\":300}}},\"geo3\":{\"name\":\"Massachusetts, USA\",\"geoJsonValue\":\"US.MA\",\"type\":\"state\",\"category\":{\"location\":[\"locUsMi\"]},\"props\":{\"numericPropExampleC\":{\"value\":250}}},\"geo4\":{\"name\":\"Florida, USA\",\"geoJsonValue\":\"US.FL\",\"type\":\"state\",\"category\":{\"location\":[\"locUsMi\"]},\"props\":{\"numericPropExampleC\":{\"value\":100}}},\"geo5\":{\"name\":\"Indiana, USA\",\"geoJsonValue\":\"US.FL\",\"type\":\"state\",\"category\":{\"location\":[\"locUsMi\"]},\"props\":{\"numericPropExampleC\":{\"value\":200}}},\"geoCountry1\":{\"name\":\"Canada\",\"geoJsonValue\":\"CA\",\"type\":\"country\",\"category\":{\"location\":[\"locCaOn\"]},\"props\":{\"numericPropExampleC\":{\"value\":50}}},\"geoCountry2\":{\"name\":\"USA\",\"geoJsonValue\":\"US\",\"type\":\"country\",\"category\":{\"location\":[\"locUsFl\",\"locUsMa\",\"locUsIn\",\"locUsMi\"]},\"props\":{\"numericPropExampleC\":{\"value\":800}}}}},\"stats\":{\"types\":{\"numericStatExampleA\":{\"name\":\"Stat Example A\",\"calculation\":\"numericStatExampleA\",\"numberFormat\":{\"unit\":\"units\"},\"order\":1},\"numericStatExampleB\":{\"name\":\"Stat Example B\",\"calculation\":\"numericStatExampleB\",\"numberFormat\":{\"unit\":\"units\"},\"order\":2},\"numericExampleCalculationStat\":{\"name\":\"Stat A as a percentage of Stat B\",\"calculation\":\"numericStatExampleA / groupSum(\\\"numericStatExampleB\\\")\",\"groupByOptions\":[\"location\"],\"numberFormat\":{\"precision\":2,\"trailingZeros\":true,\"unitSpace\":false,\"unit\":\"%\"},\"order\":3}},\"data\":{\"d1\":{\"category\":{\"location\":[\"locCaOn\"],\"sku\":[\"SKU1\"]},\"values\":{\"numericStatExampleA\":5,\"numericStatExampleB\":10}},\"d2\":{\"category\":{\"location\":[\"locCaOn\"],\"sku\":[\"SKU2\"]},\"values\":{\"numericStatExampleA\":4,\"numericStatExampleB\":5}},\"d3\":{\"category\":{\"location\":[\"locUsMi\"],\"sku\":[\"SKU1\"]},\"values\":{\"numericStatExampleA\":6,\"numericStatExampleB\":7}},\"d4\":{\"category\":{\"location\":[\"locUsMi\"],\"sku\":[\"SKU2\"]},\"values\":{\"numericStatExampleA\":-3,\"numericStatExampleB\":5}},\"d5\":{\"category\":{\"location\":[\"locUsIn\"],\"sku\":[\"SKU2\"]},\"values\":{\"numericStatExampleA\":-3,\"numericStatExampleB\":-2}},\"d6\":{\"category\":{\"location\":[\"locUsFl\"],\"sku\":[\"SKU2\"]},\"values\":{\"numericStatExampleA\":1,\"numericStatExampleB\":-1}}}},\"kpis\":{\"data\":{\"kpiHeader1\":{\"type\":\"head\",\"name\":\"Example KPI Header 1\",\"icon\":\"BsInboxes\"},\"kpiHeader2\":{\"type\":\"head\",\"name\":\"Example KPI Header 2\",\"icon\":\"BsTruck\"},\"key1\":{\"name\":\"KPI Example 1\",\"value\":18,\"icon\":\"BsFillEmojiFrownFill\",\"mapKpi\":true,\"numberFormat\":{\"precision\":0,\"unit\":\"frowns\"}},\"key2\":{\"name\":\"KPI Example 2\",\"value\":32,\"icon\":\"BsFillEmojiSmileFill\",\"mapKpi\":true,\"numberFormat\":{\"precision\":0,\"unit\":\"smiles\"}},\"key3\":{\"name\":\"KPI Example 3\",\"icon\":\"BsInboxes\",\"numberFormat\":{\"precision\":4,\"trailingZeros\":true,\"unit\":\"units\"},\"value\":100},\"key4\":{\"name\":\"A Big Number\",\"icon\":\"BsTruck\",\"value\":10000000000000,\"numberFormat\":{\"precision\":0,\"unit\":\"units\"}},\"key5\":{\"name\":\"A Really Big Number\",\"icon\":\"MdExpand\",\"value\":9007199254740991,\"numberFormat\":{\"precision\":2,\"unit\":\"$\",\"currency\":true,\"trailingZeros\":false}}},\"layout\":{\"type\":\"grid\",\"numColumns\":\"auto\",\"numRows\":\"auto\",\"data\":{\"col1Row1\":{\"type\":\"item\",\"itemId\":\"kpiHeader1\",\"column\":1,\"row\":1},\"col1Row2\":{\"type\":\"item\",\"itemId\":\"key1\",\"column\":1,\"row\":2},\"col1Row3\":{\"type\":\"item\",\"itemId\":\"key4\",\"column\":1,\"row\":3},\"col1Row4\":{\"type\":\"item\",\"itemId\":\"key5\",\"column\":1,\"row\":4},\"col2Row1\":{\"type\":\"item\",\"itemId\":\"kpiHeader2\",\"column\":2,\"row\":1},\"col2Row2\":{\"type\":\"item\",\"itemId\":\"key2\",\"column\":2,\"row\":2},\"col2Row3\":{\"type\":\"item\",\"itemId\":\"key3\",\"column\":2,\"row\":3}}}},\"associated\":{\"data\":{\"1\":{\"name\":\"Personal (admin) -> Initial Session\",\"data\":{\"kpis\":{\"data\":{\"kpiHeader1\":{\"type\":\"head\",\"name\":\"Example KPI Header 1\",\"icon\":\"BsInboxes\"},\"kpiHeader2\":{\"type\":\"head\",\"name\":\"Example KPI Header 2\",\"icon\":\"BsTruck\"},\"key1\":{\"name\":\"KPI Example 1\",\"value\":18,\"icon\":\"BsFillEmojiFrownFill\",\"mapKpi\":true,\"numberFormat\":{\"precision\":0,\"unit\":\"frowns\"}},\"key2\":{\"name\":\"KPI Example 2\",\"value\":32,\"icon\":\"BsFillEmojiSmileFill\",\"mapKpi\":true,\"numberFormat\":{\"precision\":0,\"unit\":\"smiles\"}},\"key3\":{\"name\":\"KPI Example 3\",\"icon\":\"BsInboxes\",\"numberFormat\":{\"precision\":4,\"trailingZeros\":true,\"unit\":\"units\"},\"value\":100},\"key4\":{\"name\":\"A Big Number\",\"icon\":\"BsTruck\",\"value\":10000000000000,\"numberFormat\":{\"precision\":0,\"unit\":\"units\"}},\"key5\":{\"name\":\"A Really Big Number\",\"icon\":\"MdExpand\",\"value\":9007199254740991,\"numberFormat\":{\"precision\":2,\"unit\":\"$\",\"currency\":true,\"trailingZeros\":false}}},\"layout\":{\"type\":\"grid\",\"numColumns\":\"auto\",\"numRows\":\"auto\",\"data\":{\"col1Row1\":{\"type\":\"item\",\"itemId\":\"kpiHeader1\",\"column\":1,\"row\":1},\"col1Row2\":{\"type\":\"item\",\"itemId\":\"key1\",\"column\":1,\"row\":2},\"col1Row3\":{\"type\":\"item\",\"itemId\":\"key4\",\"column\":1,\"row\":3},\"col1Row4\":{\"type\":\"item\",\"itemId\":\"key5\",\"column\":1,\"row\":4},\"col2Row1\":{\"type\":\"item\",\"itemId\":\"kpiHeader2\",\"column\":2,\"row\":1},\"col2Row2\":{\"type\":\"item\",\"itemId\":\"key2\",\"column\":2,\"row\":2},\"col2Row3\":{\"type\":\"item\",\"itemId\":\"key3\",\"column\":2,\"row\":3}}}}}},\"2\":{\"name\":\"Personal (admin) -> Groupable\",\"data\":{\"kpis\":{\"data\":{\"kpiHeader1\":{\"type\":\"head\",\"name\":\"Example KPI Header 1\",\"icon\":\"BsInboxes\"},\"kpiHeader2\":{\"type\":\"head\",\"name\":\"Example KPI Header 2\",\"icon\":\"BsTruck\"},\"key1\":{\"name\":\"KPI Example 1\",\"value\":18,\"icon\":\"BsFillEmojiFrownFill\",\"mapKpi\":true,\"numberFormat\":{\"precision\":0,\"unit\":\"frowns\"}},\"key2\":{\"name\":\"KPI Example 2\",\"value\":32,\"icon\":\"BsFillEmojiSmileFill\",\"mapKpi\":true,\"numberFormat\":{\"precision\":0,\"unit\":\"smiles\"}},\"key3\":{\"name\":\"KPI Example 3\",\"icon\":\"BsInboxes\",\"numberFormat\":{\"precision\":4,\"trailingZeros\":true,\"unit\":\"units\"},\"value\":100},\"key4\":{\"name\":\"A Big Number\",\"icon\":\"BsTruck\",\"value\":10000000000000,\"numberFormat\":{\"precision\":0,\"unit\":\"units\"}},\"key5\":{\"name\":\"A Really Big Number\",\"icon\":\"MdExpand\",\"value\":9007199254740991,\"numberFormat\":{\"precision\":2,\"unit\":\"$\",\"currency\":true,\"trailingZeros\":false}}},\"layout\":{\"type\":\"grid\",\"numColumns\":\"auto\",\"numRows\":\"auto\",\"data\":{\"col1Row1\":{\"type\":\"item\",\"itemId\":\"kpiHeader1\",\"column\":1,\"row\":1},\"col1Row2\":{\"type\":\"item\",\"itemId\":\"key1\",\"column\":1,\"row\":2},\"col1Row3\":{\"type\":\"item\",\"itemId\":\"key4\",\"column\":1,\"row\":3},\"col1Row4\":{\"type\":\"item\",\"itemId\":\"key5\",\"column\":1,\"row\":4},\"col2Row1\":{\"type\":\"item\",\"itemId\":\"kpiHeader2\",\"column\":2,\"row\":1},\"col2Row2\":{\"type\":\"item\",\"itemId\":\"key2\",\"column\":2,\"row\":2},\"col2Row3\":{\"type\":\"item\",\"itemId\":\"key3\",\"column\":2,\"row\":3}}}}}},\"4\":{\"name\":\"Personal (admin) -> Geo session\",\"data\":{\"kpis\":{\"data\":{\"kpiHeader1\":{\"type\":\"head\",\"name\":\"Example KPI Header 1\",\"icon\":\"BsInboxes\"},\"kpiHeader2\":{\"type\":\"head\",\"name\":\"Example KPI Header 2\",\"icon\":\"BsTruck\"},\"key1\":{\"name\":\"KPI Example 1\",\"value\":18,\"icon\":\"BsFillEmojiFrownFill\",\"mapKpi\":true,\"numberFormat\":{\"precision\":0,\"unit\":\"frowns\"}},\"key2\":{\"name\":\"KPI Example 2\",\"value\":32,\"icon\":\"BsFillEmojiSmileFill\",\"mapKpi\":true,\"numberFormat\":{\"precision\":0,\"unit\":\"smiles\"}},\"key3\":{\"name\":\"KPI Example 3\",\"icon\":\"BsInboxes\",\"numberFormat\":{\"precision\":4,\"trailingZeros\":true,\"unit\":\"units\"},\"value\":100},\"key4\":{\"name\":\"A Big Number\",\"icon\":\"BsTruck\",\"value\":10000000000000,\"numberFormat\":{\"precision\":0,\"unit\":\"units\"}},\"key5\":{\"name\":\"A Really Big Number\",\"icon\":\"MdExpand\",\"value\":9007199254740991,\"numberFormat\":{\"precision\":2,\"unit\":\"$\",\"currency\":true,\"trailingZeros\":false}}},\"layout\":{\"type\":\"grid\",\"numColumns\":\"auto\",\"numRows\":\"auto\",\"data\":{\"col1Row1\":{\"type\":\"item\",\"itemId\":\"kpiHeader1\",\"column\":1,\"row\":1},\"col1Row2\":{\"type\":\"item\",\"itemId\":\"key1\",\"column\":1,\"row\":2},\"col1Row3\":{\"type\":\"item\",\"itemId\":\"key4\",\"column\":1,\"row\":3},\"col1Row4\":{\"type\":\"item\",\"itemId\":\"key5\",\"column\":1,\"row\":4},\"col2Row1\":{\"type\":\"item\",\"itemId\":\"kpiHeader2\",\"column\":2,\"row\":1},\"col2Row2\":{\"type\":\"item\",\"itemId\":\"key2\",\"column\":2,\"row\":2},\"col2Row3\":{\"type\":\"item\",\"itemId\":\"key3\",\"column\":2,\"row\":3}}}}}}},\"sendToApi\":false,\"allowModification\":false},\"dashboards\":{\"data\":{\"dash1\":{\"dashboardLayout\":[{\"chart\":\"Bar\",\"grouping\":\"Average\",\"statistic\":\"numericStatExampleA\"},{\"type\":\"kpis\",\"chart\":\"Bar\",\"grouping\":\"Sum\",\"sessions\":[\"Personal (admin) -> Geo session\",\"Personal (admin) -> Groupable\",\"Personal (admin) -> Initial Session\"],\"kpi\":[\"key4\",\"key5\",\"key3\",\"key1\",\"key2\"]},{\"chart\":\"Bar\",\"level\":\"region\",\"category\":\"location\",\"grouping\":\"Sum\",\"statistic\":\"numericExampleCalculationStat\",\"category2\":\"location\",\"level2\":\"country\"}],\"lockedLayout\":false}}},\"appBar\":{\"data\":{\"appBarId\":\"map1\",\"session\":{\"icon\":\"MdApi\",\"type\":\"pane\",\"bar\":\"upper\",\"order\":0},\"appSettings\":{\"icon\":\"MdOutlineSettings\",\"type\":\"pane\",\"bar\":\"upper\",\"order\":1},\"resetButton\":{\"icon\":\"MdSync\",\"color\":{\"dark\":\"rgb(255, 101, 101)\",\"light\":\"rgb(212, 0, 0)\"},\"apiCommand\":\"reset\",\"type\":\"button\",\"bar\":\"upper\",\"order\":2},\"buttonSolve\":{\"icon\":\"BsLightningFill\",\"color\":{\"dark\":\"rgb(178, 179, 55)\",\"light\":\"rgb(79, 79, 24)\"},\"apiCommand\":\"solve\",\"type\":\"button\",\"bar\":\"upper\",\"order\":2},\"examplePropsPane\":{\"icon\":\"FaCogs\",\"type\":\"pane\",\"bar\":\"upper\",\"order\":3},\"context\":{\"icon\":\"BsInboxes\",\"type\":\"pane\",\"order\":4,\"bar\":\"upper\"},\"filter\":{\"icon\":\"FaFilter\",\"type\":\"pane\",\"order\":5,\"bar\":\"upper\"},\"map1\":{\"type\":\"map\",\"icon\":\"FaMapMarkedAlt\",\"bar\":\"lower\",\"order\":1},\"map2\":{\"type\":\"map\",\"icon\":\"FaMapMarked\",\"bar\":\"lower\",\"order\":2},\"dash1\":{\"type\":\"stats\",\"icon\":\"MdInsertChart\",\"order\":3,\"bar\":\"lower\"},\"kpi1\":{\"type\":\"kpi\",\"icon\":\"MdSpeed\",\"bar\":\"lower\",\"order\":4}},\"paneState\":{}},\"versions\":{\"maps\":3,\"settings\":1,\"categories\":1,\"panes\":1,\"arcs\":1,\"nodes\":1,\"geos\":1,\"stats\":1,\"kpis\":1,\"associated\":2,\"dashboards\":27,\"appBar\":26}},\"local\":{\"settings\":{\"theme\":\"dark\",\"time\":0,\"touch\":false},\"kpis\":{},\"maps\":{}},\"utilities\":{\"loading\":{\"session_loading\":false,\"data_loading\":false},\"messages\":{},\"sessions\":{\"session_id\":2,\"data\":{\"1\":{\"teamId\":\"1\",\"teamName\":\"Personal (admin)\",\"teamLimitSessions\":\"3\",\"teamCountSessions\":\"3\",\"sessions\":{\"2\":{\"sessionId\":\"2\",\"sessionName\":\"Groupable\",\"sessionDescription\":\"\"},\"6\":{\"sessionId\":\"6\",\"sessionName\":\"Generic opt\",\"sessionDescription\":\"\"},\"8\":{\"sessionId\":\"8\",\"sessionName\":\"GeoJsonArcs\",\"sessionDescription\":\"\"}}}}},\"tokens\":{\"mapboxToken\":\"pk.eyJ1IjoiYWJ1c3RhbWFtMSIsImEiOiJjamZ2cHR0eXk0MTZpMzNtc25ycWMxbW16In0.pxTjZY0-q7o3tMRCE5UGkg\"}}}\n"
     ]
    }
   ],
   "source": [
    "state = \"\"\n",
    "with open('state.json') as f:\n",
    "    state = f.read()\n",
    "\n",
    "print(state)"
   ]
  },
  {
   "cell_type": "code",
   "execution_count": 40,
   "metadata": {},
   "outputs": [
    {
     "name": "stdout",
     "output_type": "stream",
     "text": [
      "663\n",
      "9208\n"
     ]
    }
   ],
   "source": [
    "print(tiktoken_len(texts[int(output['matches'][0]['id'])]))\n",
    "print(tiktoken_len(state))"
   ]
  },
  {
   "cell_type": "markdown",
   "metadata": {},
   "source": [
    "# Run Query through gpt4\n",
    "\n",
    "Note: Currently using gpt-3.5-turbo-16k as 32k gpt4 hasn't been publicly released yet"
   ]
  },
  {
   "cell_type": "code",
   "execution_count": 70,
   "metadata": {},
   "outputs": [
    {
     "name": "stdout",
     "output_type": "stream",
     "text": [
      "{\n",
      "  \"role\": \"assistant\",\n",
      "  \"content\": \"{\\\"path\\\": \\\"dashboards.data.dash1.dashboardLayout.0.category\\\", \\\"value\\\": \\\"sku\\\"}\"\n",
      "}\n"
     ]
    }
   ],
   "source": [
    "api_model = \"gpt-3.5-turbo-16k\"\n",
    "\n",
    "completion = openai.ChatCompletion.create(\n",
    "  model=api_model,\n",
    "  messages=[\n",
    "    {\"role\": \"system\", \"content\": \"Using the given documentation delimited by triple quotes and current api state encoded in JSON, respond to user requests with the path and value you would modify in the api to achieve the users desired action in the format \\n```{\\\"path\\\": path, \\\"value\\\": value}```\"},\n",
    "    {\"role\": \"user\", \"content\": '\"\"\"' + texts[int(output['matches'][1]['id'])] + '\"\"\" \\n\\n' + state + '\\n\\n' + query},\n",
    "  ]\n",
    ")\n",
    "\n",
    "print(completion.choices[0].message)\n"
   ]
  }
 ],
 "metadata": {
  "kernelspec": {
   "display_name": "Python 3",
   "language": "python",
   "name": "python3"
  },
  "language_info": {
   "codemirror_mode": {
    "name": "ipython",
    "version": 3
   },
   "file_extension": ".py",
   "mimetype": "text/x-python",
   "name": "python",
   "nbconvert_exporter": "python",
   "pygments_lexer": "ipython3",
   "version": "3.11.4"
  },
  "orig_nbformat": 4
 },
 "nbformat": 4,
 "nbformat_minor": 2
}
