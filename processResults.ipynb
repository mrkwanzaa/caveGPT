{
 "cells": [
  {
   "cell_type": "code",
   "execution_count": 45,
   "metadata": {},
   "outputs": [],
   "source": [
    "import os\n",
    "import json"
   ]
  },
  {
   "cell_type": "code",
   "execution_count": 46,
   "metadata": {},
   "outputs": [],
   "source": [
    "model_tests = ['Gpt', 'Llama', 'Mixtral', 'Qwen']\n",
    "levels_tested = ['k1results', 'k5results', 'k10results']\n",
    "model_tested = 'Qwen32'\n",
    "model_results = {}"
   ]
  },
  {
   "cell_type": "code",
   "execution_count": 47,
   "metadata": {},
   "outputs": [],
   "source": [
    "read_json_file = lambda file: json.load(open(file, 'r'))\n",
    "import csv\n",
    "\n",
    "def create_csv_from_results(model_results):\n",
    "    with open(f'{model_tested}_results.csv', 'w', newline='') as csvfile:\n",
    "        fieldnames = ['level', 'prompt', 'Gpt', 'Llama', 'Mixtral', 'Qwen']\n",
    "        writer = csv.DictWriter(csvfile, fieldnames=fieldnames)\n",
    "        \n",
    "        writer.writeheader()\n",
    "        \n",
    "        for level, prompts in model_results.items():\n",
    "            for prompt, models in prompts.items():\n",
    "                row = {'level': level, 'prompt': prompt}\n",
    "                # Initialize all model results to 0 for each row\n",
    "                row.update({model: 0 for model in fieldnames[2:]})\n",
    "                # Update the row with actual results, if available\n",
    "                row.update({model: count for model, count in models.items()})\n",
    "                writer.writerow(row)\n",
    "\n",
    "# create_csv_from_results(model_results)"
   ]
  },
  {
   "cell_type": "code",
   "execution_count": 48,
   "metadata": {},
   "outputs": [
    {
     "name": "stdout",
     "output_type": "stream",
     "text": [
      "{'k1results': {'Color the country geo by learners': {'Gpt': 3, 'Llama': 0, 'Mixtral': 1, 'Qwen': 2}, 'Hide the country geo from the map': {'Gpt': 2, 'Llama': 1, 'Mixtral': 0, 'Qwen': 0}, 'Color the partner nodes by partner type': {'Gpt': 4, 'Llama': 7, 'Mixtral': 8, 'Qwen': 5}, 'Hide the Scale Centers nodes from the map': {'Gpt': 10, 'Llama': 10, 'Mixtral': 10, 'Qwen': 10}, 'Switch to the statistics dashboard': {'Gpt': 5, 'Llama': 3, 'Mixtral': 1, 'Qwen': 5}, 'Change the pass rate chart to verification rate': {'Gpt': 0, 'Llama': 0, 'Mixtral': 0, 'Qwen': 0}, 'Change the bottom right chart to show verification rate': {'Gpt': 0, 'Llama': 0, 'Mixtral': 0, 'Qwen': 0}, 'Open the settings pane': {'Gpt': 0, 'Llama': 0, 'Mixtral': 0, 'Qwen': 0}, 'Change the first chart to show total enrollments by year': {'Gpt': 0, 'Llama': 0, 'Mixtral': 0, 'Qwen': 0}, 'Change the top left chart to show total enrollments by year': {'Gpt': 0, 'Llama': 0, 'Mixtral': 0, 'Qwen': 0}, 'Change the credentials earned chart to a line chart': {'Gpt': 0, 'Llama': 0, 'Mixtral': 0, 'Qwen': 0}, 'Activate demo mode': {'Gpt': 0, 'Llama': 0, 'Mixtral': 0, 'Qwen': 0}, 'Remove the last chart': {'Gpt': 0, 'Llama': 0, 'Mixtral': 0, 'Qwen': 0}, 'Remove all the charts': {'Gpt': 0, 'Llama': 0, 'Mixtral': 0, 'Qwen': 0}, 'Open the United States country model': {'Gpt': 0, 'Llama': 0, 'Mixtral': 0, 'Qwen': 0}}, 'k5results': {'Color the country geo by learners': {'Gpt': 3, 'Llama': 0, 'Mixtral': 1, 'Qwen': 3}, 'Hide the country geo from the map': {'Gpt': 2, 'Llama': 3, 'Mixtral': 0, 'Qwen': 0}, 'Color the partner nodes by partner type': {'Gpt': 4, 'Llama': 7, 'Mixtral': 8, 'Qwen': 5}, 'Hide the Scale Centers nodes from the map': {'Gpt': 10, 'Llama': 10, 'Mixtral': 10, 'Qwen': 10}, 'Switch to the statistics dashboard': {'Gpt': 5, 'Llama': 3, 'Mixtral': 2, 'Qwen': 5}, 'Change the pass rate chart to verification rate': {'Gpt': 0, 'Llama': 0, 'Mixtral': 0, 'Qwen': 0}, 'Change the bottom right chart to show verification rate': {'Gpt': 0, 'Llama': 0, 'Mixtral': 0, 'Qwen': 0}, 'Open the settings pane': {'Gpt': 0, 'Llama': 0, 'Mixtral': 0, 'Qwen': 0}, 'Change the first chart to show total enrollments by year': {'Gpt': 0, 'Llama': 0, 'Mixtral': 0, 'Qwen': 0}, 'Change the top left chart to show total enrollments by year': {'Gpt': 0, 'Llama': 0, 'Mixtral': 0, 'Qwen': 0}, 'Change the credentials earned chart to a line chart': {'Gpt': 0, 'Llama': 0, 'Mixtral': 0, 'Qwen': 0}, 'Activate demo mode': {'Gpt': 0, 'Llama': 0, 'Mixtral': 0, 'Qwen': 0}, 'Remove the last chart': {'Gpt': 0, 'Llama': 0, 'Mixtral': 0, 'Qwen': 0}, 'Remove all the charts': {'Gpt': 0, 'Llama': 1, 'Mixtral': 0, 'Qwen': 0}, 'Open the United States country model': {'Gpt': 0, 'Llama': 0, 'Mixtral': 0, 'Qwen': 0}}, 'k10results': {'Color the country geo by learners': {'Gpt': 3, 'Llama': 1, 'Mixtral': 1, 'Qwen': 3}, 'Hide the country geo from the map': {'Gpt': 2, 'Llama': 3, 'Mixtral': 0, 'Qwen': 0}, 'Color the partner nodes by partner type': {'Gpt': 4, 'Llama': 7, 'Mixtral': 8, 'Qwen': 6}, 'Hide the Scale Centers nodes from the map': {'Gpt': 10, 'Llama': 10, 'Mixtral': 10, 'Qwen': 10}, 'Switch to the statistics dashboard': {'Gpt': 5, 'Llama': 3, 'Mixtral': 2, 'Qwen': 5}, 'Change the pass rate chart to verification rate': {'Gpt': 0, 'Llama': 0, 'Mixtral': 0, 'Qwen': 0}, 'Change the bottom right chart to show verification rate': {'Gpt': 0, 'Llama': 0, 'Mixtral': 0, 'Qwen': 0}, 'Open the settings pane': {'Gpt': 0, 'Llama': 0, 'Mixtral': 0, 'Qwen': 0}, 'Change the first chart to show total enrollments by year': {'Gpt': 0, 'Llama': 0, 'Mixtral': 0, 'Qwen': 0}, 'Change the top left chart to show total enrollments by year': {'Gpt': 0, 'Llama': 0, 'Mixtral': 0, 'Qwen': 0}, 'Change the credentials earned chart to a line chart': {'Gpt': 0, 'Llama': 0, 'Mixtral': 0, 'Qwen': 0}, 'Activate demo mode': {'Gpt': 0, 'Llama': 0, 'Mixtral': 0, 'Qwen': 0}, 'Remove the last chart': {'Gpt': 0, 'Llama': 0, 'Mixtral': 0, 'Qwen': 0}, 'Remove all the charts': {'Gpt': 0, 'Llama': 0, 'Mixtral': 0, 'Qwen': 0}, 'Open the United States country model': {'Gpt': 0, 'Llama': 0, 'Mixtral': 0, 'Qwen': 0}}}\n"
     ]
    }
   ],
   "source": [
    "for level in levels_tested:\n",
    "    model_results[level] = {}\n",
    "    for model in model_tests:\n",
    "        results_dict = read_json_file(f'./results/{level}/{model}/{model_tested}on{model}results.json')\n",
    "        for key in results_dict.keys():\n",
    "            if key not in model_results[level]:\n",
    "                model_results[level][key] = {}\n",
    "            if model not in model_results[level][key]:\n",
    "                model_results[level][key][model] = 0\n",
    "            for value in results_dict[key].values():\n",
    "                model_results[level][key][model] += 1 if value == True else 0\n",
    "\n",
    "print(model_results)"
   ]
  },
  {
   "cell_type": "code",
   "execution_count": 49,
   "metadata": {},
   "outputs": [],
   "source": [
    "create_csv_from_results(model_results)"
   ]
  }
 ],
 "metadata": {
  "kernelspec": {
   "display_name": "venv",
   "language": "python",
   "name": "python3"
  },
  "language_info": {
   "codemirror_mode": {
    "name": "ipython",
    "version": 3
   },
   "file_extension": ".py",
   "mimetype": "text/x-python",
   "name": "python",
   "nbconvert_exporter": "python",
   "pygments_lexer": "ipython3",
   "version": "3.10.12"
  }
 },
 "nbformat": 4,
 "nbformat_minor": 2
}
