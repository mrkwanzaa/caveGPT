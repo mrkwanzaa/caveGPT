{
 "cells": [
  {
   "cell_type": "markdown",
   "metadata": {},
   "source": [
    "# Code"
   ]
  },
  {
   "cell_type": "code",
   "execution_count": 2,
   "metadata": {},
   "outputs": [],
   "source": [
    "# Imports and setup model\n",
    "import os\n",
    "import openai\n",
    "import json\n",
    "import configobj\n",
    "import tiktoken\n",
    "from time import sleep"
   ]
  },
  {
   "cell_type": "code",
   "execution_count": 3,
   "metadata": {},
   "outputs": [],
   "source": [
    "# Setup env vars and constants\n",
    "config = configobj.ConfigObj('.env')\n",
    "openai.api_key = config[\"OPENAI_API_KEY\"]\n",
    "\n",
    "embedding_model = \"text-embedding-ada-002\" \n",
    "api_model = \"gpt-4\"\n",
    "dimensions = 1536\n",
    "docs_dir = 'docs/'\n",
    "typed_keys = ['arcs', 'geos', 'nodes', 'stats']"
   ]
  },
  {
   "cell_type": "code",
   "execution_count": 4,
   "metadata": {},
   "outputs": [],
   "source": [
    "#Setup Tokenizer\n",
    "tokenizer_name = tiktoken.encoding_for_model(api_model)\n",
    "tokenizer = tiktoken.get_encoding(tokenizer_name.name)\n",
    "\n",
    "# create the length function\n",
    "def tiktoken_len(text):\n",
    "    tokens = tokenizer.encode(\n",
    "        text,\n",
    "        disallowed_special=()\n",
    "    )\n",
    "    return len(tokens)\n"
   ]
  },
  {
   "cell_type": "code",
   "execution_count": 5,
   "metadata": {},
   "outputs": [],
   "source": [
    "# load docs\n",
    "texts = []\n",
    "docs_by_name = {}\n",
    "\n",
    "for doc in os.listdir(docs_dir):\n",
    "    with open(docs_dir + doc, 'r') as f:\n",
    "        text = f.read()\n",
    "        texts.append(text)\n",
    "        docs_by_name[doc[0:-3]] = text"
   ]
  },
  {
   "cell_type": "code",
   "execution_count": 6,
   "metadata": {},
   "outputs": [],
   "source": [
    "state = \"\"\n",
    "with open('state.json') as f:\n",
    "    state = f.read()"
   ]
  },
  {
   "cell_type": "code",
   "execution_count": 7,
   "metadata": {},
   "outputs": [
    {
     "name": "stdout",
     "output_type": "stream",
     "text": [
      "918\n"
     ]
    }
   ],
   "source": [
    "topLevel = \"\"\n",
    "with open(f'{docs_dir}topLevelInfo.md') as f:\n",
    "    topLevel = f.read()\n",
    "\n",
    "print(tiktoken_len(topLevel))"
   ]
  },
  {
   "cell_type": "code",
   "execution_count": 8,
   "metadata": {},
   "outputs": [],
   "source": [
    "query = \"Color railroad stations by whether they're active\""
   ]
  },
  {
   "cell_type": "markdown",
   "metadata": {},
   "source": [
    "# Run Query through gpt4\n",
    "\n",
    "Note: Currently using gpt-4(8k) as gpt-4-32k hasn't been publicly released yet and gpt-3.5-turbo-16k isn't great"
   ]
  },
  {
   "cell_type": "code",
   "execution_count": 12,
   "metadata": {},
   "outputs": [
    {
     "name": "stdout",
     "output_type": "stream",
     "text": [
      "maps\n"
     ]
    }
   ],
   "source": [
    "completion = openai.ChatCompletion.create(\n",
    "  model=api_model,\n",
    "  temperature=0.1,\n",
    "  messages=[\n",
    "    {\"role\": \"system\", \"content\": \"Using the given documentation delimited by triple quotes, respond to user requests with nothing but the name of the top-level key that must be edited in order to fufill the request surrounded by single quotes\"},\n",
    "    {\"role\": \"user\", \"content\": '\"\"\"' + topLevel + '\"\"\" \\n\\n' + 'request: ' + query},\n",
    "  ]\n",
    ")\n",
    "current_key = completion.choices[0].message.content.replace(\"'\", '')\n",
    "\n",
    "print(current_key)"
   ]
  },
  {
   "cell_type": "code",
   "execution_count": 13,
   "metadata": {},
   "outputs": [
    {
     "name": "stdout",
     "output_type": "stream",
     "text": [
      "496\n",
      "470\n",
      "1\n"
     ]
    }
   ],
   "source": [
    "encoded_data = json.dumps(json.loads(state)[current_key])\n",
    "max_size = False\n",
    "chunks = [None]\n",
    "if tiktoken_len(encoded_data) > 7000:\n",
    "    max_size = True\n",
    "    key_dict = json.loads(state)[current_key]\n",
    "    chunks[-1] = {i:key_dict[i] for i in key_dict if i!='data'}\n",
    "    chunks[-1]['data'] = {}\n",
    "else:\n",
    "    chunks = [encoded_data]\n",
    "print(tiktoken_len(json.dumps(chunks)))\n",
    "if max_size:\n",
    "    for key, value in key_dict['data'].items():\n",
    "        if tiktoken_len(json.dumps(chunks[-1]) + json.dumps({key: value})) > 7000:\n",
    "            chunks.append({i:key_dict[i] for i in key_dict if i!='data'})\n",
    "            chunks[-1]['data'] = {key: value}\n",
    "        else:\n",
    "            chunks[-1]['data'][key] = value      \n",
    "    for idx, chunk in enumerate(chunks):\n",
    "        chunks[idx] = json.dumps(chunk)\n",
    "\n",
    "for data in chunks:\n",
    "    print(tiktoken_len(data))\n",
    "\n",
    "print(len(chunks))"
   ]
  },
  {
   "cell_type": "code",
   "execution_count": 27,
   "metadata": {},
   "outputs": [
    {
     "data": {
      "text/plain": [
       "'{\"name\": \"Geos\", \"types\": {\"DHLAppDistrict\": {\"name\": \"Districts\", \"colorByOptions\": {\"population\": {\"min\": 0, \"max\": 1000000, \"startGradientColor\": {\"dark\": \"rgb(100, 100, 100)\", \"light\": \"rgb(200, 200, 200)\"}, \"endGradientColor\": {\"dark\": \"rgb(20, 200, 20)\", \"light\": \"rgb(10, 100, 10)\"}}, \"pop_density\": {\"min\": 0, \"max\": 2000, \"startGradientColor\": {\"dark\": \"rgb(100, 100, 100)\", \"light\": \"rgb(200, 200, 200)\"}, \"endGradientColor\": {\"dark\": \"rgb(220, 0, 0)\", \"light\": \"rgb(110, 100, 10)\"}}, \"demand\": {\"min\": 0, \"max\": 300, \"startGradientColor\": {\"dark\": \"rgb(100, 100, 100)\", \"light\": \"rgb(200, 200, 200)\"}, \"endGradientColor\": {\"dark\": \"rgb(255, 175, 0)\", \"light\": \"rgb(10, 100, 10)\"}}, \"demand_percServed\": {\"min\": 0, \"max\": 100, \"startGradientColor\": {\"dark\": \"rgb(100, 100, 100)\", \"light\": \"rgb(200, 200, 200)\"}, \"endGradientColor\": {\"dark\": \"rgb(0, 255, 0)\", \"light\": \"rgb(10, 100, 10)\"}}, \"avgServiceSpeed\": {\"min\": 0, \"max\": 5, \"startGradientColor\": {\"dark\": \"rgb(0, 150, 250)\", \"light\": \"rgb(200, 200, 200)\"}, \"endGradientColor\": {\"dark\": \"rgb(150, 0, 0)\", \"light\": \"rgb(10, 100, 10)\"}}}, \"colorBy\": \"demand\", \"geoJson\": {\"geoJsonLayer\": \"https://geojsons.mitcave.com/europe/eur-adm2-v2-md.json\", \"geoJsonProp\": \"ID_2\"}, \"icon\": \"BsHexagon\", \"props\": {\"population\": {\"name\": \"Population\", \"type\": \"num\", \"enabled\": true, \"help\": \"Pop count of district\", \"numberFormat\": {\"unit\": \"people\"}}, \"pop_density\": {\"name\": \"Population Density\", \"type\": \"num\", \"enabled\": true, \"help\": \"Pop density of district\", \"numberFormat\": {\"unit\": \"people\"}}, \"demand\": {\"name\": \"Demand\", \"type\": \"num\", \"enabled\": true, \"help\": \"Demand of district\", \"numberFormat\": {\"unit\": \"units\"}}, \"demand_percServed\": {\"name\": \"Demand Served\", \"type\": \"num\", \"enabled\": false, \"help\": \"Share of demand served\", \"numberFormat\": {\"unit\": \"%\"}}, \"avgServiceSpeed\": {\"name\": \"Avg. Lead Time\", \"type\": \"num\", \"enabled\": false, \"help\": \"Delivery lead time\", \"numberFormat\": {\"unit\": \"days\"}}, \"servedFrom\": {\"name\": \"Serving facilities\", \"type\": \"text\", \"enabled\": false, \"help\": \"Facilities serving this area\"}}, \"layout\": {\"type\": \"grid\", \"numColumns\": \"auto\", \"numRows\": 1, \"data\": {\"col1\": {\"type\": \"item\", \"itemId\": \"population\", \"col\": 1}, \"col2\": {\"type\": \"item\", \"itemId\": \"pop_density\", \"col\": 2}, \"col3\": {\"type\": \"item\", \"itemId\": \"demand\", \"col\": 3}, \"col4\": {\"type\": \"item\", \"itemId\": \"demand_percServed\", \"col\": 4}, \"col5\": {\"type\": \"item\", \"itemId\": \"avgServiceSpeed\", \"col\": 5}, \"col6\": {\"type\": \"item\", \"itemId\": \"servedFrom\", \"col\": 6}}}}}, \"data\": {\"FRA.10.3_1\": {\"geoJsonValue\": \"FRA.10.3_1\", \"name\": \"Corr\\\\u00e8ze\", \"type\": \"DHLAppDistrict\", \"props\": {\"population\": {\"value\": 242132}, \"area\": {\"value\": 5899.446395810524}, \"pop_density\": {\"value\": 41.04317316484973}, \"demand\": {\"value\": 57.72472126640733}, \"centroid\": {\"value\": [1.8778082187811551, 45.357284173692676]}, \"normalized_population\": {\"value\": 0.0274492731304285}, \"normalized_pop_density\": {\"value\": 0.001963576927062232}, \"demand_percServed\": {\"value\": 99.99999953848659}, \"avgServiceSpeed\": {\"value\": 1.5711509}, \"servedFrom\": {\"value\": \" WHClermont\"}}}, \"FRA.8.8_1\": {\"geoJsonValue\": \"FRA.8.8_1\", \"name\": \"Yvelines\", \"type\": \"DHLAppDistrict\", \"props\": {\"population\": {\"value\": 1465898}, \"area\": {\"value\": 2302.87824076687}, \"pop_density\": {\"value\": 636.5503716392095}, \"demand\": {\"value\": 284.00387016034307}, \"centroid\": {\"value\": [1.8414145561542339, 48.815284425807334]}, \"normalized_population\": {\"value\": 0.16622725134061458}, \"normalized_pop_density\": {\"value\": 0.030653313959106136}, \"demand_percServed\": {\"value\": 99.99999994354195}, \"avgServiceSpeed\": {\"value\": 1.4083801}, \"servedFrom\": {\"value\": \" WHVersailles\"}}}, \"FRA.11.13_1\": {\"geoJsonValue\": \"FRA.11.13_1\", \"name\": \"Tarn\", \"type\": \"DHLAppDistrict\", \"props\": {\"population\": {\"value\": 393823}, \"area\": {\"value\": 5781.3883562744495}, \"pop_density\": {\"value\": 68.11910491579243}, \"demand\": {\"value\": 78.40845553413017}, \"centroid\": {\"value\": [2.165664892476032, 43.78563253755186]}, \"normalized_population\": {\"value\": 0.044651393709592604}, \"normalized_pop_density\": {\"value\": 0.003268013487732221}, \"demand_percServed\": {\"value\": 100.00000059415765}, \"avgServiceSpeed\": {\"value\": 1.6439537}, \"servedFrom\": {\"value\": \" WHMontpellier\"}}}, \"FRA.2.7_1\": {\"geoJsonValue\": \"FRA.2.7_1\", \"name\": \"Territoire de Belfort\", \"type\": \"DHLAppDistrict\", \"props\": {\"population\": {\"value\": 141107}, \"area\": {\"value\": 611.2667795490989}, \"pop_density\": {\"value\": 230.84356081658424}, \"demand\": {\"value\": 124.40085116043325}, \"centroid\": {\"value\": [6.928462086700664, 47.63181006954735]}, \"normalized_population\": {\"value\": 0.015992797587976715}, \"normalized_pop_density\": {\"value\": 0.011107585973902849}, \"demand_percServed\": {\"value\": 99.99999906718223}, \"avgServiceSpeed\": {\"value\": 0.71283445}, \"servedFrom\": {\"value\": \" WHBasel\"}}}, \"FRA.10.2_1\": {\"geoJsonValue\": \"FRA.10.2_1\", \"name\": \"Charente\", \"type\": \"DHLAppDistrict\", \"props\": {\"population\": {\"value\": 354411}, \"area\": {\"value\": 5973.019956595153}, \"pop_density\": {\"value\": 59.335311546828926}, \"demand\": {\"value\": 72.21872080951647}, \"centroid\": {\"value\": [0.20291287277986594, 45.71859648345286]}, \"normalized_population\": {\"value\": 0.040181979068868924}, \"normalized_pop_density\": {\"value\": 0.0028448368703126677}, \"demand_percServed\": {\"value\": 100.00000026375922}, \"avgServiceSpeed\": {\"value\": 1.9209305}, \"servedFrom\": {\"value\": \" WHClermont\"}}}, \"FRA.9.5_1\": {\"geoJsonValue\": \"FRA.9.5_1\", \"name\": \"Seine-Maritime\", \"type\": \"DHLAppDistrict\", \"props\": {\"population\": {\"value\": 1263125}, \"area\": {\"value\": 6320.767814300792}, \"pop_density\": {\"value\": 199.8372724817021}, \"demand\": {\"value\": 150.62400789538341}, \"centroid\": {\"value\": [1.0264771113132334, 49.65460475165062]}, \"normalized_population\": {\"value\": 0.14323231033423425}, \"normalized_pop_density\": {\"value\": 0.009613796711663057}, \"demand_percServed\": {\"value\": 100.00000139726502}, \"avgServiceSpeed\": {\"value\": 1.72583}, \"servedFrom\": {\"value\": \" WHVersailles\"}}}, \"FRA.11.1_1\": {\"geoJsonValue\": \"FRA.11.1_1\", \"name\": \"Ari\\\\u00e8ge\", \"type\": \"DHLAppDistrict\", \"props\": {\"population\": {\"value\": 155105}, \"area\": {\"value\": 4922.882514284466}, \"pop_density\": {\"value\": 31.50694731185237}, \"demand\": {\"value\": 48.759464114223064}, \"centroid\": {\"value\": [1.5035183047768783, 42.920298393950176]}, \"normalized_population\": {\"value\": 0.017580204117481693}, \"normalized_pop_density\": {\"value\": 0.0015041503866247826}, \"demand_percServed\": {\"value\": 99.99999976574175}, \"avgServiceSpeed\": {\"value\": 2.7560525}, \"servedFrom\": {\"value\": \" WHBarcelona\"}}}, \"FRA.11.7_1\": {\"geoJsonValue\": \"FRA.11.7_1\", \"name\": \"Hautes-Pyr\\\\u00e9n\\\\u00e9es\", \"type\": \"DHLAppDistrict\", \"props\": {\"population\": {\"value\": 231204}, \"area\": {\"value\": 4528.526043268489}, \"pop_density\": {\"value\": 51.05502271399708}, \"demand\": {\"value\": 65.10852754223966}, \"centroid\": {\"value\": [0.16379875138265707, 43.05334026136004]}, \"normalized_population\": {\"value\": 0.02621001191065208}, \"normalized_pop_density\": {\"value\": 0.0024459175797114413}, \"demand_percServed\": {\"value\": 100.0000007030728}, \"avgServiceSpeed\": {\"value\": 3.2065674}, \"servedFrom\": {\"value\": \" WHZaragoza\"}}}, \"FRA.13.6_1\": {\"geoJsonValue\": \"FRA.13.6_1\", \"name\": \"Vaucluse\", \"type\": \"DHLAppDistrict\", \"props\": {\"population\": {\"value\": 566892}, \"area\": {\"value\": 3578.976583125962}, \"pop_density\": {\"value\": 158.3950011499833}, \"demand\": {\"value\": 127.29292923738642}, \"centroid\": {\"value\": [5.177163356005927, 44.00718387612974]}, \"normalized_population\": {\"value\": 0.06427783039018244}, \"normalized_pop_density\": {\"value\": 0.007617233329115102}, \"demand_percServed\": {\"value\": 100.00000059910128}, \"avgServiceSpeed\": {\"value\": 1.5330004}, \"servedFrom\": {\"value\": \" WHMontpellier\"}}}, \"FRA.10.1_1\": {\"geoJsonValue\": \"FRA.10.1_1\", \"name\": \"Charente-Maritime\", \"type\": \"DHLAppDistrict\", \"props\": {\"population\": {\"value\": 648421}, \"area\": {\"value\": 6944.9178508868135}, \"pop_density\": {\"value\": 93.3662591728427}, \"demand\": {\"value\": 95.52604977166891}, \"centroid\": {\"value\": [-0.6778629798926689, 45.78207606792872]}, \"normalized_population\": {\"value\": 0.07352341311228638}, \"normalized_pop_density\": {\"value\": 0.004484345075827049}, \"demand_percServed\": {\"value\": 100.00000023902494}, \"avgServiceSpeed\": {\"value\": 2.7284327}, \"servedFrom\": {\"value\": \" WHNantes\"}}}, \"FRA.7.5_1\": {\"geoJsonValue\": \"FRA.7.5_1\", \"name\": \"Somme\", \"type\": \"DHLAppDistrict\", \"props\": {\"population\": {\"value\": 573405}, \"area\": {\"value\": 6208.746258441704}, \"pop_density\": {\"value\": 92.35439429021142}, \"demand\": {\"value\": 94.51212707084278}, \"centroid\": {\"value\": [2.2740320045031948, 49.95882548338513]}, \"normalized_population\": {\"value\": 0.06501642009775965}, \"normalized_pop_density\": {\"value\": 0.004435596483922494}, \"demand_percServed\": {\"value\": 99.99999992504371}, \"avgServiceSpeed\": {\"value\": 1.7472591}, \"servedFrom\": {\"value\": \" WHVersailles\"}}}, \"FRA.9.2_1\": {\"geoJsonValue\": \"FRA.9.2_1\", \"name\": \"Eure\", \"type\": \"DHLAppDistrict\", \"props\": {\"population\": {\"value\": 602684}, \"area\": {\"value\": 6030.214306613019}, \"pop_density\": {\"value\": 99.94404333840475}, \"demand\": {\"value\": 99.01526303346833}, \"centroid\": {\"value\": [0.996168798247352, 49.11369488849036]}, \"normalized_population\": {\"value\": 0.06833672841161707}, \"normalized_pop_density\": {\"value\": 0.004801242837007753}, \"demand_percServed\": {\"value\": 99.99999996619883}, \"avgServiceSpeed\": {\"value\": 1.6240178}, \"servedFrom\": {\"value\": \" WHVersailles\"}}}, \"FRA.8.7_1\": {\"geoJsonValue\": \"FRA.8.7_1\", \"name\": \"Val-de-Marne\", \"type\": \"DHLAppDistrict\", \"props\": {\"population\": {\"value\": 1418874}, \"area\": {\"value\": 245.53435749367955}, \"pop_density\": {\"value\": 5778.718768661629}, \"demand\": {\"value\": 646.9846512119376}, \"centroid\": {\"value\": [2.4687908876299045, 48.777399687278724]}, \"normalized_population\": {\"value\": 0.16089461777557373}, \"normalized_pop_density\": {\"value\": 0.2783874462466975}, \"demand_percServed\": {\"value\": 99.99999981267908}, \"avgServiceSpeed\": {\"value\": 1.4183086}, \"servedFrom\": {\"value\": \" WHVersailles\"}}}, \"FRA.7.4_1\": {\"geoJsonValue\": \"FRA.7.4_1\", \"name\": \"Pas-de-Calais\", \"type\": \"DHLAppDistrict\", \"props\": {\"population\": {\"value\": 1473913}, \"area\": {\"value\": 6700.643297930224}, \"pop_density\": {\"value\": 219.96589498433383}, \"demand\": {\"value\": 159.92658287640825}, \"centroid\": {\"value\": [2.2852618282867225, 50.49456682032216]}, \"normalized_population\": {\"value\": 0.16713617142448245}, \"normalized_pop_density\": {\"value\": 0.010583532909474358}, \"demand_percServed\": {\"value\": 99.99999820141954}, \"avgServiceSpeed\": {\"value\": 1.9206633}, \"servedFrom\": {\"value\": \" WHVersailles\"}}}, \"FRA.10.12_1\": {\"geoJsonValue\": \"FRA.10.12_1\", \"name\": \"Vienne\", \"type\": \"DHLAppDistrict\", \"props\": {\"population\": {\"value\": 443662}, \"area\": {\"value\": 7035.063800598466}, \"pop_density\": {\"value\": 63.06438897714874}, \"demand\": {\"value\": 75.387898337772}, \"centroid\": {\"value\": [0.4594999479885747, 46.56482510734112]}, \"normalized_population\": {\"value\": 0.05030325497720215}, \"normalized_pop_density\": {\"value\": 0.0030244925505833603}, \"demand_percServed\": {\"value\": 99.99999955195462}, \"avgServiceSpeed\": {\"value\": 2.7316018}, \"servedFrom\": {\"value\": \" WHNantes\"}}}, \"FRA.6.2_1\": {\"geoJsonValue\": \"FRA.6.2_1\", \"name\": \"Aube\", \"type\": \"DHLAppDistrict\", \"props\": {\"population\": {\"value\": 313658}, \"area\": {\"value\": 6022.346251118728}, \"pop_density\": {\"value\": 52.08235908749584}, \"demand\": {\"value\": 66.75576215736069}, \"centroid\": {\"value\": [4.161277856255947, 48.304517671808306]}, \"normalized_population\": {\"value\": 0.03556049183519867}, \"normalized_pop_density\": {\"value\": 0.002495411541286789}, \"demand_percServed\": {\"value\": 99.999999764274}, \"avgServiceSpeed\": {\"value\": 1.8379581}, \"servedFrom\": {\"value\": \" WHVersailles\"}}}, \"FRA.1.10_1\": {\"geoJsonValue\": \"FRA.1.10_1\", \"name\": \"Puy-de-D\\\\u00f4me\", \"type\": \"DHLAppDistrict\", \"props\": {\"population\": {\"value\": 673442}, \"area\": {\"value\": 8010.964100528701}, \"pop_density\": {\"value\": 84.06503780931371}, \"demand\": {\"value\": 90.07459104262551}, \"centroid\": {\"value\": [3.140042470463562, 45.72594902028579]}, \"normalized_population\": {\"value\": 0.07636085408776459}, \"normalized_pop_density\": {\"value\": 0.00403624034144244}, \"demand_percServed\": {\"value\": 99.99999995267754}, \"avgServiceSpeed\": {\"value\": 1.2635001}, \"servedFrom\": {\"value\": \" WHClermont\"}}}, \"FRA.11.11_1\": {\"geoJsonValue\": \"FRA.11.11_1\", \"name\": \"Pyr\\\\u00e9n\\\\u00e9es-Orientales\", \"type\": \"DHLAppDistrict\", \"props\": {\"population\": {\"value\": 479141}, \"area\": {\"value\": 4122.721780222636}, \"pop_density\": {\"value\": 116.21958151493922}, \"demand\": {\"value\": 106.5162799338293}, \"centroid\": {\"value\": [2.5180220650082394, 42.597823657003445]}, \"normalized_population\": {\"value\": 0.05432665805337782}, \"normalized_pop_density\": {\"value\": 0.005585349077093564}, \"demand_percServed\": {\"value\": 100.00000006212261}, \"avgServiceSpeed\": {\"value\": 1.6848173}, \"servedFrom\": {\"value\": \" WHMontpellier\"}}}, \"FRA.12.1_1\": {\"geoJsonValue\": \"FRA.12.1_1\", \"name\": \"Loire-Atlantique\", \"type\": \"DHLAppDistrict\", \"props\": {\"population\": {\"value\": 1434843}, \"area\": {\"value\": 6901.1989200531725}, \"pop_density\": {\"value\": 207.9121347785965}, \"demand\": {\"value\": 154.75255377451043}, \"centroid\": {\"value\": [-1.6803974711034835, 47.36180439024642]}, \"normalized_population\": {\"value\": 0.1627055403980673}, \"normalized_pop_density\": {\"value\": 0.010002819172619658}, \"demand_percServed\": {\"value\": 99.9999975609382}, \"avgServiceSpeed\": {\"value\": 2.2679164}, \"servedFrom\": {\"value\": \" WHNantes\"}}}, \"FRA.4.5_1\": {\"geoJsonValue\": \"FRA.4.5_1\", \"name\": \"Loir-et-Cher\", \"type\": \"DHLAppDistrict\", \"props\": {\"population\": {\"value\": 331866}, \"area\": {\"value\": 6415.5508292700415}, \"pop_density\": {\"value\": 51.72837201848802}, \"demand\": {\"value\": 66.64204143805779}, \"centroid\": {\"value\": [1.427823294102829, 47.616851351225996]}, \"normalized_population\": {\"value\": 0.03762532238879394}, \"normalized_pop_density\": {\"value\": 0.002478357514150599}, \"demand_percServed\": {\"value\": 99.99999934267052}, \"avgServiceSpeed\": {\"value\": 1.7795147}, \"servedFrom\": {\"value\": \" WHVersailles\"}}}, \"FRA.11.8_1\": {\"geoJsonValue\": \"FRA.11.8_1\", \"name\": \"H\\\\u00e9rault\", \"type\": \"DHLAppDistrict\", \"props\": {\"population\": {\"value\": 1186579}, \"area\": {\"value\": 6228.849177494162}, \"pop_density\": {\"value\": 190.4973079597595}, \"demand\": {\"value\": 146.26281599647237}, \"centroid\": {\"value\": [3.3681392937792793, 43.57954596711368]}, \"normalized_population\": {\"value\": 0.13455181167674832}, \"normalized_pop_density\": {\"value\": 0.009163825448998816}, \"demand_percServed\": {\"value\": 100.00000273721493}, \"avgServiceSpeed\": {\"value\": 1.3423103}, \"servedFrom\": {\"value\": \" WHMontpellier\"}}}, \"FRA.4.6_1\": {\"geoJsonValue\": \"FRA.4.6_1\", \"name\": \"Loiret\", \"type\": \"DHLAppDistrict\", \"props\": {\"population\": {\"value\": 689254}, \"area\": {\"value\": 6807.379877668444}, \"pop_density\": {\"value\": 101.25099706292173}, \"demand\": {\"value\": 100.24787428120663}, \"centroid\": {\"value\": [2.343895238715338, 47.911886123229195]}, \"normalized_population\": {\"value\": 0.07815397253643817}, \"normalized_pop_density\": {\"value\": 0.004864207917472782}, \"demand_percServed\": {\"value\": 99.99999572937914}, \"avgServiceSpeed\": {\"value\": 1.6500327}, \"servedFrom\": {\"value\": \" WHVersailles\"}}}, \"FRA.10.10_1\": {\"geoJsonValue\": \"FRA.10.10_1\", \"name\": \"Lot-et-Garonne\", \"type\": \"DHLAppDistrict\", \"props\": {\"population\": {\"value\": 334866}, \"area\": {\"value\": 5385.966737579026}, \"pop_density\": {\"value\": 62.173796518936754}, \"demand\": {\"value\": 73.97001703457057}, \"centroid\": {\"value\": [0.46069253622195167, 44.367803162317365]}, \"normalized_population\": {\"value\": 0.03796552953185116}, \"normalized_pop_density\": {\"value\": 0.0029815864975679097}, \"demand_percServed\": {\"value\": 99.99999995326407}, \"avgServiceSpeed\": {\"value\": 2.0289057}, \"servedFrom\": {\"value\": \" WHClermont\"}}}, \"FRA.11.9_1\": {\"geoJsonValue\": \"FRA.11.9_1\", \"name\": \"Lot\", \"type\": \"DHLAppDistrict\", \"props\": {\"population\": {\"value\": 176307}, \"area\": {\"value\": 5227.437125084461}, \"pop_density\": {\"value\": 33.72723493009041}, \"demand\": {\"value\": 50.965647656410354}, \"centroid\": {\"value\": [1.6054844151045256, 44.62452066438852]}, \"normalized_population\": {\"value\": 0.019984561399848062}, \"normalized_pop_density\": {\"value\": 0.0016111171337370679}, \"demand_percServed\": {\"value\": 100.00000067415928}, \"avgServiceSpeed\": {\"value\": 1.7784806}, \"servedFrom\": {\"value\": \" WHClermont\"}}}, \"FRA.10.6_1\": {\"geoJsonValue\": \"FRA.10.6_1\", \"name\": \"Dordogne\", \"type\": \"DHLAppDistrict\", \"props\": {\"population\": {\"value\": 416222}, \"area\": {\"value\": 9224.056014903856}, \"pop_density\": {\"value\": 45.123533435560816}, \"demand\": {\"value\": 62.04973109125123}, \"centroid\": {\"value\": [0.7411582516462244, 45.1048057592211]}, \"normalized_population\": {\"value\": 0.047191493642038805}, \"normalized_pop_density\": {\"value\": 0.00216015635290731}, \"demand_percServed\": {\"value\": 99.99999985293856}, \"avgServiceSpeed\": {\"value\": 1.8477948}, \"servedFrom\": {\"value\": \" WHClermont\"}}}, \"FRA.13.2_1\": {\"geoJsonValue\": \"FRA.13.2_1\", \"name\": \"Alpes-Maritimes\", \"type\": \"DHLAppDistrict\", \"props\": {\"population\": {\"value\": 1083334}, \"area\": {\"value\": 4321.170081676769}, \"pop_density\": {\"value\": 250.70385555840645}, \"demand\": {\"value\": 169.7015743091739}, \"centroid\": {\"value\": [7.1169279238457746, 43.9390763614374]}, \"normalized_population\": {\"value\": 0.1228435828484342}, \"normalized_pop_density\": {\"value\": 0.012064394951160403}, \"demand_percServed\": {\"value\": 99.99999746073428}, \"avgServiceSpeed\": {\"value\": 1.017057}, \"servedFrom\": {\"value\": \" WHTorino\"}}}, \"FRA.4.1_1\": {\"geoJsonValue\": \"FRA.4.1_1\", \"name\": \"Cher\", \"type\": \"DHLAppDistrict\", \"props\": {\"population\": {\"value\": 302645}, \"area\": {\"value\": 7305.647645219084}, \"pop_density\": {\"value\": 41.426169820557256}, \"demand\": {\"value\": 58.50629764861336}, \"centroid\": {\"value\": [2.491115454189106, 47.06589054669281]}, \"normalized_population\": {\"value\": 0.03431159141303563}, \"normalized_pop_density\": {\"value\": 0.001982028548410474}, \"demand_percServed\": {\"value\": 100.00000060059625}, \"avgServiceSpeed\": {\"value\": 1.6885606}, \"servedFrom\": {\"value\": \" WHClermont\"}}}, \"FRA.11.4_1\": {\"geoJsonValue\": \"FRA.11.4_1\", \"name\": \"Gard\", \"type\": \"DHLAppDistrict\", \"props\": {\"population\": {\"value\": 758937}, \"area\": {\"value\": 5877.96468127217}, \"pop_density\": {\"value\": 129.11561078583122}, \"demand\": {\"value\": 115.44065442150323}, \"centroid\": {\"value\": [4.179922162603371, 43.993529979576614]}, \"normalized_population\": {\"value\": 0.0860561906529902}, \"normalized_pop_density\": {\"value\": 0.0062066407919331166}, \"demand_percServed\": {\"value\": 99.99999616989072}, \"avgServiceSpeed\": {\"value\": 1.3532625}, \"servedFrom\": {\"value\": \" WHMontpellier\"}}}, \"FRA.11.3_1\": {\"geoJsonValue\": \"FRA.11.3_1\", \"name\": \"Aveyron\", \"type\": \"DHLAppDistrict\", \"props\": {\"population\": {\"value\": 283062}, \"area\": {\"value\": 8775.857022061413}, \"pop_density\": {\"value\": 32.254627586618305}, \"demand\": {\"value\": 50.52496226364729}, \"centroid\": {\"value\": [2.678668640403677, 44.28089008614677]}, \"normalized_population\": {\"value\": 0.03209083258553913}, \"normalized_pop_density\": {\"value\": 0.0015401713625626653}, \"demand_percServed\": {\"value\": 99.99999947818411}, \"avgServiceSpeed\": {\"value\": 1.6014253}, \"servedFrom\": {\"value\": \" WHMontpellier\"}}}}}'"
      ]
     },
     "execution_count": 27,
     "metadata": {},
     "output_type": "execute_result"
    }
   ],
   "source": [
    "chunks[0]"
   ]
  },
  {
   "cell_type": "code",
   "execution_count": 14,
   "metadata": {},
   "outputs": [
    {
     "name": "stdout",
     "output_type": "stream",
     "text": [
      "{\"path\": \"data.map1.legendGroups.Network Facilities.nodes.nodeTypeRT.colorBy\", \"value\": \"active\"}\n",
      "{\"path\": \"data.map1.legendGroups.Network Facilities.nodes.nodeTypeRT.colorBy\", \"value\": \"active\"}\n"
     ]
    }
   ],
   "source": [
    "for data in chunks:\n",
    "  completion = openai.ChatCompletion.create(\n",
    "    model=api_model,\n",
    "    temperature=0.1,\n",
    "    messages=[\n",
    "      {\"role\": \"system\", \"content\": \"Using the given documentation delimited by triple quotes and current api state encoded in JSON, respond to user requests with the path(s) and value(s) you would modify in the api to achieve the users desired action in the format \\n```{\\\"path\\\": path, \\\"value\\\": value}```. If the user request isn't possible with the given data respond with 'Not possible'\"},\n",
    "      {\"role\": \"user\", \"content\": '\"\"\"' + docs_by_name[current_key] + '\"\"\" \\n\\n' + data + '\\n\\nrequest: ' + query},\n",
    "    ]\n",
    "  )\n",
    "\n",
    "  print(completion.choices[0].message.content)\n",
    "  mutate_command = completion.choices[0].message.content\n",
    "  if not 'Not possible' in mutate_command:\n",
    "    print(mutate_command)\n",
    "    break"
   ]
  }
 ],
 "metadata": {
  "kernelspec": {
   "display_name": "Python 3",
   "language": "python",
   "name": "python3"
  },
  "language_info": {
   "codemirror_mode": {
    "name": "ipython",
    "version": 3
   },
   "file_extension": ".py",
   "mimetype": "text/x-python",
   "name": "python",
   "nbconvert_exporter": "python",
   "pygments_lexer": "ipython3",
   "version": "3.11.4"
  },
  "orig_nbformat": 4
 },
 "nbformat": 4,
 "nbformat_minor": 2
}
