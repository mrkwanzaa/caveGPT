{
 "cells": [
  {
   "cell_type": "markdown",
   "metadata": {},
   "source": [
    "# Code"
   ]
  },
  {
   "cell_type": "code",
   "execution_count": 3,
   "metadata": {},
   "outputs": [
    {
     "name": "stderr",
     "output_type": "stream",
     "text": [
      "/home/will/anaconda3/envs/thesis/lib/python3.11/site-packages/tqdm/auto.py:21: TqdmWarning: IProgress not found. Please update jupyter and ipywidgets. See https://ipywidgets.readthedocs.io/en/stable/user_install.html\n",
      "  from .autonotebook import tqdm as notebook_tqdm\n"
     ]
    }
   ],
   "source": [
    "# Imports and setup model\n",
    "import os\n",
    "import openai\n",
    "import json\n",
    "import configobj\n",
    "import tiktoken\n",
    "from tqdm.auto import tqdm\n",
    "import pinecone\n",
    "from time import sleep"
   ]
  },
  {
   "cell_type": "code",
   "execution_count": 4,
   "metadata": {},
   "outputs": [],
   "source": [
    "# Setup env vars and constants\n",
    "config = configobj.ConfigObj('.env')\n",
    "openai.api_key = config[\"OPENAI_API_KEY\"]\n",
    "pinecone_key = config[\"PINECONE_API_KEY\"]\n",
    "pinecone_env = config[\"PINECONE_ENVIRONMENT\"]\n",
    "\n",
    "embedding_model = \"text-embedding-ada-002\" \n",
    "api_model = \"gpt-4\"\n",
    "dimensions = 1536\n",
    "docs_dir = 'docs/'\n",
    "typed_keys = ['arcs', 'geos', 'nodes', 'stats']"
   ]
  },
  {
   "cell_type": "code",
   "execution_count": 5,
   "metadata": {},
   "outputs": [],
   "source": [
    "#Tokenize docs\n",
    "tokenizer_name = tiktoken.encoding_for_model(api_model)\n",
    "tokenizer = tiktoken.get_encoding(tokenizer_name.name)\n",
    "\n",
    "# create the length function\n",
    "def tiktoken_len(text):\n",
    "    tokens = tokenizer.encode(\n",
    "        text,\n",
    "        disallowed_special=()\n",
    "    )\n",
    "    return len(tokens)\n"
   ]
  },
  {
   "cell_type": "code",
   "execution_count": 6,
   "metadata": {},
   "outputs": [
    {
     "name": "stdout",
     "output_type": "stream",
     "text": [
      "### `maps`\n",
      "This key group allows designers to specify information about the starting state of the map, what information is contained and how it is grouped in the legend, and what viewports can be easily jumped to by the user.\n",
      "\n",
      "## Common keys\n",
      "- [`allowModification`](../common_keys/common_keys.md#allowModification)\n",
      "- [`data`](../common_keys/common_keys.md#data)\n",
      "- [`icon`](../common_keys/common_keys.md#icon)\n",
      "- [`name`](../common_keys/common_keys.md#name)\n",
      "- [`order`](../common_keys/common_keys.md#order)\n",
      "- [`sendToApi`](../common_keys/common_keys.md#sendToApi)\n",
      "- [`sendToClient`](../common_keys/common_keys.md#sendToClient)\n",
      "\n",
      "## Special and custom keys\n",
      "Key | Default | Description\n",
      "--- | ------- | -----------\n",
      "<a name=\"defaultViewport\">`customMapKey.defaultViewport`</a> | | A dictionary object containing geo properties that set the map's default field of view. Also used by the \"home\" viewport button in the app.\n",
      "`customMapKey.defaultViewport.bearing` | `0` | The initial bearing (rotation) of the map, measured in degrees counter-clockwise from north.\n",
      "`customMapKey.defaultViewport.pitch` | `0` | The initial pitch (*tilt*) of the viewport in the \"**Map**\" view, measured in degrees away from the plane of the screen (0&deg; - 85&deg;). A pitch of 0&deg; results in a two-dimensional map, as if your line of sight forms a perpendicular angle with the earth's surface, while a greater value like 60&deg; looks ahead towards the horizon.\n",
      "`customMapKey.defaultViewport.latitude` | `42.36157` | The center latitude of the viewport in the \"**Map**\" view. It takes a float value.\n",
      "`customMapKey.defaultViewport.longitude` | `-71.08463` | The center longitude of the viewport in the \"**Map**\" view. It takes a float value.\n",
      "`customMapKey.defaultViewport.maxZoom` | `22` | The maximum zoom level of the viewport in the \"**Map**\" view. It takes an integer value.\n",
      "`customMapKey.defaultViewport.minZoom` | `1.5` | The minimum zoom level of the viewport in the \"**Map**\" view. It takes an integer value.\n",
      "`customMapKey.defaultViewport.zoom` | `13` | The initial zoom level of the viewport in the \"**Map**\" view. It takes an integer value. Learn more about the zoom levels [here](#https://docs.mapbox.com/help/glossary/zoom-level/).\n",
      "<a name=\"optionalViewports\">`customMapKey.optionalViewports`</a> | | A dictionary of optional viewports that can be jumped to by users. Each optional viewport should contain the same keys as `defaultViewport` as well as `name` and `icon` keys.\n",
      "<a name=\"legendGroups\">`customMapKey.legendGroups`</a> | `{}` | A dictionary object of all layer groupings to display in the map legend. The legend groups are displayed according to their `order` and each has an internal order of `nodes`, `arcs`, and `geos`. Types not included in any legend group cannot be toggled.\n",
      "`customMapKey.legendGroups.customLegendGroupKey*` | `{}` | A custom key wrapper for a legend group that contains its `name`, its display `order` from top to bottom within the map legend, as well as the initial state of the toggles for [`arc type`](arcs.md#arc-type)s, [`node type`](nodes.md#node-type)s, and [`geo type`](geos.md#geo-type)s.\n",
      "`customMapKey.legendGroups.customLegendGroupKey*.arcs` | `{}` | A list of all arc types to include in the legend group. Note that settings (`colorBy`, `sizeBy`) are syncronized across the same type in multiple groups.\n",
      "`customMapKey.legendGroups.customLegendGroupKey*.arcs.customArcType*` | `{value: False}` | A [arc type](arcs.md#arc-type) that matches the initial state of the toggle within the legend group. The inner `value` key is paired with a boolean indicating whether the arc type should be displayed in the \"Map\" view or not, while the `order` key follows the standard [`order`](../common_keys/common_keys.md#order)ing convention, allowing to set the display order of the arc type within the legend group. The `colorBy` and `sizeBy` keys set the default coloring and sizing props of the arc type.\n",
      "`customMapKey.legendGroups.customLegendGroupKey*.geos` | `{}` | A list of all geo types to include in the legend group. Note that settings (`colorBy`, `sizeBy`) are syncronized across the same type in multiple groups.\n",
      "`customMapKey.legendGroups.customLegendGroupKey*.geos.customGeoType*` | `{value: False}` | A [geo type](geos.md#geo-type) that matches the initial state of the toggle within the legend group. The inner `value` key is paired with a boolean indicating whether the geo type should be displayed in the \"Map\" view or not, while the `order` key follows the standard [`order`](../common_keys/common_keys.md#order)ing convention, allowing to set the display order of the geo type within the legend group. The `colorBy` key set the default coloring prop of the geo type.\n",
      "`customMapKey.legendGroups.customLegendGroupKey*.nodes` | `{}` | A dictionary of all node types to include in the legend group. Note that settings (`colorBy`, `sizeBy`) are syncronized across the same type in multiple groups.\n",
      "`customMapKey.legendGroups.customLegendGroupKey*.nodes.customNodeType*` | `{}` | An object to hold the options related to each custom node type\n",
      "`customMapKey.legendGroups.customLegendGroupKey*.nodes.customNodeType*.value` | `false` | A boolean value to indicate if this layer should be shown\n",
      "`customMapKey.legendGroups.customLegendGroupKey*.nodes.customNodeType*.order` | | The [`order`](../common_keys/common_keys.md#order) value that this toggle should appear in the legend group\n",
      "`customMapKey.legendGroups.customLegendGroupKey*.nodes.customNodeType*.colorBy` | `false` | The prop to used to color this node layer\n",
      "`customMapKey.legendGroups.customLegendGroupKey*.nodes.customNodeType*.sizeBy` | `false` | The prop to used to size this node layer\n",
      "`customMapKey.legendGroups.customLegendGroupKey*.nodes.customNodeType*.allowGrouping` | `false` | (BETA Feature) A node specific key to determine if this node layer is able to be auto grouped.\n",
      "`customMapKey.legendGroups.customLegendGroupKey*.nodes.customNodeType*.group` | `false` | (BETA Feature) Group the nodes in this layer (to use this you must set `allowGrouping=true`)\n",
      "`customMapKey.legendGroups.customLegendGroupKey*.nodes.customNodeType*.groupCalcByColor` | `count` | (BETA Feature) The aggregation method to use on the prop specified in `colorBy`. Options include [`count`,`max`,`min`,`mean`,`median`,`mode`,`sum`]\n",
      "`customMapKey.legendGroups.customLegendGroupKey*.nodes.customNodeType*.groupCalcBySize` | `count` | (BETA Feature) The aggregation method to use on the prop specified in `sizeBy`. Options include [`count`,`max`,`min`,`mean`,`median`,`mode`,`sum`]\n"
     ]
    }
   ],
   "source": [
    "# load docs\n",
    "texts = []\n",
    "docs_by_name = {}\n",
    "\n",
    "for doc in os.listdir(docs_dir):\n",
    "    with open(docs_dir + doc, 'r') as f:\n",
    "        text = f.read()\n",
    "        texts.append(text)\n",
    "        docs_by_name[doc[0:-3]] = text\n",
    "\n",
    "print(texts[1])"
   ]
  },
  {
   "cell_type": "code",
   "execution_count": 7,
   "metadata": {},
   "outputs": [
    {
     "name": "stdout",
     "output_type": "stream",
     "text": [
      "['gpt-4-embedded-docs']\n"
     ]
    },
    {
     "data": {
      "text/plain": [
       "{'dimension': 1536,\n",
       " 'index_fullness': 0.0,\n",
       " 'namespaces': {'': {'vector_count': 12}},\n",
       " 'total_vector_count': 12}"
      ]
     },
     "execution_count": 7,
     "metadata": {},
     "output_type": "execute_result"
    }
   ],
   "source": [
    "#intialize pinecone index\n",
    "pinecone.init(api_key=pinecone_key, environment=pinecone_env)\n",
    "pinecone.whoami()\n",
    "\n",
    "index_name = 'gpt-4-embedded-docs'\n",
    "print(pinecone.list_indexes())\n",
    "# check if index already exists (it shouldn't if this is first time)\n",
    "if index_name not in pinecone.list_indexes():\n",
    "    # if does not exist, create index\n",
    "    pinecone.create_index(\n",
    "        index_name,\n",
    "        dimension=dimensions,\n",
    "        metric='cosine'\n",
    "    )\n",
    "    # wait for index to be initialized\n",
    "    sleep(10)\n",
    "\n",
    "# connect to index\n",
    "index = pinecone.GRPCIndex(index_name)\n",
    "# view index stats\n",
    "index.describe_index_stats()\n"
   ]
  },
  {
   "cell_type": "code",
   "execution_count": 8,
   "metadata": {},
   "outputs": [],
   "source": [
    "upload=False\n",
    "if upload:\n",
    "    # get embeddings\n",
    "    for idx, doc in enumerate(tqdm(texts)):\n",
    "    # create embeddings (try-except added to avoid RateLimitError)\n",
    "        try:\n",
    "                res = openai.Embedding.create(input=doc, engine=embedding_model)\n",
    "        except:\n",
    "            done = False\n",
    "            while not done:\n",
    "                sleep(5)\n",
    "                try:\n",
    "                    res = openai.Embedding.create(input=doc, engine=embedding_model)\n",
    "                    done = True\n",
    "                except:\n",
    "                    pass\n",
    "\n",
    "        embeds = [record['embedding'] for record in res['data']]\n",
    "        to_upsert = list(zip([f'{idx}'], embeds))\n",
    "        index.upsert(vectors=to_upsert)"
   ]
  },
  {
   "cell_type": "code",
   "execution_count": 9,
   "metadata": {},
   "outputs": [],
   "source": [
    "# Example retrieval\n",
    "query = \"Deactivate the warehouse in the netherlands\"\n",
    "\n",
    "res = openai.Embedding.create(\n",
    "    input=[query],\n",
    "    engine=embedding_model\n",
    ")\n",
    "\n",
    "# retrieve from Pinecone\n",
    "xq = res['data'][0]['embedding']\n",
    "\n",
    "# get relevant contexts (including the questions)\n",
    "output = index.query(xq, top_k=3, include_metadata=True)"
   ]
  },
  {
   "cell_type": "code",
   "execution_count": 10,
   "metadata": {},
   "outputs": [
    {
     "name": "stdout",
     "output_type": "stream",
     "text": [
      "### `maps`\n",
      "This key group allows designers to specify information about the starting state of the map, what information is contained and how it is grouped in the legend, and what viewports can be easily jumped to by the user.\n",
      "\n",
      "## Common keys\n",
      "- [`allowModification`](../common_keys/common_keys.md#allowModification)\n",
      "- [`data`](../common_keys/common_keys.md#data)\n",
      "- [`icon`](../common_keys/common_keys.md#icon)\n",
      "- [`name`](../common_keys/common_keys.md#name)\n",
      "- [`order`](../common_keys/common_keys.md#order)\n",
      "- [`sendToApi`](../common_keys/common_keys.md#sendToApi)\n",
      "- [`sendToClient`](../common_keys/common_keys.md#sendToClient)\n",
      "\n",
      "## Special and custom keys\n",
      "Key | Default | Description\n",
      "--- | ------- | -----------\n",
      "<a name=\"defaultViewport\">`customMapKey.defaultViewport`</a> | | A dictionary object containing geo properties that set the map's default field of view. Also used by the \"home\" viewport button in the app.\n",
      "`customMapKey.defaultViewport.bearing` | `0` | The initial bearing (rotation) of the map, measured in degrees counter-clockwise from north.\n",
      "`customMapKey.defaultViewport.pitch` | `0` | The initial pitch (*tilt*) of the viewport in the \"**Map**\" view, measured in degrees away from the plane of the screen (0&deg; - 85&deg;). A pitch of 0&deg; results in a two-dimensional map, as if your line of sight forms a perpendicular angle with the earth's surface, while a greater value like 60&deg; looks ahead towards the horizon.\n",
      "`customMapKey.defaultViewport.latitude` | `42.36157` | The center latitude of the viewport in the \"**Map**\" view. It takes a float value.\n",
      "`customMapKey.defaultViewport.longitude` | `-71.08463` | The center longitude of the viewport in the \"**Map**\" view. It takes a float value.\n",
      "`customMapKey.defaultViewport.maxZoom` | `22` | The maximum zoom level of the viewport in the \"**Map**\" view. It takes an integer value.\n",
      "`customMapKey.defaultViewport.minZoom` | `1.5` | The minimum zoom level of the viewport in the \"**Map**\" view. It takes an integer value.\n",
      "`customMapKey.defaultViewport.zoom` | `13` | The initial zoom level of the viewport in the \"**Map**\" view. It takes an integer value. Learn more about the zoom levels [here](#https://docs.mapbox.com/help/glossary/zoom-level/).\n",
      "<a name=\"optionalViewports\">`customMapKey.optionalViewports`</a> | | A dictionary of optional viewports that can be jumped to by users. Each optional viewport should contain the same keys as `defaultViewport` as well as `name` and `icon` keys.\n",
      "<a name=\"legendGroups\">`customMapKey.legendGroups`</a> | `{}` | A dictionary object of all layer groupings to display in the map legend. The legend groups are displayed according to their `order` and each has an internal order of `nodes`, `arcs`, and `geos`. Types not included in any legend group cannot be toggled.\n",
      "`customMapKey.legendGroups.customLegendGroupKey*` | `{}` | A custom key wrapper for a legend group that contains its `name`, its display `order` from top to bottom within the map legend, as well as the initial state of the toggles for [`arc type`](arcs.md#arc-type)s, [`node type`](nodes.md#node-type)s, and [`geo type`](geos.md#geo-type)s.\n",
      "`customMapKey.legendGroups.customLegendGroupKey*.arcs` | `{}` | A list of all arc types to include in the legend group. Note that settings (`colorBy`, `sizeBy`) are syncronized across the same type in multiple groups.\n",
      "`customMapKey.legendGroups.customLegendGroupKey*.arcs.customArcType*` | `{value: False}` | A [arc type](arcs.md#arc-type) that matches the initial state of the toggle within the legend group. The inner `value` key is paired with a boolean indicating whether the arc type should be displayed in the \"Map\" view or not, while the `order` key follows the standard [`order`](../common_keys/common_keys.md#order)ing convention, allowing to set the display order of the arc type within the legend group. The `colorBy` and `sizeBy` keys set the default coloring and sizing props of the arc type.\n",
      "`customMapKey.legendGroups.customLegendGroupKey*.geos` | `{}` | A list of all geo types to include in the legend group. Note that settings (`colorBy`, `sizeBy`) are syncronized across the same type in multiple groups.\n",
      "`customMapKey.legendGroups.customLegendGroupKey*.geos.customGeoType*` | `{value: False}` | A [geo type](geos.md#geo-type) that matches the initial state of the toggle within the legend group. The inner `value` key is paired with a boolean indicating whether the geo type should be displayed in the \"Map\" view or not, while the `order` key follows the standard [`order`](../common_keys/common_keys.md#order)ing convention, allowing to set the display order of the geo type within the legend group. The `colorBy` key set the default coloring prop of the geo type.\n",
      "`customMapKey.legendGroups.customLegendGroupKey*.nodes` | `{}` | A dictionary of all node types to include in the legend group. Note that settings (`colorBy`, `sizeBy`) are syncronized across the same type in multiple groups.\n",
      "`customMapKey.legendGroups.customLegendGroupKey*.nodes.customNodeType*` | `{}` | An object to hold the options related to each custom node type\n",
      "`customMapKey.legendGroups.customLegendGroupKey*.nodes.customNodeType*.value` | `false` | A boolean value to indicate if this layer should be shown\n",
      "`customMapKey.legendGroups.customLegendGroupKey*.nodes.customNodeType*.order` | | The [`order`](../common_keys/common_keys.md#order) value that this toggle should appear in the legend group\n",
      "`customMapKey.legendGroups.customLegendGroupKey*.nodes.customNodeType*.colorBy` | `false` | The prop to used to color this node layer\n",
      "`customMapKey.legendGroups.customLegendGroupKey*.nodes.customNodeType*.sizeBy` | `false` | The prop to used to size this node layer\n",
      "`customMapKey.legendGroups.customLegendGroupKey*.nodes.customNodeType*.allowGrouping` | `false` | (BETA Feature) A node specific key to determine if this node layer is able to be auto grouped.\n",
      "`customMapKey.legendGroups.customLegendGroupKey*.nodes.customNodeType*.group` | `false` | (BETA Feature) Group the nodes in this layer (to use this you must set `allowGrouping=true`)\n",
      "`customMapKey.legendGroups.customLegendGroupKey*.nodes.customNodeType*.groupCalcByColor` | `count` | (BETA Feature) The aggregation method to use on the prop specified in `colorBy`. Options include [`count`,`max`,`min`,`mean`,`median`,`mode`,`sum`]\n",
      "`customMapKey.legendGroups.customLegendGroupKey*.nodes.customNodeType*.groupCalcBySize` | `count` | (BETA Feature) The aggregation method to use on the prop specified in `sizeBy`. Options include [`count`,`max`,`min`,`mean`,`median`,`mode`,`sum`]\n"
     ]
    }
   ],
   "source": [
    "print(texts[int(output['matches'][0]['id'])])"
   ]
  },
  {
   "cell_type": "code",
   "execution_count": 11,
   "metadata": {},
   "outputs": [],
   "source": [
    "state = \"\"\n",
    "with open('state.json') as f:\n",
    "    state = f.read()"
   ]
  },
  {
   "cell_type": "code",
   "execution_count": 34,
   "metadata": {},
   "outputs": [
    {
     "name": "stdout",
     "output_type": "stream",
     "text": [
      "916\n"
     ]
    }
   ],
   "source": [
    "topLevel = \"\"\n",
    "with open(f'{docs_dir}topLevelInfo.md') as f:\n",
    "    topLevel = f.read()\n",
    "\n",
    "print(tiktoken_len(topLevel))"
   ]
  },
  {
   "cell_type": "code",
   "execution_count": 31,
   "metadata": {},
   "outputs": [],
   "source": [
    "query = \"Color districts by population\""
   ]
  },
  {
   "cell_type": "markdown",
   "metadata": {},
   "source": [
    "# Run Query through gpt4\n",
    "\n",
    "Note: Currently using gpt-4 as gpt-4-32k hasn't been publicly released yet and gpt-3.5-turbo-16k isn't great"
   ]
  },
  {
   "cell_type": "code",
   "execution_count": 32,
   "metadata": {},
   "outputs": [
    {
     "name": "stdout",
     "output_type": "stream",
     "text": [
      "geos\n"
     ]
    }
   ],
   "source": [
    "completion = openai.ChatCompletion.create(\n",
    "  model=api_model,\n",
    "  temperature=0.1,\n",
    "  messages=[\n",
    "    {\"role\": \"system\", \"content\": \"Using the given documentation delimited by triple quotes, respond to user requests with nothing but the name of the top-level key that must be edited in order to fufill the request surrounded by single quotes\"},\n",
    "    {\"role\": \"user\", \"content\": '\"\"\"' + topLevel + '\"\"\" \\n\\n' + 'request: ' + query},\n",
    "  ]\n",
    ")\n",
    "current_key = completion.choices[0].message.content.replace(\"'\", '')\n",
    "\n",
    "print(current_key)"
   ]
  },
  {
   "cell_type": "code",
   "execution_count": 36,
   "metadata": {},
   "outputs": [
    {
     "name": "stdout",
     "output_type": "stream",
     "text": [
      "935\n",
      "6999\n",
      "6979\n",
      "6986\n",
      "6902\n",
      "6872\n",
      "6879\n",
      "6884\n",
      "6982\n",
      "6991\n",
      "6818\n",
      "6993\n",
      "6809\n",
      "6806\n",
      "6800\n",
      "6795\n",
      "6831\n",
      "6984\n",
      "6989\n",
      "6987\n",
      "6796\n",
      "6816\n",
      "6896\n",
      "6908\n",
      "6934\n",
      "6969\n",
      "6950\n",
      "6931\n",
      "6982\n",
      "6945\n",
      "6924\n",
      "6962\n",
      "6952\n",
      "6923\n",
      "6949\n",
      "6942\n",
      "6940\n",
      "6953\n",
      "6959\n",
      "6938\n",
      "6936\n",
      "6934\n",
      "6926\n",
      "6952\n",
      "6919\n",
      "6950\n",
      "6947\n",
      "6921\n",
      "6875\n",
      "6868\n",
      "6884\n",
      "6881\n",
      "6884\n",
      "6909\n",
      "6915\n",
      "6955\n",
      "6948\n",
      "6997\n",
      "6992\n",
      "6975\n",
      "6803\n",
      "6953\n",
      "6791\n",
      "6982\n",
      "6976\n",
      "6986\n",
      "4076\n",
      "66\n"
     ]
    }
   ],
   "source": [
    "encoded_data = json.dumps(json.loads(state)[current_key])\n",
    "max_size = False\n",
    "chunks = [None]\n",
    "if tiktoken_len(encoded_data) > 7000:\n",
    "    max_size = True\n",
    "    key_dict = json.loads(state)[current_key]\n",
    "    chunks[-1] = {i:key_dict[i] for i in key_dict if i!='data'}\n",
    "    chunks[-1]['data'] = {}\n",
    "else:\n",
    "    chunks = [encoded_data]\n",
    "print(tiktoken_len(json.dumps(chunks)))\n",
    "if max_size:\n",
    "    for key, value in key_dict['data'].items():\n",
    "        if tiktoken_len(json.dumps(chunks[-1]) + json.dumps({key: value})) > 7000:\n",
    "            chunks.append({i:key_dict[i] for i in key_dict if i!='data'})\n",
    "            chunks[-1]['data'] = {key: value}\n",
    "        else:\n",
    "            chunks[-1]['data'][key] = value      \n",
    "    for idx, chunk in enumerate(chunks):\n",
    "        chunks[idx] = json.dumps(chunk)\n",
    "\n",
    "for data in chunks:\n",
    "    print(tiktoken_len(data))\n",
    "\n",
    "print(len(chunks))"
   ]
  },
  {
   "cell_type": "code",
   "execution_count": 37,
   "metadata": {},
   "outputs": [
    {
     "name": "stdout",
     "output_type": "stream",
     "text": [
      "{\"path\": \"types.DHLAppDistrict.colorBy\", \"value\": \"population\"}\n",
      "{\"path\": \"types.DHLAppDistrict.colorBy\", \"value\": \"population\"}\n"
     ]
    }
   ],
   "source": [
    "for data in chunks:\n",
    "  completion = openai.ChatCompletion.create(\n",
    "    model=api_model,\n",
    "    temperature=0.1,\n",
    "    messages=[\n",
    "      {\"role\": \"system\", \"content\": \"Using the given documentation delimited by triple quotes and current api state encoded in JSON, respond to user requests with the path(s) and value(s) you would modify in the api to achieve the users desired action in the format \\n```{\\\"path\\\": path, \\\"value\\\": value}```. If the user request isn't possible with the given data respond with 'Not possible'\"},\n",
    "      {\"role\": \"user\", \"content\": '\"\"\"' + docs_by_name[current_key] + '\"\"\" \\n\\n' + data + '\\n\\nrequest: ' + query},\n",
    "    ]\n",
    "  )\n",
    "\n",
    "  print(completion.choices[0].message.content)\n",
    "  mutate_command = completion.choices[0].message.content\n",
    "  if not 'Not possible' in mutate_command:\n",
    "    print(mutate_command)\n",
    "    break"
   ]
  }
 ],
 "metadata": {
  "kernelspec": {
   "display_name": "Python 3",
   "language": "python",
   "name": "python3"
  },
  "language_info": {
   "codemirror_mode": {
    "name": "ipython",
    "version": 3
   },
   "file_extension": ".py",
   "mimetype": "text/x-python",
   "name": "python",
   "nbconvert_exporter": "python",
   "pygments_lexer": "ipython3",
   "version": "3.11.4"
  },
  "orig_nbformat": 4
 },
 "nbformat": 4,
 "nbformat_minor": 2
}
