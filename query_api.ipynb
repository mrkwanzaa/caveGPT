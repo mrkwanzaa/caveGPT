{
 "cells": [
  {
   "cell_type": "markdown",
   "metadata": {},
   "source": [
    "# Code"
   ]
  },
  {
   "cell_type": "code",
   "execution_count": 7,
   "metadata": {},
   "outputs": [],
   "source": [
    "# Imports and setup model\n",
    "import os\n",
    "import openai\n",
    "import json\n",
    "import configobj\n",
    "import numpy\n",
    "from langchain.document_loaders import DirectoryLoader\n",
    "from langchain.text_splitter import RecursiveCharacterTextSplitter\n",
    "import tiktoken\n",
    "from typing_extensions import Concatenate\n",
    "from uuid import uuid4\n",
    "from tqdm.auto import tqdm\n",
    "import pinecone\n",
    "from time import sleep\n",
    "from IPython.display import Markdown"
   ]
  },
  {
   "cell_type": "code",
   "execution_count": 55,
   "metadata": {},
   "outputs": [],
   "source": [
    "# Setup env vars and constants\n",
    "config = configobj.ConfigObj('.env')\n",
    "openai.api_key = config[\"OPENAI_API_KEY\"]\n",
    "pinecone_key = config[\"PINECONE_API_KEY\"]\n",
    "pinecone_env = config[\"PINECONE_ENVIRONMENT\"]\n",
    "\n",
    "embedding_model = \"text-embedding-ada-002\" \n",
    "api_model = \"gpt-4\"\n",
    "dimensions = 1536\n",
    "docs_dir = 'docs/'"
   ]
  },
  {
   "cell_type": "code",
   "execution_count": 9,
   "metadata": {},
   "outputs": [
    {
     "name": "stdout",
     "output_type": "stream",
     "text": [
      "### `maps`\n",
      "This key group allows designers to specify information about the starting state of the map, what information is contained and how it is grouped in the legend, and what viewports can be easily jumped to by the user.\n",
      "\n",
      "## Common keys\n",
      "- [`allowModification`](../common_keys/common_keys.md#allowModification)\n",
      "- [`data`](../common_keys/common_keys.md#data)\n",
      "- [`icon`](../common_keys/common_keys.md#icon)\n",
      "- [`name`](../common_keys/common_keys.md#name)\n",
      "- [`order`](../common_keys/common_keys.md#order)\n",
      "- [`sendToApi`](../common_keys/common_keys.md#sendToApi)\n",
      "- [`sendToClient`](../common_keys/common_keys.md#sendToClient)\n",
      "\n",
      "## Special and custom keys\n",
      "Key | Default | Description\n",
      "--- | ------- | -----------\n",
      "<a name=\"defaultViewport\">`customMapKey.defaultViewport`</a> | | A dictionary object containing geo properties that set the map's default field of view. Also used by the \"home\" viewport button in the app.\n",
      "`customMapKey.defaultViewport.bearing` | `0` | The initial bearing (rotation) of the map, measured in degrees counter-clockwise from north.\n",
      "`customMapKey.defaultViewport.pitch` | `0` | The initial pitch (*tilt*) of the viewport in the \"**Map**\" view, measured in degrees away from the plane of the screen (0&deg; - 85&deg;). A pitch of 0&deg; results in a two-dimensional map, as if your line of sight forms a perpendicular angle with the earth's surface, while a greater value like 60&deg; looks ahead towards the horizon.\n",
      "`customMapKey.defaultViewport.latitude` | `42.36157` | The center latitude of the viewport in the \"**Map**\" view. It takes a float value.\n",
      "`customMapKey.defaultViewport.longitude` | `-71.08463` | The center longitude of the viewport in the \"**Map**\" view. It takes a float value.\n",
      "`customMapKey.defaultViewport.maxZoom` | `22` | The maximum zoom level of the viewport in the \"**Map**\" view. It takes an integer value.\n",
      "`customMapKey.defaultViewport.minZoom` | `1.5` | The minimum zoom level of the viewport in the \"**Map**\" view. It takes an integer value.\n",
      "`customMapKey.defaultViewport.zoom` | `13` | The initial zoom level of the viewport in the \"**Map**\" view. It takes an integer value. Learn more about the zoom levels [here](#https://docs.mapbox.com/help/glossary/zoom-level/).\n",
      "<a name=\"optionalViewports\">`customMapKey.optionalViewports`</a> | | A dictionary of optional viewports that can be jumped to by users. Each optional viewport should contain the same keys as `defaultViewport` as well as `name` and `icon` keys.\n",
      "<a name=\"legendGroups\">`customMapKey.legendGroups`</a> | `{}` | A dictionary object of all layer groupings to display in the map legend. The legend groups are displayed according to their `order` and each has an internal order of `nodes`, `arcs`, and `geos`. Types not included in any legend group cannot be toggled.\n",
      "`customMapKey.legendGroups.customLegendGroupKey*` | `{}` | A custom key wrapper for a legend group that contains its `name`, its display `order` from top to bottom within the map legend, as well as the initial state of the toggles for [`arc type`](arcs.md#arc-type)s, [`node type`](nodes.md#node-type)s, and [`geo type`](geos.md#geo-type)s.\n",
      "`customMapKey.legendGroups.customLegendGroupKey*.arcs` | `{}` | A list of all arc types to include in the legend group. Note that settings (`colorBy`, `sizeBy`) are syncronized across the same type in multiple groups.\n",
      "`customMapKey.legendGroups.customLegendGroupKey*.arcs.customArcType*` | `{value: False}` | A [arc type](arcs.md#arc-type) that matches the initial state of the toggle within the legend group. The inner `value` key is paired with a boolean indicating whether the arc type should be displayed in the \"Map\" view or not, while the `order` key follows the standard [`order`](../common_keys/common_keys.md#order)ing convention, allowing to set the display order of the arc type within the legend group. The `colorBy` and `sizeBy` keys set the default coloring and sizing props of the arc type.\n",
      "`customMapKey.legendGroups.customLegendGroupKey*.geos` | `{}` | A list of all geo types to include in the legend group. Note that settings (`colorBy`, `sizeBy`) are syncronized across the same type in multiple groups.\n",
      "`customMapKey.legendGroups.customLegendGroupKey*.geos.customGeoType*` | `{value: False}` | A [geo type](geos.md#geo-type) that matches the initial state of the toggle within the legend group. The inner `value` key is paired with a boolean indicating whether the geo type should be displayed in the \"Map\" view or not, while the `order` key follows the standard [`order`](../common_keys/common_keys.md#order)ing convention, allowing to set the display order of the geo type within the legend group. The `colorBy` key set the default coloring prop of the geo type.\n",
      "`customMapKey.legendGroups.customLegendGroupKey*.nodes` | `{}` | A dictionary of all node types to include in the legend group. Note that settings (`colorBy`, `sizeBy`) are syncronized across the same type in multiple groups.\n",
      "`customMapKey.legendGroups.customLegendGroupKey*.nodes.customNodeType*` | `{}` | An object to hold the options related to each custom node type\n",
      "`customMapKey.legendGroups.customLegendGroupKey*.nodes.customNodeType*.value` | `false` | A boolean value to indicate if this layer should be shown\n",
      "`customMapKey.legendGroups.customLegendGroupKey*.nodes.customNodeType*.order` | | The [`order`](../common_keys/common_keys.md#order) value that this toggle should appear in the legend group\n",
      "`customMapKey.legendGroups.customLegendGroupKey*.nodes.customNodeType*.colorBy` | `false` | The prop to used to color this node layer\n",
      "`customMapKey.legendGroups.customLegendGroupKey*.nodes.customNodeType*.sizeBy` | `false` | The prop to used to size this node layer\n",
      "`customMapKey.legendGroups.customLegendGroupKey*.nodes.customNodeType*.allowGrouping` | `false` | (BETA Feature) A node specific key to determine if this node layer is able to be auto grouped.\n",
      "`customMapKey.legendGroups.customLegendGroupKey*.nodes.customNodeType*.group` | `false` | (BETA Feature) Group the nodes in this layer (to use this you must set `allowGrouping=true`)\n",
      "`customMapKey.legendGroups.customLegendGroupKey*.nodes.customNodeType*.groupCalcByColor` | `count` | (BETA Feature) The aggregation method to use on the prop specified in `colorBy`. Options include [`count`,`max`,`min`,`mean`,`median`,`mode`,`sum`]\n",
      "`customMapKey.legendGroups.customLegendGroupKey*.nodes.customNodeType*.groupCalcBySize` | `count` | (BETA Feature) The aggregation method to use on the prop specified in `sizeBy`. Options include [`count`,`max`,`min`,`mean`,`median`,`mode`,`sum`]\n"
     ]
    }
   ],
   "source": [
    "# load docs\n",
    "texts = []\n",
    "docs_by_name = {}\n",
    "\n",
    "for doc in os.listdir(docs_dir):\n",
    "    with open(docs_dir + doc, 'r') as f:\n",
    "        text = f.read()\n",
    "        texts.append(text)\n",
    "        docs_by_name[doc[0:-3]] = text\n",
    "\n",
    "print(texts[1])"
   ]
  },
  {
   "cell_type": "code",
   "execution_count": 57,
   "metadata": {},
   "outputs": [
    {
     "name": "stdout",
     "output_type": "stream",
     "text": [
      "[151, 1603, 771, 963, 977, 875, 2260, 663, 1417, 745, 890, 820]\n"
     ]
    }
   ],
   "source": [
    "#Tokenize docs\n",
    "tokenizer_name = tiktoken.encoding_for_model(api_model)\n",
    "tokenizer = tiktoken.get_encoding(tokenizer_name.name)\n",
    "\n",
    "# create the length function\n",
    "def tiktoken_len(text):\n",
    "    tokens = tokenizer.encode(\n",
    "        text,\n",
    "        disallowed_special=()\n",
    "    )\n",
    "    return len(tokens)\n",
    "\n",
    "print([tiktoken_len(doc) for doc in texts])"
   ]
  },
  {
   "cell_type": "code",
   "execution_count": 11,
   "metadata": {},
   "outputs": [
    {
     "data": {
      "text/plain": [
       "'# `categories`\\nBoth designers and users often need to work with different levels of data aggregation. the `categories` top level key allows for easy and arbitrary aggregation/filtering of data in the UI. They are a core aspect for how chart groupings, chart subgroupgings and general filtering works.\\n\\n## Common keys\\n- [`allowModification`](../common_keys/common_keys.md#allowModification)\\n- [`data`](../common_keys/common_keys.md#data)\\n- [`name`](../common_keys/common_keys.md#name)\\n- [`order`](../common_keys/common_keys.md#order)\\n- [`sendToApi`](../common_keys/common_keys.md#sendToApi)\\n- [`sendToClient`](../common_keys/common_keys.md#sendToClient)\\n\\n## Special and custom keys\\nKey | Default | Description\\n--- | ------- | -----------\\n<a name=\"customCategory\">`customCategory*`</a> | Required | A custom key for categorical data. Each `customCategory*` key encloses a well-defined structure. This represents a higher level structure for filtering and aggregation purposes. A simple example is geography which can be represented by a nested structure (`township` &rarr; `state` &rarr; `country` &rarr; `continent`).\\n`customCategory*.data` | | Dictionary object that contains `customDataChunck*` items.\\n<a name=\"customDataChunck\">`customCategory*.data.customDataChunck*`</a> | | A wrapper for key-value pairs that are grouped by any categorical context set by the designer. This represents the smallest level of aggregation. For example, an app that groups data geographically to the township level would need one data chunk per township they want to represent.\\n<a name=\"customDataKey\">`customCategory*.data`&swarhk;<br>`.customDataChunck*.customDataKey*`<br><br>or<br><br>`customCategory*.nestedStructure`&swarhk;<br>`.customDataChunck*.customDataKey*`</a> | | A data property representing a specific group level of data. Following our geographic example, there should be four custom data keys (`township`, `state`, `country` and `continent`) per custom data chunk.\\n`customCategory*.data`&swarhk;<br>`.customDataKey*.customDataValue*` | | A match value for `customDataKey*`. Can either be string, numeric or boolean. Given our geographic example, a custom data key named `township` could have a data value of `\\'cambridge\\'` or any other township.\\n`customCategory*.grouping` | | When a `grouping` name is assigned to categories, they appear under a collapsible group in the \"**Group By**\" and \"**Sub Group**\" drop-down menus of a chart. If a `grouping` name is not assigned, the category will appear separately in the UI and at the same level as the collapsible groups.\\n`customCategory*.layoutDirection` | `\\'vertical\\'` | The direction in which `customDataKey*`s appear in the \"**Group By**\" and \"**Sub Group**\" drop-down menus of a chart. It can be `\\'horizontal\\'` or `\\'vertical\\'`. If omitted, the items will be displayed vertically in the UI.\\n`customCategory*.nestedStructure` | Required | A container dictionary for specifying the rendering properties of the items that are displayed in the \"**Group By**\" drop-down menu of a chart in a dashboard view.\\n`customCategory*.nestedStructure`&swarhk;<br>`.customDataKey*.ordering` | | A special key of a [`customDataChunck*`](#customDataChunck) that sets the position in which the `customDataValue*`s contained in the data chunk are rendered in the \"**Group By**\" and \"**Sub Group**\" drop-down menus of a chart. Its value is a list of strings in which the order of `customDataValue*`s is determined by their indices in the list (ascending order). All values that are not included in the list will be sorted alphabetically and placed after the values that are actually present.'"
      ]
     },
     "execution_count": 11,
     "metadata": {},
     "output_type": "execute_result"
    }
   ],
   "source": [
    "texts[5]"
   ]
  },
  {
   "cell_type": "code",
   "execution_count": 12,
   "metadata": {},
   "outputs": [
    {
     "name": "stdout",
     "output_type": "stream",
     "text": [
      "['gpt-4-embedded-docs']\n"
     ]
    },
    {
     "data": {
      "text/plain": [
       "{'dimension': 1536,\n",
       " 'index_fullness': 0.0,\n",
       " 'namespaces': {'': {'vector_count': 12}},\n",
       " 'total_vector_count': 12}"
      ]
     },
     "execution_count": 12,
     "metadata": {},
     "output_type": "execute_result"
    }
   ],
   "source": [
    "#intialize pinecone index\n",
    "pinecone.init(api_key=pinecone_key, environment=pinecone_env)\n",
    "pinecone.whoami()\n",
    "\n",
    "index_name = 'gpt-4-embedded-docs'\n",
    "print(pinecone.list_indexes())\n",
    "# check if index already exists (it shouldn't if this is first time)\n",
    "if index_name not in pinecone.list_indexes():\n",
    "    # if does not exist, create index\n",
    "    pinecone.create_index(\n",
    "        index_name,\n",
    "        dimension=dimensions,\n",
    "        metric='cosine'\n",
    "    )\n",
    "    # wait for index to be initialized\n",
    "    sleep(10)\n",
    "\n",
    "# connect to index\n",
    "index = pinecone.GRPCIndex(index_name)\n",
    "# view index stats\n",
    "index.describe_index_stats()\n"
   ]
  },
  {
   "cell_type": "code",
   "execution_count": 13,
   "metadata": {},
   "outputs": [],
   "source": [
    "upload=False\n",
    "if upload:\n",
    "    # get embeddings\n",
    "    for idx, doc in enumerate(tqdm(texts)):\n",
    "    # create embeddings (try-except added to avoid RateLimitError)\n",
    "        try:\n",
    "                res = openai.Embedding.create(input=doc, engine=embedding_model)\n",
    "        except:\n",
    "            done = False\n",
    "            while not done:\n",
    "                sleep(5)\n",
    "                try:\n",
    "                    res = openai.Embedding.create(input=doc, engine=embedding_model)\n",
    "                    done = True\n",
    "                except:\n",
    "                    pass\n",
    "\n",
    "        embeds = [record['embedding'] for record in res['data']]\n",
    "        to_upsert = list(zip([f'{idx}'], embeds))\n",
    "        index.upsert(vectors=to_upsert)"
   ]
  },
  {
   "cell_type": "code",
   "execution_count": 14,
   "metadata": {},
   "outputs": [],
   "source": [
    "# Example retrieval\n",
    "query = \"Set node type A to size by numeric prop example b\"\n",
    "\n",
    "res = openai.Embedding.create(\n",
    "    input=[query],\n",
    "    engine=embedding_model\n",
    ")\n",
    "\n",
    "# retrieve from Pinecone\n",
    "xq = res['data'][0]['embedding']\n",
    "\n",
    "# get relevant contexts (including the questions)\n",
    "output = index.query(xq, top_k=3, include_metadata=True)"
   ]
  },
  {
   "cell_type": "code",
   "execution_count": 15,
   "metadata": {},
   "outputs": [
    {
     "name": "stdout",
     "output_type": "stream",
     "text": [
      "# `nodes`\n",
      "The `nodes` group contains data that is typically used to visualize single geographic locations in the \"**Map**\" view.\n",
      "\n",
      "## Common keys\n",
      "- [`allowModification`](../common_keys/common_keys.md#allowModification)\n",
      "- [`category`](../common_keys/common_keys.md#category)\n",
      "- [`colorByOptions`](../common_keys/common_keys.md#colorByOptions)\n",
      "- [`column`](../common_keys/common_keys.md#column)\n",
      "- [`data`](../common_keys/common_keys.md#data)\n",
      "- [`enabled`](../common_keys/common_keys.md#enabled)\n",
      "- [`endGradientColor`](../common_keys/common_keys.md#endGradientColor)\n",
      "- [`endSize`](../common_keys/common_keys.md#endSize)\n",
      "- [`help`](../common_keys/props.md#help)\n",
      "- [`icon`](../common_keys/common_keys.md#icon)\n",
      "- [`name`](../common_keys/common_keys.md#name)\n",
      "- [`numberFormat`](../common_keys/common_keys.md#number-format)\n",
      "- [`prop > type`](../common_keys/props.md#prop-type)\n",
      "- [`props`](../common_keys/common_keys.md#props-short)\n",
      "- [`sendToApi`](../common_keys/common_keys.md#sendToApi)\n",
      "- [`sendToClient`](../common_keys/common_keys.md#sendToClient)\n",
      "- [`sizeByOptions`](../common_keys/common_keys.md#sizeByOptions)\n",
      "- [`startSize`](../common_keys/common_keys.md#startSize)\n",
      "- [`startGradientColor`](../common_keys/common_keys.md#startGradientColor)\n",
      "- [`value`](../common_keys/props.md#value)\n",
      "- [`variant`](../common_keys/props.md#variant)\n",
      "\n",
      "## Special and custom keys\n",
      "Key | Default | Description\n",
      "--- | ------- | -----------\n",
      "<a name=\"node-data-point\">`data.customNodeData*`</a> | Required | A custom key wrapper for the parameters required to visualize a node and the data associated with it in the \"**Map**\" view.\n",
      "`data.customNodeData*.altitude` | `1` | The altitude of the node (in meters) above sea level. Defaults to 1 to appear on top of `geo` layers.\n",
      "`data.customNodeData*.category`&swarhk;<br>`.customDataChunck*` | | See [`customDataChunck*`](categories.md#customDataChunck).\n",
      "`data.customNodeData*.category`&swarhk;<br>`.customDataChunck*.customDataKey*` | | See [`customDataKey*`](categories.md#customDataKey).\n",
      "`data.customNodeData*.latitude` | Required | The latitude of the node location in the \"**Map**\" view. It takes a float value.\n",
      "`data.customNodeData*.longitude` | Required | The longitude of the node location in the \"**Map**\" view. It takes a float value.\n",
      "`data.customNodeData*.name` | | A name for the node location that will be displayed as a title in the map modal.\n",
      "`data.customNodeData*.props`&swarhk;<br>`.customPropKey*` | | See [`customPropKey*`](../common_keys/props.md#customPropKey).\n",
      "`data.customNodeData*.type` | Required | The `type` key sets the node type of `customNodeData*` to a `customNodeType*` key, to match specific visualization preferences for a node.\n",
      "`types` | Required | The `types` key allows you to define different types of nodes in terms of styling and data viz settings.\n",
      "<a name=\"node-type\">`types.customNodeType*`</a> | | A wrapper for key-value pairs that match a specific set of data viz preferences for a node.\n",
      "\n"
     ]
    }
   ],
   "source": [
    "print(texts[int(output['matches'][0]['id'])])"
   ]
  },
  {
   "cell_type": "code",
   "execution_count": 16,
   "metadata": {},
   "outputs": [
    {
     "name": "stdout",
     "output_type": "stream",
     "text": [
      "{\"arcs\":{\"types\":{\"T1\":{\"name\":\"Flow Type 1\",\"colorByOptions\":{\"selectorPropForColor\":{\"a\":\"rgb(128,255,255)\",\"b\":\"rgb(0,153,51)\",\"c\":\"rgb(0,0,128)\",\"d\":\"rgb(204,0,0)\",\"e\":\"rgb(153,77,0)\",\"f\":\"rgb(255,25,255)\"},\"numericPropExampleA\":{\"min\":0,\"max\":50,\"startGradientColor\":{\"dark\":\"rgb(233, 0, 0)\",\"light\":\"rgb(52, 52, 236)\"},\"endGradientColor\":{\"dark\":\"rgb(96, 2, 2)\",\"light\":\"rgb(23, 23, 126)\"}},\"numericPropExampleB\":{\"min\":0,\"max\":40,\"startGradientColor\":{\"dark\":\"rgb(233, 0, 0)\",\"light\":\"rgb(52, 52, 236)\"},\"endGradientColor\":{\"dark\":\"rgb(96, 2, 2)\",\"light\":\"rgb(23, 23, 126)\"}}},\"lineBy\":\"solid\",\"sizeByOptions\":{\"numericPropExampleA\":{\"min\":0,\"max\":50},\"numericPropExampleB\":{\"min\":0,\"max\":40}},\"startSize\":\"15px\",\"endSize\":\"30px\",\"props\":{\"numericPropExampleA\":{\"name\":\"Numeric Prop Example A\",\"type\":\"num\",\"enabled\":true,\"help\":\"Help for numeric prop example A\",\"numberFormat\":{\"unit\":\"A units\"},\"legendOverride\":{\"useScientificFormat\":false,\"minLabel\":\"small\"}},\"numericPropExampleB\":{\"name\":\"Numeric Prop Example B\",\"type\":\"num\",\"enabled\":true,\"help\":\"Help for numeric prop example B\",\"numberFormat\":{\"unit\":\"B units\"}},\"selectorPropForColor\":{\"name\":\"Example Categorical Prop\",\"type\":\"selector\",\"variant\":\"dropdown\",\"value\":[\"a\"],\"options\":{\"a\":{\"name\":\"A\"},\"b\":{\"name\":\"B\"},\"c\":{\"name\":\"C\"},\"d\":{\"name\":\"D\"},\"e\":{\"name\":\"E\"},\"f\":{\"name\":\"F\"}},\"enabled\":true}},\"layout\":{\"type\":\"grid\",\"numColumns\":\"auto\",\"numRows\":1,\"data\":{\"col1\":{\"type\":\"item\",\"itemId\":\"numericPropExampleA\",\"column\":1},\"col2\":{\"type\":\"item\",\"itemId\":\"numericPropExampleB\",\"column\":2},\"col3\":{\"type\":\"item\",\"itemId\":\"selectorPropForColor\",\"column\":3}}}},\"T2\":{\"name\":\"Flow Type 2\",\"colorByOptions\":{\"selectorPropForColor\":{\"a\":\"rgb(128,255,255)\",\"b\":\"rgb(0,153,51)\",\"c\":\"rgb(0,0,128)\",\"d\":\"rgb(204,0,0)\",\"e\":\"rgb(153,77,0)\",\"f\":\"rgb(255,25,255)\"},\"numericPropExampleA\":{\"min\":0,\"max\":50,\"startGradientColor\":{\"dark\":\"rgb(233, 0, 0)\",\"light\":\"rgb(52, 52, 236)\"},\"endGradientColor\":{\"dark\":\"rgb(96, 2, 2)\",\"light\":\"rgb(23, 23, 126)\"}},\"numericPropExampleB\":{\"min\":0,\"max\":40,\"startGradientColor\":{\"dark\":\"rgb(233, 0, 0)\",\"light\":\"rgb(52, 52, 236)\"},\"endGradientColor\":{\"dark\":\"rgb(96, 2, 2)\",\"light\":\"rgb(23, 23, 126)\"}}},\"lineBy\":\"dotted\",\"sizeByOptions\":{\"numericPropExampleA\":{\"min\":0,\"max\":50},\"numericPropExampleB\":{\"min\":0,\"max\":40}},\"startSize\":\"15px\",\"endSize\":\"30px\",\"props\":{\"numericPropExampleA\":{\"name\":\"Numeric Prop Example A\",\"type\":\"num\",\"enabled\":true,\"help\":\"Help for numeric prop example A\",\"numberFormat\":{\"unit\":\"A units\"}},\"numericPropExampleB\":{\"name\":\"Numeric Prop Example B\",\"type\":\"num\",\"enabled\":true,\"help\":\"Help for numeric prop example B\",\"numberFormat\":{\"unit\":\"B units\"}},\"selectorPropForColor\":{\"name\":\"Example Categorical Prop\",\"type\":\"selector\",\"variant\":\"dropdown\",\"value\":[\"a\"],\"options\":{\"a\":{\"name\":\"A\"},\"b\":{\"name\":\"B\"},\"c\":{\"name\":\"C\"},\"d\":{\"name\":\"D\"},\"e\":{\"name\":\"E\"},\"f\":{\"name\":\"F\"}},\"enabled\":true}},\"layout\":{\"type\":\"grid\",\"numColumns\":1,\"numRows\":\"auto\",\"data\":{\"row1\":{\"type\":\"item\",\"itemId\":\"numericPropExampleA\",\"row\":1},\"row2\":{\"type\":\"item\",\"itemId\":\"numericPropExampleB\",\"row\":2},\"row3\":{\"type\":\"item\",\"itemId\":\"selectorPropForColor\",\"row\":3}}}}},\"data\":{\"arc1\":{\"startLatitude\":43.78,\"startLongitude\":-79.63,\"endLatitude\":39.82,\"endLongitude\":-86.18,\"startClick\":800,\"endClick\":1600,\"type\":\"T1\",\"category\":{\"location\":[\"locCaOn\",\"locUsIn\"],\"sku\":[\"SKU2\",\"SKU1\"]},\"props\":{\"numericPropExampleA\":{\"value\":50},\"numericPropExampleB\":{\"value\":40},\"selectorPropForColor\":{\"value\":[\"b\"]}}},\"arc2\":{\"startLatitude\":39.82,\"startLongitude\":-86.18,\"endLatitude\":42.89,\"endLongitude\":-85.68,\"startClick\":1600,\"endClick\":2000,\"type\":\"T2\",\"category\":{\"location\":[\"locUsMi\",\"locUsIn\"],\"sku\":[\"SKU2\",\"SKU1\"]},\"props\":{\"numericPropExampleA\":{\"value\":30},\"numericPropExampleB\":{\"value\":20},\"selectorPropForColor\":{\"value\":[\"e\"]}}},\"arc3\":{\"startLatitude\":39.82,\"startLongitude\":-86.18,\"endLatitude\":28.49,\"endLongitude\":-81.56,\"startClick\":1600,\"endClick\":2000,\"type\":\"T2\",\"category\":{\"location\":[\"locUsFl\",\"locUsIn\"],\"sku\":[\"SKU2\",\"SKU1\"]},\"props\":{\"numericPropExampleA\":{\"value\":30},\"numericPropExampleB\":{\"value\":14},\"selectorPropForColor\":{\"value\":[\"d\"]}}},\"arc4\":{\"startLatitude\":39.82,\"startLongitude\":-86.18,\"endLatitude\":42.361176,\"endLongitude\":-71.084707,\"startClick\":1600,\"endClick\":2000,\"type\":\"T2\",\"category\":{\"location\":[\"locUsMa\",\"locUsIn\"],\"sku\":[\"SKU2\",\"SKU1\"]},\"props\":{\"numericPropExampleA\":{\"value\":30},\"numericPropExampleB\":{\"value\":6},\"selectorPropForColor\":{\"value\":[\"f\"]}}}}},\"geos\":{\"types\":{\"state\":{\"name\":\"State\",\"colorByOptions\":{\"numericPropExampleC\":{\"min\":0,\"max\":300,\"startGradientColor\":{\"dark\":\"rgb(100, 100, 100)\",\"light\":\"rgb(200, 200, 200)\"},\"endGradientColor\":{\"dark\":\"rgb(20, 205, 20)\",\"light\":\"rgb(10, 100, 10)\"}}},\"geoJson\":{\"geoJsonLayer\":\"https://geojsons.mitcave.com/world/world-states-provinces-md.json\",\"geoJsonProp\":\"code_hasc\"},\"icon\":\"BsHexagon\",\"props\":{\"numericPropExampleC\":{\"name\":\"Numeric Prop Example C\",\"type\":\"num\",\"enabled\":true,\"help\":\"Help with the example numeric prop for this State\",\"numberFormat\":{\"unit\":\"C units\"}}}},\"country\":{\"name\":\"Country\",\"colorByOptions\":{\"numericPropExampleC\":{\"min\":0,\"max\":800,\"startGradientColor\":{\"dark\":\"rgb(100, 100, 100)\",\"light\":\"rgb(200, 200, 200)\"},\"endGradientColor\":{\"dark\":\"rgb(20, 205, 20)\",\"light\":\"rgb(10, 100, 10)\"}}},\"geoJson\":{\"geoJsonLayer\":\"https://geojsons.mitcave.com/world/countries-sm.json\",\"geoJsonProp\":\"FIPS_10\"},\"icon\":\"BsHexagon\",\"props\":{\"numericPropExampleC\":{\"name\":\"Numeric Prop Example C\",\"type\":\"num\",\"enabled\":true,\"help\":\"Help with the example numeric prop for this Country\",\"numberFormat\":{\"unit\":\"units\"}}}}},\"data\":{\"geo1\":{\"name\":\"Ontario, Canada\",\"geoJsonValue\":\"CA.ON\",\"type\":\"state\",\"category\":{\"location\":[\"locCaOn\"]},\"props\":{\"numericPropExampleC\":{\"value\":50}}},\"geo2\":{\"name\":\"Michigan, USA\",\"geoJsonValue\":\"US.MI\",\"type\":\"state\",\"category\":{\"location\":[\"locUsMi\"]},\"props\":{\"numericPropExampleC\":{\"value\":300}}},\"geo3\":{\"name\":\"Massachusetts, USA\",\"geoJsonValue\":\"US.MA\",\"type\":\"state\",\"category\":{\"location\":[\"locUsMi\"]},\"props\":{\"numericPropExampleC\":{\"value\":250}}},\"geo4\":{\"name\":\"Florida, USA\",\"geoJsonValue\":\"US.FL\",\"type\":\"state\",\"category\":{\"location\":[\"locUsMi\"]},\"props\":{\"numericPropExampleC\":{\"value\":100}}},\"geo5\":{\"name\":\"Indiana, USA\",\"geoJsonValue\":\"US.FL\",\"type\":\"state\",\"category\":{\"location\":[\"locUsMi\"]},\"props\":{\"numericPropExampleC\":{\"value\":200}}},\"geoCountry1\":{\"name\":\"Canada\",\"geoJsonValue\":\"CA\",\"type\":\"country\",\"category\":{\"location\":[\"locCaOn\"]},\"props\":{\"numericPropExampleC\":{\"value\":50}}},\"geoCountry2\":{\"name\":\"USA\",\"geoJsonValue\":\"US\",\"type\":\"country\",\"category\":{\"location\":[\"locUsFl\",\"locUsMa\",\"locUsIn\",\"locUsMi\"]},\"props\":{\"numericPropExampleC\":{\"value\":800}}}}},\"kpis\":{\"data\":{\"kpiHeader1\":{\"type\":\"head\",\"name\":\"Example KPI Header 1\",\"icon\":\"BsInboxes\"},\"kpiHeader2\":{\"type\":\"head\",\"name\":\"Example KPI Header 2\",\"icon\":\"BsTruck\"},\"key1\":{\"name\":\"KPI Example 1\",\"value\":18,\"icon\":\"BsFillEmojiFrownFill\",\"mapKpi\":true,\"numberFormat\":{\"precision\":0,\"unit\":\"frowns\"}},\"key2\":{\"name\":\"KPI Example 2\",\"value\":32,\"icon\":\"BsFillEmojiSmileFill\",\"mapKpi\":true,\"numberFormat\":{\"precision\":0,\"unit\":\"smiles\"}},\"key3\":{\"name\":\"KPI Example 3\",\"icon\":\"BsInboxes\",\"numberFormat\":{\"precision\":4,\"trailingZeros\":true,\"unit\":\"units\"},\"value\":100},\"key4\":{\"name\":\"A Big Number\",\"icon\":\"BsTruck\",\"value\":10000000000000,\"numberFormat\":{\"precision\":0,\"unit\":\"units\"}},\"key5\":{\"name\":\"A Really Big Number\",\"icon\":\"MdExpand\",\"value\":9007199254740991,\"numberFormat\":{\"precision\":2,\"unit\":\"$\",\"currency\":true,\"trailingZeros\":false}}},\"layout\":{\"type\":\"grid\",\"numColumns\":\"auto\",\"numRows\":\"auto\",\"data\":{\"col1Row1\":{\"type\":\"item\",\"itemId\":\"kpiHeader1\",\"column\":1,\"row\":1},\"col1Row2\":{\"type\":\"item\",\"itemId\":\"key1\",\"column\":1,\"row\":2},\"col1Row3\":{\"type\":\"item\",\"itemId\":\"key4\",\"column\":1,\"row\":3},\"col1Row4\":{\"type\":\"item\",\"itemId\":\"key5\",\"column\":1,\"row\":4},\"col2Row1\":{\"type\":\"item\",\"itemId\":\"kpiHeader2\",\"column\":2,\"row\":1},\"col2Row2\":{\"type\":\"item\",\"itemId\":\"key2\",\"column\":2,\"row\":2},\"col2Row3\":{\"type\":\"item\",\"itemId\":\"key3\",\"column\":2,\"row\":3}}}},\"maps\":{\"data\":{\"map1\":{\"defaultViewport\":{\"longitude\":-75.44766721108091,\"latitude\":40.34530681636297,\"zoom\":4.657916626867326,\"pitch\":0,\"bearing\":0,\"height\":1287,\"altitude\":1.5,\"maxZoom\":12,\"minZoom\":2},\"optionalViewports\":{\"ov0\":{\"icon\":\"FaGlobeAsia\",\"name\":\"Asia\",\"zoom\":4,\"order\":1,\"pitch\":0,\"bearing\":0,\"maxZoom\":12,\"minZoom\":2,\"latitude\":30,\"longitude\":121},\"ov1\":{\"icon\":\"FaGlobeEurope\",\"name\":\"EMEA\",\"zoom\":4,\"order\":1,\"pitch\":0,\"bearing\":0,\"maxZoom\":12,\"minZoom\":2,\"latitude\":47,\"longitude\":14}},\"legendGroups\":{\"lga\":{\"name\":\"Legend Group A\",\"nodes\":{\"nodeTypeA\":{\"value\":true,\"sizeBy\":\"numericPropExampleA\",\"colorBy\":\"booleanPropExample\"}},\"arcs\":{\"T1\":{\"colorBy\":\"numericPropExampleA\",\"sizeBy\":\"numericPropExampleB\",\"value\":true}},\"order\":1},\"lgb\":{\"name\":\"Legend Group B\",\"nodes\":{\"nodeTypeB\":{\"value\":true,\"sizeBy\":\"numericPropExampleB\",\"colorBy\":\"booleanPropExample\"}},\"arcs\":{\"T2\":{\"colorBy\":\"numericPropExampleA\",\"sizeBy\":\"numericPropExampleB\",\"value\":true}},\"geos\":{\"state\":{\"value\":true,\"colorBy\":\"numericPropExampleC\"},\"country\":{\"value\":false,\"colorBy\":\"numericPropExampleC\"}},\"order\":2}}},\"map2\":{\"defaultViewport\":{\"longitude\":-75.44766721108091,\"latitude\":40.34530681636297,\"zoom\":4.657916626867326,\"pitch\":0,\"bearing\":0,\"height\":1287,\"altitude\":1.5,\"maxZoom\":12,\"minZoom\":2},\"optionalViewports\":{\"ov0\":{\"icon\":\"FaGlobeAsia\",\"name\":\"Asia\",\"zoom\":4,\"order\":1,\"pitch\":0,\"bearing\":0,\"maxZoom\":12,\"minZoom\":2,\"latitude\":30,\"longitude\":121},\"ov1\":{\"icon\":\"FaGlobeEurope\",\"name\":\"EMEA\",\"zoom\":4,\"order\":1,\"pitch\":0,\"bearing\":0,\"maxZoom\":12,\"minZoom\":2,\"latitude\":47,\"longitude\":14}},\"legendGroups\":{\"lga\":{\"name\":\"Legend Group A\",\"nodes\":{\"nodeTypeA\":{\"value\":true,\"sizeBy\":\"numericPropExampleA\",\"colorBy\":\"booleanPropExample\"}},\"arcs\":{\"T1\":{\"colorBy\":\"numericPropExampleA\",\"sizeBy\":\"numericPropExampleB\",\"value\":true}},\"order\":1},\"lgb\":{\"name\":\"Legend Group B\",\"nodes\":{\"nodeTypeB\":{\"value\":true,\"sizeBy\":\"numericPropExampleB\",\"colorBy\":\"booleanPropExample\"}},\"arcs\":{\"T2\":{\"colorBy\":\"numericPropExampleA\",\"sizeBy\":\"numericPropExampleB\",\"value\":true}},\"geos\":{\"state\":{\"value\":true,\"colorBy\":\"numericPropExampleC\"},\"country\":{\"value\":false,\"colorBy\":\"numericPropExampleC\"}},\"order\":2}}}}},\"nodes\":{\"types\":{\"nodeTypeA\":{\"name\":\"Node Type A\",\"colorByOptions\":{\"numericPropExampleA\":{\"min\":0,\"max\":80,\"startGradientColor\":{\"dark\":\"rgb(233, 0, 0)\",\"light\":\"rgb(52, 52, 236)\"},\"endGradientColor\":{\"dark\":\"rgb(96, 2, 2)\",\"light\":\"rgb(23, 23, 126)\"}},\"numericPropExampleB\":{\"min\":0,\"max\":50,\"startGradientColor\":{\"dark\":\"rgb(233, 0, 0)\",\"light\":\"rgb(52, 52, 236)\"},\"endGradientColor\":{\"dark\":\"rgb(96, 2, 2)\",\"light\":\"rgb(23, 23, 126)\"}},\"booleanPropExample\":{\"false\":\"rgb(255,0,0)\",\"true\":\"rgb(0,255,0)\"}},\"sizeByOptions\":{\"numericPropExampleA\":{\"min\":0,\"max\":80},\"numericPropExampleB\":{\"min\":0,\"max\":50}},\"startSize\":\"30px\",\"endSize\":\"45px\",\"icon\":\"FaIgloo\",\"props\":{\"numericPropExampleA\":{\"name\":\"Numeric Prop Example A\",\"type\":\"num\",\"enabled\":true,\"help\":\"Help for numeric prop example A\",\"numberFormat\":{\"unit\":\"A units\"},\"legendOverride\":{\"scientificPrecision\":5,\"useScientificFormat\":true}},\"numericPropExampleB\":{\"name\":\"Numeric Prop Example B\",\"type\":\"num\",\"enabled\":true,\"help\":\"Help for numeric prop example B\",\"numberFormat\":{\"unit\":\"B units\"},\"legendOverride\":{\"useScientificFormat\":true}},\"booleanPropExample\":{\"name\":\"Boolean Prop Example\",\"type\":\"toggle\",\"value\":true,\"enabled\":true,\"help\":\"Help for boolean prop\"}}},\"nodeTypeB\":{\"name\":\"Node Type B\",\"colorByOptions\":{\"numericPropExampleA\":{\"min\":0,\"max\":1000,\"startGradientColor\":{\"dark\":\"rgb(233, 0, 0)\",\"light\":\"rgb(52, 52, 236)\"},\"endGradientColor\":{\"dark\":\"rgb(96, 2, 2)\",\"light\":\"rgb(23, 23, 126)\"}},\"numericPropExampleB\":{\"min\":0,\"max\":50,\"startGradientColor\":{\"dark\":\"rgb(233, 0, 0)\",\"light\":\"rgb(52, 52, 236)\"},\"endGradientColor\":{\"dark\":\"rgb(96, 2, 2)\",\"light\":\"rgb(23, 23, 126)\"}},\"booleanPropExample\":{\"false\":\"rgb(233, 0, 0)\",\"true\":\"rgb(0, 233, 0)\"}},\"sizeByOptions\":{\"numericPropExampleA\":{\"min\":0,\"max\":100},\"numericPropExampleB\":{\"min\":0,\"max\":250}},\"startSize\":\"30px\",\"endSize\":\"45px\",\"icon\":\"TbBuildingWarehouse\",\"props\":{\"numericPropExampleA\":{\"name\":\"Numeric Prop Example A\",\"type\":\"num\",\"enabled\":true,\"help\":\"Help for numeric prop example A\",\"numberFormat\":{\"unit\":\"A units\"},\"legendOverride\":{\"scientificPrecision\":5}},\"numericPropExampleB\":{\"name\":\"Numeric Prop Example B\",\"type\":\"num\",\"enabled\":true,\"help\":\"Help for numeric prop example B\",\"numberFormat\":{\"unit\":\"B units\"},\"legendOverride\":{\"minLabel\":\"Lo\",\"maxLabel\":\"Hi\"}},\"booleanPropExample\":{\"name\":\"Boolean Prop Example\",\"type\":\"toggle\",\"value\":true,\"enabled\":true,\"help\":\"Help for boolean prop\"}}}},\"data\":{\"node1\":{\"latitude\":43.78,\"longitude\":-79.63,\"type\":\"nodeTypeA\",\"category\":{\"location\":[\"locCaOn\"],\"sku\":[\"SKU2\",\"SKU1\"]},\"props\":{\"numericPropExampleA\":{\"value\":100},\"numericPropExampleB\":{\"value\":50},\"booleanPropExample\":{\"value\":true}}},\"node2\":{\"latitude\":39.82,\"longitude\":-86.18,\"type\":\"nodeTypeA\",\"category\":{\"location\":[\"locUsIn\"],\"sku\":[\"SKU2\",\"SKU1\"]},\"props\":{\"numericPropExampleA\":{\"value\":80},\"numericPropExampleB\":{\"value\":40},\"booleanPropExample\":{\"value\":true}}},\"node3\":{\"latitude\":42.89,\"longitude\":-85.68,\"type\":\"nodeTypeB\",\"category\":{\"location\":[\"locUsMi\"],\"sku\":[\"SKU2\",\"SKU1\"]},\"props\":{\"numericPropExampleA\":{\"value\":500},\"numericPropExampleB\":{\"value\":150},\"booleanPropExample\":{\"value\":true}}},\"node4\":{\"latitude\":28.49,\"longitude\":-81.56,\"type\":\"nodeTypeB\",\"category\":{\"location\":[\"locUsFl\"],\"sku\":[\"SKU2\",\"SKU1\"]},\"props\":{\"numericPropExampleA\":{\"value\":1000},\"numericPropExampleB\":{\"value\":250},\"booleanPropExample\":{\"value\":true}}},\"node5\":{\"latitude\":42.361176,\"longitude\":-71.084707,\"type\":\"nodeTypeB\",\"category\":{\"location\":[\"locUsMa\"],\"sku\":[\"SKU2\",\"SKU1\"]},\"props\":{\"numericPropExampleA\":{\"value\":1000},\"numericPropExampleB\":{\"value\":250},\"booleanPropExample\":{\"value\":true}}}}},\"panes\":{\"data\":{\"session\":{\"variant\":\"session\",\"name\":\"Sessions Pane\"},\"appSettings\":{\"name\":\"App Settings Pane\",\"variant\":\"appSettings\"},\"examplePropsPane\":{\"name\":\"Example Props Pane\",\"variant\":\"options\",\"props\":{\"numericHeader\":{\"name\":\"Numeric Props\",\"type\":\"head\",\"help\":\"Some help for numeric props\"},\"numericInputExample\":{\"name\":\"Numeric Input Example\",\"type\":\"num\",\"value\":50,\"enabled\":true,\"help\":\"Help for the numeric input example\",\"maxValue\":100,\"minValue\":0,\"numberFormat\":{\"precision\":0,\"unit\":\"units\"}},\"numericSliderExample\":{\"name\":\"Numeric Slider Example\",\"type\":\"num\",\"value\":50,\"enabled\":true,\"variant\":\"slider\",\"help\":\"Help for the numeric slider example\",\"maxValue\":100,\"minValue\":0,\"numberFormat\":{\"unit\":\"%\"}},\"miscHeader\":{\"name\":\"Misc Props\",\"type\":\"head\",\"help\":\"Some help for miscelanous props\"},\"toggleInputExample\":{\"name\":\"Toggle Input Example\",\"type\":\"toggle\",\"value\":true,\"enabled\":true,\"help\":\"Help for the toggle input example\"},\"buttonInputExample\":{\"name\":\"Button Input Example (Creates an Error)\",\"value\":\"Press Me!\",\"type\":\"button\",\"apiCommand\":\"test\",\"enabled\":true,\"help\":\"Press this button to create an error\"},\"pictureExample\":{\"name\":\"Picture Example\",\"type\":\"media\",\"variant\":\"picture\",\"value\":\"https://ctl.mit.edu/sites/ctl.mit.edu/files/inline-images/MIT_CTL_CAVE_Lab_2.png\",\"help\":\"Click the expand button to view an enlarged version\"},\"videoExample\":{\"name\":\"Video Example\",\"type\":\"media\",\"variant\":\"video\",\"value\":\"https://www.youtube.com/embed/6q5R1TDmKnU\",\"help\":\"Click the play button to start the video\"},\"textHeader\":{\"name\":\"Text Props\",\"type\":\"head\",\"help\":\"Some help for Text Props\"},\"textInputExample\":{\"name\":\"Text Input Example\",\"type\":\"text\",\"value\":\"Example Text Here\",\"enabled\":true,\"help\":\"Help for the text input example\"},\"textAreaInputExample\":{\"name\":\"TextArea Input Example\",\"type\":\"text\",\"variant\":\"textarea\",\"rows\":6,\"value\":\"Velit non incididunt velit quis commodo consequat velit nulla. Id sunt sint consequat do in. Et adipisicing aliqua voluptate eu consequat et dolore mollit sit veniam minim nisi tempor. Enim laboris proident ex magna. Duis culpa veniam et officia irure id qui id ad laborum deserunt dolor proident elit.\",\"enabled\":true,\"help\":\"Help for the text area input example\"},\"selectorHeader\":{\"name\":\"Selection Props\",\"type\":\"head\",\"help\":\"Some help for Selection Props\"},\"dropdownItemExample\":{\"name\":\"Dropdown Item Example\",\"type\":\"selector\",\"variant\":\"dropdown\",\"value\":[\"option_c\"],\"options\":{\"option_a\":{\"name\":\"Option A\"},\"option_b\":{\"name\":\"Option B\"},\"option_c\":{\"name\":\"Option C\"}},\"enabled\":true,\"help\":\"Select an option from the dropdown\"},\"checkboxItemExample\":{\"name\":\"Checkbox Item Example\",\"type\":\"selector\",\"variant\":\"checkbox\",\"value\":[\"option_a\",\"option_c\"],\"options\":{\"option_a\":{\"name\":\"Option A\"},\"option_b\":{\"name\":\"Option B\"},\"option_c\":{\"name\":\"Option C\"}},\"enabled\":true,\"help\":\"Select all relevant items\"},\"radioItemExample\":{\"name\":\"Radio Item Example\",\"type\":\"selector\",\"variant\":\"radio\",\"value\":[\"option_a\"],\"options\":{\"option_a\":{\"name\":\"Option A\"},\"option_b\":{\"name\":\"Option B\"},\"option_c\":{\"name\":\"Option C\"}},\"enabled\":true,\"help\":\"Select one item from the list\"},\"hstepperItemExample\":{\"name\":\"Horizontal Stepper Item Example\",\"type\":\"selector\",\"variant\":\"hstepper\",\"value\":[\"option_c\"],\"options\":{\"option_a\":{\"name\":\"Option A\"},\"option_b\":{\"name\":\"Option B\"},\"option_c\":{\"name\":\"Option C\"}},\"enabled\":true,\"help\":\"Select an option from the stepper\"},\"vstepperItemExample\":{\"name\":\"Vertical Stepper Item Example\",\"type\":\"selector\",\"variant\":\"vstepper\",\"value\":[\"option_c\"],\"options\":{\"option_a\":{\"name\":\"Option A\"},\"option_b\":{\"name\":\"Option B\"},\"option_c\":{\"name\":\"Option C\"}},\"enabled\":true,\"help\":\"Select an option from the stepper\"},\"hradioItemExample\":{\"name\":\"Horizontal Radio Item Example\",\"type\":\"selector\",\"variant\":\"hradio\",\"value\":[\"option_c\"],\"options\":{\"option_a\":{\"name\":\"Option A\"},\"option_b\":{\"name\":\"Option B\"},\"option_c\":{\"name\":\"Option C\"}},\"enabled\":true,\"help\":\"Select an option from the radio\"},\"comboBoxItemExample\":{\"name\":\"ComboBox Item Example\",\"type\":\"selector\",\"variant\":\"combobox\",\"value\":[\"option_b\"],\"placeholder\":\"Option\",\"options\":{\"option_a\":{\"name\":\"Option A\"},\"option_b\":{\"name\":\"Option B\"},\"option_c\":{\"name\":\"Option C\"}},\"enabled\":true,\"help\":\"Select an option from the combobox\"},\"nestedItemExample\":{\"name\":\"Nested Item Example\",\"type\":\"selector\",\"variant\":\"nested\",\"value\":[\"t1_b1_tw1\",\"t1_b1_tw2\",\"t1_b2_tw2\",\"t2_b1_tw1\",\"t2_b1_tw2\"],\"options\":{\"t1_b1_tw1\":{\"name\":\"Twig1\",\"path\":[\"Tree1\",\"Branch1\"]},\"t1_b1_tw2\":{\"name\":\"Twig2\",\"path\":[\"Tree1\",\"Branch1\"]},\"t1_b1_tw3\":{\"name\":\"Twig3\",\"path\":[\"Tree1\",\"Branch1\"]},\"t1_b2_tw1\":{\"name\":\"Twig1\",\"path\":[\"Tree1\",\"Branch2\"]},\"t1_b2_tw2\":{\"name\":\"Twig2\",\"path\":[\"Tree1\",\"Branch2\"]},\"t2_b1_tw1\":{\"name\":\"Twig1\",\"path\":[\"Tree2\",\"Branch1\"]},\"t2_b1_tw2\":{\"name\":\"Twig2\",\"path\":[\"Tree2\",\"Branch1\"]},\"t2_b2_tw1\":{\"name\":\"Twig1\",\"path\":[\"Tree2\",\"Branch2\"]},\"t2_b2_tw2\":{\"name\":\"Twig2\",\"path\":[\"Tree2\",\"Branch2\"]}},\"enabled\":true,\"help\":\"Select all relevant items\"},\"dateTimeHeader\":{\"name\":\"Date and Time Props\",\"type\":\"head\",\"help\":\"Some help for Date and Time Props\"},\"dateItemExample\":{\"name\":\"Date Example\",\"type\":\"date\",\"variant\":\"date\",\"value\":\"07/20/1969\",\"enabled\":true,\"help\":\"The Eagle has landed!\"},\"timeItemExample\":{\"name\":\"Time Example\",\"type\":\"date\",\"variant\":\"time\",\"value\":\"1969-07-20T20:17:40\",\"enabled\":true,\"help\":\"The Eagle has landed!\"},\"dateTimeItemExample\":{\"name\":\"Date and Time Example\",\"type\":\"date\",\"variant\":\"datetime\",\"value\":\"1969-07-20T20:17:40\",\"enabled\":true,\"help\":\"The Eagle has landed!\"}},\"layout\":{\"type\":\"grid\",\"numColumns\":5,\"numRows\":\"auto\",\"data\":{\"col1Row1\":{\"type\":\"item\",\"column\":1,\"row\":1,\"itemId\":\"numericHeader\"},\"col1Row2\":{\"type\":\"item\",\"column\":1,\"row\":2,\"itemId\":\"numericInputExample\"},\"col1Row3\":{\"type\":\"item\",\"column\":1,\"row\":3,\"itemId\":\"numericSliderExample\"},\"col2Row1\":{\"type\":\"item\",\"column\":2,\"row\":1,\"itemId\":\"textHeader\"},\"col2Row2\":{\"type\":\"item\",\"column\":2,\"row\":2,\"itemId\":\"textInputExample\"},\"col2Row3\":{\"type\":\"item\",\"column\":2,\"row\":3,\"itemId\":\"textAreaInputExample\"},\"col3Row1\":{\"type\":\"item\",\"column\":3,\"row\":1,\"itemId\":\"miscHeader\"},\"col3Row2\":{\"type\":\"item\",\"column\":3,\"row\":2,\"itemId\":\"toggleInputExample\"},\"col3Row3\":{\"type\":\"item\",\"column\":3,\"row\":3,\"itemId\":\"buttonInputExample\"},\"col3Row4\":{\"type\":\"item\",\"column\":3,\"row\":4,\"itemId\":\"pictureExample\"},\"col3Row5\":{\"type\":\"item\",\"column\":3,\"row\":5,\"itemId\":\"videoExample\"},\"col4Row1\":{\"type\":\"item\",\"column\":4,\"row\":1,\"itemId\":\"selectorHeader\"},\"col4Row2\":{\"type\":\"item\",\"column\":4,\"row\":2,\"itemId\":\"dropdownItemExample\"},\"col4Row3\":{\"type\":\"item\",\"column\":4,\"row\":3,\"itemId\":\"checkboxItemExample\"},\"col4Row4\":{\"type\":\"item\",\"column\":4,\"row\":4,\"itemId\":\"radioItemExample\"},\"col4Row5\":{\"type\":\"item\",\"column\":4,\"row\":5,\"itemId\":\"comboBoxItemExample\"},\"col4Row6\":{\"type\":\"item\",\"column\":4,\"row\":6,\"itemId\":\"hstepperItemExample\"},\"col4Row7\":{\"type\":\"item\",\"column\":4,\"row\":7,\"itemId\":\"vstepperItemExample\"},\"col4Row8\":{\"type\":\"item\",\"column\":4,\"row\":8,\"itemId\":\"hradioItemExample\"},\"col4Row9\":{\"type\":\"item\",\"column\":4,\"row\":9,\"itemId\":\"nestedItemExample\"},\"col5Row1\":{\"type\":\"item\",\"column\":5,\"row\":1,\"itemId\":\"dateTimeHeader\"},\"col5Row2\":{\"type\":\"item\",\"column\":5,\"row\":2,\"itemId\":\"dateItemExample\"},\"col5Row3\":{\"type\":\"item\",\"column\":5,\"row\":3,\"itemId\":\"timeItemExample\"},\"col5Row4\":{\"type\":\"item\",\"column\":5,\"row\":4,\"itemId\":\"dateTimeItemExample\"}}}},\"filter\":{\"name\":\"Filter\",\"variant\":\"filter\"},\"context\":{\"name\":\"Context Pane\",\"variant\":\"context\",\"props\":{\"numericContextProp\":{\"name\":\"Numeric Context Prop\",\"type\":\"num\",\"value\":100,\"enabled\":true,\"help\":\"Numeric Context Prop Help\",\"label\":\"%\",\"variant\":\"slider\",\"maxValue\":500,\"minValue\":0,\"selectableCategories\":[\"location\",\"sku\"]}},\"data\":{\"context1\":{\"prop\":\"numericContextProp\",\"value\":110,\"applyCategories\":{\"location\":[\"locUsMi\"]}}}}}},\"stats\":{\"types\":{\"numericStatExampleA\":{\"name\":\"Stat Example A\",\"calculation\":\"numericStatExampleA\",\"numberFormat\":{\"unit\":\"units\"},\"order\":1},\"numericStatExampleB\":{\"name\":\"Stat Example B\",\"calculation\":\"numericStatExampleB\",\"numberFormat\":{\"unit\":\"units\"},\"order\":2},\"numericExampleCalculationStat\":{\"name\":\"Stat A as a percentage of Stat B\",\"calculation\":\"numericStatExampleA / groupSum(\\\"numericStatExampleB\\\")\",\"groupByOptions\":[\"location\"],\"numberFormat\":{\"precision\":2,\"trailingZeros\":true,\"unitSpace\":false,\"unit\":\"%\"},\"order\":3}},\"data\":{\"d1\":{\"category\":{\"location\":[\"locCaOn\"],\"sku\":[\"SKU1\"]},\"values\":{\"numericStatExampleA\":5,\"numericStatExampleB\":10}},\"d2\":{\"category\":{\"location\":[\"locCaOn\"],\"sku\":[\"SKU2\"]},\"values\":{\"numericStatExampleA\":4,\"numericStatExampleB\":5}},\"d3\":{\"category\":{\"location\":[\"locUsMi\"],\"sku\":[\"SKU1\"]},\"values\":{\"numericStatExampleA\":6,\"numericStatExampleB\":7}},\"d4\":{\"category\":{\"location\":[\"locUsMi\"],\"sku\":[\"SKU2\"]},\"values\":{\"numericStatExampleA\":-3,\"numericStatExampleB\":5}},\"d5\":{\"category\":{\"location\":[\"locUsIn\"],\"sku\":[\"SKU2\"]},\"values\":{\"numericStatExampleA\":-3,\"numericStatExampleB\":-2}},\"d6\":{\"category\":{\"location\":[\"locUsFl\"],\"sku\":[\"SKU2\"]},\"values\":{\"numericStatExampleA\":1,\"numericStatExampleB\":-1}}}},\"appBar\":{\"data\":{\"appBarId\":\"dash1\",\"session\":{\"icon\":\"MdApi\",\"type\":\"pane\",\"bar\":\"upper\",\"order\":0},\"appSettings\":{\"icon\":\"MdOutlineSettings\",\"type\":\"pane\",\"bar\":\"upper\",\"order\":1},\"resetButton\":{\"icon\":\"MdSync\",\"color\":{\"dark\":\"rgb(255, 101, 101)\",\"light\":\"rgb(212, 0, 0)\"},\"apiCommand\":\"reset\",\"type\":\"button\",\"bar\":\"upper\",\"order\":2},\"buttonSolve\":{\"icon\":\"BsLightningFill\",\"color\":{\"dark\":\"rgb(178, 179, 55)\",\"light\":\"rgb(79, 79, 24)\"},\"apiCommand\":\"solve\",\"type\":\"button\",\"bar\":\"upper\",\"order\":2},\"examplePropsPane\":{\"icon\":\"FaCogs\",\"type\":\"pane\",\"bar\":\"upper\",\"order\":3},\"context\":{\"icon\":\"BsInboxes\",\"type\":\"pane\",\"order\":4,\"bar\":\"upper\"},\"filter\":{\"icon\":\"FaFilter\",\"type\":\"pane\",\"order\":5,\"bar\":\"upper\"},\"map1\":{\"type\":\"map\",\"icon\":\"FaMapMarkedAlt\",\"bar\":\"lower\",\"order\":1},\"map2\":{\"type\":\"map\",\"icon\":\"FaMapMarked\",\"bar\":\"lower\",\"order\":2},\"dash1\":{\"type\":\"stats\",\"icon\":\"MdInsertChart\",\"order\":3,\"bar\":\"lower\"},\"kpi1\":{\"type\":\"kpi\",\"icon\":\"MdSpeed\",\"bar\":\"lower\",\"order\":4}}},\"settings\":{\"allowModification\":false,\"data\":{\"sync\":{\"appBar\":{\"name\":\"App Bar\",\"showToggle\":true,\"value\":false,\"data\":{\"ab1\":[\"appBar\",\"paneState\"]}},\"pageSelection\":{\"name\":\"Page Selection\",\"showToggle\":true,\"value\":false,\"data\":{\"ps1\":[\"appBar\",\"data\",\"appBarId\"]}},\"mapLayers\":{\"name\":\"Map Layers\",\"showToggle\":true,\"value\":false,\"data\":{\"ml1\":[\"maps\",\"data\",\"map1\",\"legendGroups\"]}},\"dashboards\":{\"name\":\"Dashboards\",\"showToggle\":true,\"value\":false,\"data\":{\"db1\":[\"dashboards\",\"data\"]}}},\"iconUrl\":\"https://react-icons.mitcave.com/4.8.0\",\"numberFormat\":{\"precision\":4,\"trailingZeros\":false,\"unitSpace\":true},\"debug\":true}},\"associated\":{\"data\":{\"1\":{\"name\":\"Personal (admin) -> Initial Session\",\"data\":{\"kpis\":{\"data\":{\"kpiHeader1\":{\"type\":\"head\",\"name\":\"Example KPI Header 1\",\"icon\":\"BsInboxes\"},\"kpiHeader2\":{\"type\":\"head\",\"name\":\"Example KPI Header 2\",\"icon\":\"BsTruck\"},\"key1\":{\"name\":\"KPI Example 1\",\"value\":18,\"icon\":\"BsFillEmojiFrownFill\",\"mapKpi\":true,\"numberFormat\":{\"precision\":0,\"unit\":\"frowns\"}},\"key2\":{\"name\":\"KPI Example 2\",\"value\":32,\"icon\":\"BsFillEmojiSmileFill\",\"mapKpi\":true,\"numberFormat\":{\"precision\":0,\"unit\":\"smiles\"}},\"key3\":{\"name\":\"KPI Example 3\",\"icon\":\"BsInboxes\",\"numberFormat\":{\"precision\":4,\"trailingZeros\":true,\"unit\":\"units\"},\"value\":100},\"key4\":{\"name\":\"A Big Number\",\"icon\":\"BsTruck\",\"value\":10000000000000,\"numberFormat\":{\"precision\":0,\"unit\":\"units\"}},\"key5\":{\"name\":\"A Really Big Number\",\"icon\":\"MdExpand\",\"value\":9007199254740991,\"numberFormat\":{\"precision\":2,\"unit\":\"$\",\"currency\":true,\"trailingZeros\":false}}},\"layout\":{\"type\":\"grid\",\"numColumns\":\"auto\",\"numRows\":\"auto\",\"data\":{\"col1Row1\":{\"type\":\"item\",\"itemId\":\"kpiHeader1\",\"column\":1,\"row\":1},\"col1Row2\":{\"type\":\"item\",\"itemId\":\"key1\",\"column\":1,\"row\":2},\"col1Row3\":{\"type\":\"item\",\"itemId\":\"key4\",\"column\":1,\"row\":3},\"col1Row4\":{\"type\":\"item\",\"itemId\":\"key5\",\"column\":1,\"row\":4},\"col2Row1\":{\"type\":\"item\",\"itemId\":\"kpiHeader2\",\"column\":2,\"row\":1},\"col2Row2\":{\"type\":\"item\",\"itemId\":\"key2\",\"column\":2,\"row\":2},\"col2Row3\":{\"type\":\"item\",\"itemId\":\"key3\",\"column\":2,\"row\":3}}}}}}},\"sendToApi\":false,\"allowModification\":false},\"categories\":{\"allowModification\":false,\"data\":{\"location\":{\"data\":{\"locUsMi\":{\"region\":\"North America\",\"country\":\"USA\",\"state\":\"Michigan\"},\"locUsMa\":{\"region\":\"North America\",\"country\":\"USA\",\"state\":\"Massachusetts\"},\"locUsFl\":{\"region\":\"North America\",\"country\":\"USA\",\"state\":\"Florida\"},\"locUsIn\":{\"region\":\"North America\",\"country\":\"USA\",\"state\":\"Indiana\"},\"locCaOn\":{\"region\":\"North America\",\"country\":\"Canada\",\"state\":\"Ontario\"}},\"name\":\"Locations\",\"nestedStructure\":{\"region\":{\"name\":\"Regions\",\"order\":1},\"country\":{\"name\":\"Countries\",\"ordering\":[\"USA\",\"Canada\"],\"order\":2},\"state\":{\"name\":\"States\",\"order\":3}},\"layoutDirection\":\"horizontal\",\"grouping\":\"Solo\",\"order\":1},\"sku\":{\"data\":{\"SKU1\":{\"type\":\"Type A\",\"size\":\"Size A\",\"sku\":\"SKU1\"},\"SKU2\":{\"type\":\"Type A\",\"size\":\"Size B\",\"sku\":\"SKU2\"}},\"name\":\"SKUs\",\"nestedStructure\":{\"type\":{\"name\":\"Types\",\"order\":1},\"size\":{\"name\":\"Sizing\",\"ordering\":[\"Size B\",\"Size A\"],\"order\":2},\"sku\":{\"name\":\"SKU\",\"order\":3}},\"layoutDirection\":\"horizontal\",\"order\":2}}},\"dashboards\":{\"data\":{\"dash1\":{\"dashboardLayout\":[{\"chart\":\"Bar\",\"grouping\":\"Average\",\"statistic\":\"numericStatExampleA\"},{\"type\":\"kpis\",\"chart\":\"Line\",\"grouping\":\"Sum\",\"sessions\":[],\"kpi\":[\"key1\",\"key2\"]},{\"chart\":\"Bar\",\"level\":\"size\",\"category\":\"sku\",\"grouping\":\"Sum\",\"statistic\":\"numericExampleCalculationStat\"},{\"chart\":\"Stacked Waterfall\",\"grouping\":\"Sum\",\"statistic\":\"numericStatExampleA\",\"category\":\"location\",\"level\":\"state\",\"category2\":\"sku\",\"level2\":\"sku\"}],\"lockedLayout\":false}}},\"versions\":{\"settings\":1,\"categories\":1,\"appBar\":1,\"panes\":1,\"dashboards\":1,\"maps\":1,\"arcs\":1,\"nodes\":1,\"geos\":1,\"stats\":1,\"kpis\":1,\"associated\":1}}\n"
     ]
    }
   ],
   "source": [
    "state = \"\"\n",
    "with open('state.json') as f:\n",
    "    state = f.read()\n",
    "\n",
    "print(state)"
   ]
  },
  {
   "cell_type": "markdown",
   "metadata": {},
   "source": [
    "# Run Query through gpt4\n",
    "\n",
    "Note: Currently using gpt-4 as gpt-4-32k hasn't been publicly released yet and gpt-3.5-turbo-16k isn't great"
   ]
  },
  {
   "cell_type": "code",
   "execution_count": 35,
   "metadata": {},
   "outputs": [
    {
     "name": "stdout",
     "output_type": "stream",
     "text": [
      "900\n"
     ]
    }
   ],
   "source": [
    "# Note: Consider if its worth vectorizing this... or anything tbh\n",
    "topLevel = \"\"\n",
    "with open(f'{docs_dir}topLevelInfo.md') as f:\n",
    "    topLevel = f.read()\n",
    "\n",
    "print(tiktoken_len(topLevel))"
   ]
  },
  {
   "cell_type": "code",
   "execution_count": 53,
   "metadata": {},
   "outputs": [
    {
     "name": "stdout",
     "output_type": "stream",
     "text": [
      "maps\n"
     ]
    }
   ],
   "source": [
    "query = \"Hide node type a on the map\"\n",
    "\n",
    "completion = openai.ChatCompletion.create(\n",
    "  model=api_model,\n",
    "  temperature=0.1,\n",
    "  messages=[\n",
    "    {\"role\": \"system\", \"content\": \"Using the given documentation delimited by triple quotes, respond to user requests with nothing but the name of the top-level key that must be edited in order to fufill the request surrounded by single quotes\"},\n",
    "    {\"role\": \"user\", \"content\": '\"\"\"' + topLevel + '\"\"\" \\n\\n' + 'request: ' + query},\n",
    "  ]\n",
    ")\n",
    "current_key = completion.choices[0].message.content.replace(\"'\", '')\n",
    "\n",
    "print(current_key)"
   ]
  },
  {
   "cell_type": "code",
   "execution_count": 58,
   "metadata": {},
   "outputs": [
    {
     "name": "stdout",
     "output_type": "stream",
     "text": [
      "889\n",
      "1603\n",
      "{\"data\": {\"map1\": {\"defaultViewport\": {\"longitude\": -75.44766721108091, \"latitude\": 40.34530681636297, \"zoom\": 4.657916626867326, \"pitch\": 0, \"bearing\": 0, \"height\": 1287, \"altitude\": 1.5, \"maxZoom\": 12, \"minZoom\": 2}, \"optionalViewports\": {\"ov0\": {\"icon\": \"FaGlobeAsia\", \"name\": \"Asia\", \"zoom\": 4, \"order\": 1, \"pitch\": 0, \"bearing\": 0, \"maxZoom\": 12, \"minZoom\": 2, \"latitude\": 30, \"longitude\": 121}, \"ov1\": {\"icon\": \"FaGlobeEurope\", \"name\": \"EMEA\", \"zoom\": 4, \"order\": 1, \"pitch\": 0, \"bearing\": 0, \"maxZoom\": 12, \"minZoom\": 2, \"latitude\": 47, \"longitude\": 14}}, \"legendGroups\": {\"lga\": {\"name\": \"Legend Group A\", \"nodes\": {\"nodeTypeA\": {\"value\": true, \"sizeBy\": \"numericPropExampleA\", \"colorBy\": \"booleanPropExample\"}}, \"arcs\": {\"T1\": {\"colorBy\": \"numericPropExampleA\", \"sizeBy\": \"numericPropExampleB\", \"value\": true}}, \"order\": 1}, \"lgb\": {\"name\": \"Legend Group B\", \"nodes\": {\"nodeTypeB\": {\"value\": true, \"sizeBy\": \"numericPropExampleB\", \"colorBy\": \"booleanPropExample\"}}, \"arcs\": {\"T2\": {\"colorBy\": \"numericPropExampleA\", \"sizeBy\": \"numericPropExampleB\", \"value\": true}}, \"geos\": {\"state\": {\"value\": true, \"colorBy\": \"numericPropExampleC\"}, \"country\": {\"value\": false, \"colorBy\": \"numericPropExampleC\"}}, \"order\": 2}}}, \"map2\": {\"defaultViewport\": {\"longitude\": -75.44766721108091, \"latitude\": 40.34530681636297, \"zoom\": 4.657916626867326, \"pitch\": 0, \"bearing\": 0, \"height\": 1287, \"altitude\": 1.5, \"maxZoom\": 12, \"minZoom\": 2}, \"optionalViewports\": {\"ov0\": {\"icon\": \"FaGlobeAsia\", \"name\": \"Asia\", \"zoom\": 4, \"order\": 1, \"pitch\": 0, \"bearing\": 0, \"maxZoom\": 12, \"minZoom\": 2, \"latitude\": 30, \"longitude\": 121}, \"ov1\": {\"icon\": \"FaGlobeEurope\", \"name\": \"EMEA\", \"zoom\": 4, \"order\": 1, \"pitch\": 0, \"bearing\": 0, \"maxZoom\": 12, \"minZoom\": 2, \"latitude\": 47, \"longitude\": 14}}, \"legendGroups\": {\"lga\": {\"name\": \"Legend Group A\", \"nodes\": {\"nodeTypeA\": {\"value\": true, \"sizeBy\": \"numericPropExampleA\", \"colorBy\": \"booleanPropExample\"}}, \"arcs\": {\"T1\": {\"colorBy\": \"numericPropExampleA\", \"sizeBy\": \"numericPropExampleB\", \"value\": true}}, \"order\": 1}, \"lgb\": {\"name\": \"Legend Group B\", \"nodes\": {\"nodeTypeB\": {\"value\": true, \"sizeBy\": \"numericPropExampleB\", \"colorBy\": \"booleanPropExample\"}}, \"arcs\": {\"T2\": {\"colorBy\": \"numericPropExampleA\", \"sizeBy\": \"numericPropExampleB\", \"value\": true}}, \"geos\": {\"state\": {\"value\": true, \"colorBy\": \"numericPropExampleC\"}, \"country\": {\"value\": false, \"colorBy\": \"numericPropExampleC\"}}, \"order\": 2}}}}}\n"
     ]
    }
   ],
   "source": [
    "encoded_key = json.dumps(json.loads(state)[current_key])\n",
    "print(tiktoken_len(encoded_key))\n",
    "print(tiktoken_len(docs_by_name[current_key]))\n",
    "print(encoded_key)"
   ]
  },
  {
   "cell_type": "code",
   "execution_count": 54,
   "metadata": {},
   "outputs": [
    {
     "name": "stdout",
     "output_type": "stream",
     "text": [
      "{\"path\": \"data.map1.legendGroups.lga.nodes.nodeTypeA.value\", \"value\": false}\n"
     ]
    }
   ],
   "source": [
    "completion = openai.ChatCompletion.create(\n",
    "  model=api_model,\n",
    "  temperature=0.1,\n",
    "  messages=[\n",
    "    {\"role\": \"system\", \"content\": \"Using the given documentation delimited by triple quotes and current api state encoded in JSON, respond to user requests with the path(s) and value(s) you would modify in the api to achieve the users desired action in the format \\n```{\\\"path\\\": path, \\\"value\\\": value}```. If the user request isn't possible with the given data respond with 'Not possible'\"},\n",
    "    {\"role\": \"user\", \"content\": '\"\"\"' + docs_by_name[current_key] + '\"\"\" \\n\\n' + encoded_key + '\\n\\nrequest: ' + query},\n",
    "  ]\n",
    ")\n",
    "\n",
    "print(completion.choices[0].message.content)\n",
    "mutate_command = completion.choices[0].message.content"
   ]
  }
 ],
 "metadata": {
  "kernelspec": {
   "display_name": "Python 3",
   "language": "python",
   "name": "python3"
  },
  "language_info": {
   "codemirror_mode": {
    "name": "ipython",
    "version": 3
   },
   "file_extension": ".py",
   "mimetype": "text/x-python",
   "name": "python",
   "nbconvert_exporter": "python",
   "pygments_lexer": "ipython3",
   "version": "3.11.4"
  },
  "orig_nbformat": 4
 },
 "nbformat": 4,
 "nbformat_minor": 2
}
