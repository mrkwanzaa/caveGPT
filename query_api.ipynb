{
 "cells": [
  {
   "cell_type": "markdown",
   "metadata": {},
   "source": [
    "# Code"
   ]
  },
  {
   "cell_type": "code",
   "execution_count": 2,
   "metadata": {},
   "outputs": [],
   "source": [
    "# Imports and setup model\n",
    "import os\n",
    "import openai\n",
    "import json\n",
    "import configobj\n",
    "import tiktoken\n",
    "from time import sleep"
   ]
  },
  {
   "cell_type": "code",
   "execution_count": 3,
   "metadata": {},
   "outputs": [],
   "source": [
    "# Setup env vars and constants\n",
    "config = configobj.ConfigObj('.env')\n",
    "openai.api_key = config[\"OPENAI_API_KEY\"]\n",
    "\n",
    "api_model = \"gpt-4\"\n",
    "dimensions = 1536\n",
    "docs_dir = 'docs/'"
   ]
  },
  {
   "cell_type": "code",
   "execution_count": 4,
   "metadata": {},
   "outputs": [],
   "source": [
    "#Setup Tokenizer\n",
    "tokenizer_name = tiktoken.encoding_for_model(api_model)\n",
    "tokenizer = tiktoken.get_encoding(tokenizer_name.name)\n",
    "\n",
    "# create the length function\n",
    "def tiktoken_len(text):\n",
    "    tokens = tokenizer.encode(\n",
    "        text,\n",
    "        disallowed_special=()\n",
    "    )\n",
    "    return len(tokens)\n"
   ]
  },
  {
   "cell_type": "code",
   "execution_count": 5,
   "metadata": {},
   "outputs": [],
   "source": [
    "# load docs\n",
    "texts = []\n",
    "docs_by_name = {}\n",
    "\n",
    "for doc in os.listdir(docs_dir):\n",
    "    with open(docs_dir + doc, 'r') as f:\n",
    "        text = f.read()\n",
    "        texts.append(text)\n",
    "        docs_by_name[doc[0:-3]] = text"
   ]
  },
  {
   "cell_type": "code",
   "execution_count": 6,
   "metadata": {},
   "outputs": [],
   "source": [
    "state = \"\"\n",
    "with open('state.json') as f:\n",
    "    state = f.read()"
   ]
  },
  {
   "cell_type": "code",
   "execution_count": 76,
   "metadata": {},
   "outputs": [
    {
     "name": "stdout",
     "output_type": "stream",
     "text": [
      "1066\n"
     ]
    }
   ],
   "source": [
    "topLevel = \"\"\n",
    "with open(f'{docs_dir}topLevelInfo.md') as f:\n",
    "    topLevel = f.read()\n",
    "\n",
    "print(tiktoken_len(topLevel))"
   ]
  },
  {
   "cell_type": "code",
   "execution_count": 79,
   "metadata": {},
   "outputs": [],
   "source": [
    "query = \"Size the warehouses by capacity\""
   ]
  },
  {
   "cell_type": "markdown",
   "metadata": {},
   "source": [
    "# Run Query through gpt4\n",
    "\n",
    "Note: Currently using gpt-4(8k) as gpt-4-32k hasn't been publicly released yet and gpt-3.5-turbo-16k isn't great"
   ]
  },
  {
   "cell_type": "code",
   "execution_count": 80,
   "metadata": {},
   "outputs": [
    {
     "name": "stdout",
     "output_type": "stream",
     "text": [
      "maps\n"
     ]
    }
   ],
   "source": [
    "completion = openai.ChatCompletion.create(\n",
    "  model=api_model,\n",
    "  temperature=0.1,\n",
    "  messages=[\n",
    "    {\"role\": \"system\", \"content\": \"Using the given documentation delimited by triple quotes, respond to user requests with nothing but the name of the top-level key that must be edited in order to fufill the request surrounded by single quotes\"},\n",
    "    {\"role\": \"user\", \"content\": '\"\"\"' + topLevel + '\"\"\" \\n\\n' + 'request: ' + query},\n",
    "  ]\n",
    ")\n",
    "current_key = completion.choices[0].message.content.replace(\"'\", '')\n",
    "\n",
    "print(current_key)"
   ]
  },
  {
   "cell_type": "code",
   "execution_count": 81,
   "metadata": {},
   "outputs": [
    {
     "name": "stdout",
     "output_type": "stream",
     "text": [
      "496\n",
      "470\n",
      "1\n"
     ]
    }
   ],
   "source": [
    "encoded_data = json.dumps(json.loads(state)[current_key])\n",
    "max_size = False\n",
    "chunks = [None]\n",
    "if tiktoken_len(encoded_data) > 7000:\n",
    "    max_size = True\n",
    "    key_dict = json.loads(state)[current_key]\n",
    "    chunks[-1] = {i:key_dict[i] for i in key_dict if i!='data'}\n",
    "    chunks[-1]['data'] = {}\n",
    "else:\n",
    "    chunks = [encoded_data]\n",
    "print(tiktoken_len(json.dumps(chunks)))\n",
    "if max_size:\n",
    "    for key, value in key_dict['data'].items():\n",
    "        if tiktoken_len(json.dumps(chunks[-1]) + json.dumps({key: value})) > 7000:\n",
    "            chunks.append({i:key_dict[i] for i in key_dict if i!='data'})\n",
    "            chunks[-1]['data'] = {key: value}\n",
    "        else:\n",
    "            chunks[-1]['data'][key] = value      \n",
    "    for idx, chunk in enumerate(chunks):\n",
    "        chunks[idx] = json.dumps(chunk)\n",
    "\n",
    "for data in chunks:\n",
    "    print(tiktoken_len(data))\n",
    "\n",
    "print(len(chunks))"
   ]
  },
  {
   "cell_type": "code",
   "execution_count": null,
   "metadata": {},
   "outputs": [
    {
     "data": {
      "text/plain": [
       "'{\"name\": \"nodes\", \"types\": {\"nodeTypeRT\": {\"name\": \"Rail Terminals\", \"colorByOptions\": {\"active\": {\"false\": \"rgb(150,150,150)\", \"true\": \"rgb(8,255,8)\"}, \"throughput\": {\"min\": 0, \"max\": 2000, \"startGradientColor\": {\"dark\": \"rgb(150,150,150)\", \"light\": \"rgb(150,150,150)\"}, \"endGradientColor\": {\"dark\": \"rgb(8,255,8)\", \"light\": \"rgb(8,255,8)\"}}}, \"colorBy\": \"active\", \"minSizeRange\": 0, \"sizeByOptions\": {\"capacity\": {\"min\": 0, \"max\": 2000}, \"throughput\": {\"min\": 0, \"max\": 2000}}, \"sizeBy\": \"throughput\", \"startSize\": \"10px\", \"endSize\": \"25px\", \"icon\": \"MdDirectionsRailwayFilled\", \"props\": {\"capacity\": {\"name\": \"Throughput Capacity\", \"type\": \"num\", \"enabled\": true, \"help\": \"Max. number of units per year\", \"numberFormat\": {\"unit\": \"units\"}}, \"active\": {\"name\": \"Rail terminal active\", \"type\": \"toggle\", \"value\": true, \"enabled\": true, \"help\": \"Enable / disable rail terminal\"}, \"throughput\": {\"name\": \"Facility Throughput\", \"type\": \"num\", \"enabled\": false, \"help\": \"Number of units per year\", \"numberFormat\": {\"unit\": \"units\"}}, \"avgServiceSpeed\": {\"name\": \"Lead Time from source\", \"type\": \"num\", \"enabled\": false, \"help\": \"Avg. lead time from source\", \"numberFormat\": {\"unit\": \"days\"}}}, \"layout\": {\"type\": \"grid\", \"numColumns\": \"auto\", \"numRows\": 1, \"data\": {\"col1\": {\"type\": \"item\", \"itemId\": \"active\", \"col\": 1}, \"col2\": {\"type\": \"item\", \"itemId\": \"capacity\", \"col\": 2}, \"col3\": {\"type\": \"item\", \"itemId\": \"throughput\", \"col\": 3}, \"col4\": {\"type\": \"item\", \"itemId\": \"avgServiceSpeed\", \"col\": 4}}}}, \"nodeTypeWH\": {\"name\": \"Warehouses\", \"colorByOptions\": {\"active\": {\"false\": \"rgb(150,150,150)\", \"true\": \"rgb(255,255,0)\"}, \"throughput\": {\"min\": 0, \"max\": 2000, \"startGradientColor\": {\"dark\": \"rgb(150,150,150)\", \"light\": \"rgb(150,150,150)\"}, \"endGradientColor\": {\"dark\": \"rgb(255,255,0)\", \"light\": \"rgb(255,255,0)\"}}}, \"colorBy\": \"active\", \"minSizeRange\": 0, \"sizeByOptions\": {\"capacity\": {\"min\": 0, \"max\": 2000}, \"throughput\": {\"min\": 0, \"max\": 2000}}, \"sizeBy\": \"throughput\", \"startSize\": \"5px\", \"endSize\": \"25px\", \"icon\": \"MdWarehouse\", \"props\": {\"capacity\": {\"name\": \"Throughput Capacity\", \"type\": \"num\", \"enabled\": true, \"help\": \"Max. number of units per year\", \"numberFormat\": {\"unit\": \"units\"}}, \"active\": {\"name\": \"Warehouse active\", \"type\": \"toggle\", \"value\": true, \"enabled\": true, \"help\": \"Enable / disable warehouse\"}, \"throughput\": {\"name\": \"Facility Throughput\", \"type\": \"num\", \"enabled\": false, \"help\": \"Number of units per year\", \"numberFormat\": {\"unit\": \"units\"}}, \"avgServiceSpeed\": {\"name\": \"Lead Time from source\", \"type\": \"num\", \"enabled\": false, \"help\": \"Avg. lead time from source\", \"numberFormat\": {\"unit\": \"days\"}}}, \"layout\": {\"type\": \"grid\", \"numColumns\": \"auto\", \"numRows\": 1, \"data\": {\"col1\": {\"type\": \"item\", \"itemId\": \"active\", \"col\": 1}, \"col2\": {\"type\": \"item\", \"itemId\": \"capacity\", \"col\": 2}, \"col3\": {\"type\": \"item\", \"itemId\": \"throughput\", \"col\": 3}, \"col4\": {\"type\": \"item\", \"itemId\": \"avgServiceSpeed\", \"col\": 4}}}}, \"nodeTypeMFG\": {\"name\": \"Manufacturing Sites\", \"colorByOptions\": {\"active\": {\"false\": \"rgb(150,150,150)\", \"true\": \"rgb(199,36,177)\"}}, \"colorBy\": \"active\", \"minSizeRange\": 0, \"sizeByOptions\": {\"throughput\": {\"min\": 0, \"max\": 200000}}, \"sizeBy\": \"throughput\", \"startSize\": \"10px\", \"endSize\": \"30px\", \"icon\": \"MdFactory\", \"props\": {\"capacity\": {\"name\": \"Manufacturing Capacity\", \"type\": \"num\", \"enabled\": true, \"help\": \"Max. number of units per year\", \"numberFormat\": {\"unit\": \"units\"}}, \"active\": {\"name\": \"Site active\", \"type\": \"toggle\", \"value\": true, \"enabled\": false, \"help\": \"Enable / disable site\"}, \"throughput\": {\"name\": \"Facility Throughput\", \"type\": \"num\", \"enabled\": false, \"help\": \"Number of units per year\", \"numberFormat\": {\"unit\": \"units\"}}, \"avgServiceSpeed\": {\"name\": \"Lead Time from source\", \"type\": \"num\", \"enabled\": false, \"help\": \"Avg. lead time from source\", \"numberFormat\": {\"unit\": \"days\"}}}, \"layout\": {\"type\": \"grid\", \"numColumns\": \"auto\", \"numRows\": 1, \"data\": {\"col1\": {\"type\": \"item\", \"itemId\": \"active\", \"col\": 1}, \"col2\": {\"type\": \"item\", \"itemId\": \"capacity\", \"col\": 2}, \"col3\": {\"type\": \"item\", \"itemId\": \"throughput\", \"col\": 3}}}}}, \"data\": {\"RTZaragoza\": {\"type\": \"nodeTypeRT\", \"latitude\": 41.661256, \"longitude\": -0.922807, \"props\": {\"capacity\": {\"value\": 1000000}, \"active\": {\"value\": true}, \"throughput\": {\"value\": 11674.681700000001}, \"avgServiceSpeed\": {\"value\": 2.6244233}}}, \"RTNantes\": {\"type\": \"nodeTypeRT\", \"latitude\": 47.23058610161916, \"longitude\": -1.4988282486564977, \"props\": {\"capacity\": {\"value\": 1000000}, \"active\": {\"value\": true}, \"throughput\": {\"value\": 1444.9917}, \"avgServiceSpeed\": {\"value\": 2.1691433}}}, \"RTBarcelona\": {\"type\": \"nodeTypeRT\", \"latitude\": 41.34382670792827, \"longitude\": 2.118627987270602, \"props\": {\"capacity\": {\"value\": 1000000}, \"active\": {\"value\": true}, \"throughput\": {\"value\": 821.67695}, \"avgServiceSpeed\": {\"value\": 2.1627833}}}, \"RTParis\": {\"type\": \"nodeTypeRT\", \"latitude\": 48.82158238542876, \"longitude\": 2.381476863207858, \"props\": {\"capacity\": {\"value\": 1000000}, \"active\": {\"value\": true}, \"throughput\": {\"value\": 0}, \"avgServiceSpeed\": {\"value\": 0}}}, \"RTAntwerp\": {\"type\": \"nodeTypeRT\", \"latitude\": 51.29191758006584, \"longitude\": 4.374814667176561, \"props\": {\"capacity\": {\"value\": 1000000}, \"active\": {\"value\": true}, \"throughput\": {\"value\": 0}, \"avgServiceSpeed\": {\"value\": 0}}}, \"RTInnsbruck\": {\"type\": \"nodeTypeRT\", \"latitude\": 47.26096298204328, \"longitude\": 11.402057133455006, \"props\": {\"capacity\": {\"value\": 1000000}, \"active\": {\"value\": true}, \"throughput\": {\"value\": 55964.41165}, \"avgServiceSpeed\": {\"value\": 0.06249}}}, \"RTBologna\": {\"type\": \"nodeTypeRT\", \"latitude\": 44.50759776511597, \"longitude\": 11.322195868159485, \"props\": {\"capacity\": {\"value\": 1000000}, \"active\": {\"value\": true}, \"throughput\": {\"value\": 0}, \"avgServiceSpeed\": {\"value\": 0}}}, \"RTRome\": {\"type\": \"nodeTypeRT\", \"latitude\": 41.8950437979297, \"longitude\": 12.522819815883128, \"props\": {\"capacity\": {\"value\": 1000000}, \"active\": {\"value\": true}, \"throughput\": {\"value\": 0}, \"avgServiceSpeed\": {\"value\": 0}}}, \"RTNapoli\": {\"type\": \"nodeTypeRT\", \"latitude\": 40.84256486092593, \"longitude\": 14.28426788629138, \"props\": {\"capacity\": {\"value\": 1000000}, \"active\": {\"value\": true}, \"throughput\": {\"value\": 0}, \"avgServiceSpeed\": {\"value\": 0}}}, \"RTNurnberg\": {\"type\": \"nodeTypeRT\", \"latitude\": 49.41526953387765, \"longitude\": 11.092654263837815, \"props\": {\"capacity\": {\"value\": 1000000}, \"active\": {\"value\": true}, \"throughput\": {\"value\": 0}, \"avgServiceSpeed\": {\"value\": 0}}}, \"RTBerlin\": {\"type\": \"nodeTypeRT\", \"latitude\": 52.53534241611048, \"longitude\": 13.337354369982783, \"props\": {\"capacity\": {\"value\": 1000000}, \"active\": {\"value\": true}, \"throughput\": {\"value\": 0}, \"avgServiceSpeed\": {\"value\": 0}}}, \"RTHamburg\": {\"type\": \"nodeTypeRT\", \"latitude\": 53.507807386561495, \"longitude\": 9.909167384674992, \"props\": {\"capacity\": {\"value\": 1000000}, \"active\": {\"value\": true}, \"throughput\": {\"value\": 0}, \"avgServiceSpeed\": {\"value\": 0}}}, \"RTLondon\": {\"type\": \"nodeTypeRT\", \"latitude\": 51.47271391833159, \"longitude\": -0.1434523024213038, \"props\": {\"capacity\": {\"value\": 1000000}, \"active\": {\"value\": true}, \"throughput\": {\"value\": 33184.355}, \"avgServiceSpeed\": {\"value\": 2.1247167}}}, \"RTMarseille\": {\"type\": \"nodeTypeRT\", \"latitude\": 43.32554089810903, \"longitude\": 5.370514396110611, \"props\": {\"capacity\": {\"value\": 1000000}, \"active\": {\"value\": true}, \"throughput\": {\"value\": 0}, \"avgServiceSpeed\": {\"value\": 0}}}, \"RTSevilla\": {\"type\": \"nodeTypeRT\", \"latitude\": 37.41341050753204, \"longitude\": -5.956368834776998, \"props\": {\"capacity\": {\"value\": 1000000}, \"active\": {\"value\": true}, \"throughput\": {\"value\": 8838.706}, \"avgServiceSpeed\": {\"value\": 3.72437}}}, \"MFGSterzing\": {\"type\": \"nodeTypeMFG\", \"latitude\": 46.893419835106606, \"longitude\": 11.422649447965949, \"props\": {\"capacity\": {\"value\": 1000000}, \"active\": {\"value\": true}, \"throughput\": {\"value\": 202285.92640000003}, \"avgServiceSpeed\": {\"value\": 0}}}, \"WHJerez\": {\"type\": \"nodeTypeWH\", \"latitude\": 36.708984282577376, \"longitude\": -6.121006987671059, \"props\": {\"capacity\": {\"value\": 1000000}, \"active\": {\"value\": true}, \"throughput\": {\"value\": 8838.706039999997}, \"avgServiceSpeed\": {\"value\": 3.82438}}}, \"WHMadrid\": {\"type\": \"nodeTypeWH\", \"latitude\": 40.40822418979994, \"longitude\": -3.5805564386555195, \"props\": {\"capacity\": {\"value\": 1000000}, \"active\": {\"value\": true}, \"throughput\": {\"value\": 9955.590677000004}, \"avgServiceSpeed\": {\"value\": 2.9914333}}}, \"WHBarcelona\": {\"type\": \"nodeTypeWH\", \"latitude\": 41.3103233296437, \"longitude\": 2.1340943888471404, \"props\": {\"capacity\": {\"value\": 1000000}, \"active\": {\"value\": true}, \"throughput\": {\"value\": 821.6769380000001}, \"avgServiceSpeed\": {\"value\": 2.1721233}}}, \"WHZaragoza\": {\"type\": \"nodeTypeWH\", \"latitude\": 41.653997152220285, \"longitude\": -0.9965750902052154, \"props\": {\"capacity\": {\"value\": 1000000}, \"active\": {\"value\": true}, \"throughput\": {\"value\": 1719.091021}, \"avgServiceSpeed\": {\"value\": 2.6387933}}}, \"WHNantes\": {\"type\": \"nodeTypeWH\", \"latitude\": 47.18838369794761, \"longitude\": -1.6075266037801976, \"props\": {\"capacity\": {\"value\": 1000000}, \"active\": {\"value\": true}, \"throughput\": {\"value\": 1444.991689}, \"avgServiceSpeed\": {\"value\": 2.1983833}}}, \"WHMontpellier\": {\"type\": \"nodeTypeWH\", \"latitude\": 43.585345884207136, \"longitude\": 3.943227006408724, \"props\": {\"capacity\": {\"value\": 1000000}, \"active\": {\"value\": true}, \"throughput\": {\"value\": 1264.114257}, \"avgServiceSpeed\": {\"value\": 1.1933}}}, \"WHVersailles\": {\"type\": \"nodeTypeWH\", \"latitude\": 48.78565484809071, \"longitude\": 2.122742991277075, \"props\": {\"capacity\": {\"value\": 1000000}, \"active\": {\"value\": true}, \"throughput\": {\"value\": 5627.518375}, \"avgServiceSpeed\": {\"value\": 1.34041}}}, \"WHRotterdam\": {\"type\": \"nodeTypeWH\", \"latitude\": 51.87425475046265, \"longitude\": 4.443994531040988, \"props\": {\"capacity\": {\"value\": 1000000}, \"active\": {\"value\": true}, \"throughput\": {\"value\": 25321.17308979998}, \"avgServiceSpeed\": {\"value\": 1.29428}}}, \"WHCologne\": {\"type\": \"nodeTypeWH\", \"latitude\": 50.93334700270827, \"longitude\": 6.874916854101232, \"props\": {\"capacity\": {\"value\": 1000000}, \"active\": {\"value\": true}, \"throughput\": {\"value\": 24517.77584899999}, \"avgServiceSpeed\": {\"value\": 0.95084}}}, \"WHWolfsburg\": {\"type\": \"nodeTypeWH\", \"latitude\": 52.43695703151878, \"longitude\": 10.732244373385804, \"props\": {\"capacity\": {\"value\": 1000000}, \"active\": {\"value\": true}, \"throughput\": {\"value\": 6529.985005999998}, \"avgServiceSpeed\": {\"value\": 0.96615}}}, \"WHPotsdam\": {\"type\": \"nodeTypeWH\", \"latitude\": 52.38193717802026, \"longitude\": 13.114783069724542, \"props\": {\"capacity\": {\"value\": 1000000}, \"active\": {\"value\": true}, \"throughput\": {\"value\": 4606.406064}, \"avgServiceSpeed\": {\"value\": 0.90195}}}, \"WHErlangen\": {\"type\": \"nodeTypeWH\", \"latitude\": 49.54390302438191, \"longitude\": 11.033020988884717, \"props\": {\"capacity\": {\"value\": 1000000}, \"active\": {\"value\": true}, \"throughput\": {\"value\": 25920.218972000017}, \"avgServiceSpeed\": {\"value\": 0.46506}}}, \"WHForli\": {\"type\": \"nodeTypeWH\", \"latitude\": 44.22032352894727, \"longitude\": 12.105787770790364, \"props\": {\"capacity\": {\"value\": 1000000}, \"active\": {\"value\": true}, \"throughput\": {\"value\": 7057.723891}, \"avgServiceSpeed\": {\"value\": 0.48944}}}, \"WHRome\": {\"type\": \"nodeTypeWH\", \"latitude\": 41.84088403540205, \"longitude\": 12.45280018336316, \"props\": {\"capacity\": {\"value\": 1000000}, \"active\": {\"value\": true}, \"throughput\": {\"value\": 2231.0377380000004}, \"avgServiceSpeed\": {\"value\": 0.81299}}}, \"WHSalerno\": {\"type\": \"nodeTypeWH\", \"latitude\": 40.64006238726082, \"longitude\": 14.855517236930972, \"props\": {\"capacity\": {\"value\": 1000000}, \"active\": {\"value\": true}, \"throughput\": {\"value\": 1881.8389440000003}, \"avgServiceSpeed\": {\"value\": 1.08297}}}, \"WHBrindisi\": {\"type\": \"nodeTypeWH\", \"latitude\": 40.640257051936885, \"longitude\": 17.959211317563852, \"props\": {\"capacity\": {\"value\": 1000000}, \"active\": {\"value\": true}, \"throughput\": {\"value\": 684.29231}, \"avgServiceSpeed\": {\"value\": 1.3324}}}, \"WHCantanzaro\": {\"type\": \"nodeTypeWH\", \"latitude\": 38.82885421258202, \"longitude\": 16.611977875843362, \"props\": {\"capacity\": {\"value\": 1000000}, \"active\": {\"value\": true}, \"throughput\": {\"value\": 1619.89002}, \"avgServiceSpeed\": {\"value\": 1.46169}}}, \"WHTorino\": {\"type\": \"nodeTypeWH\", \"latitude\": 45.11167460100028, \"longitude\": 7.712908609478692, \"props\": {\"capacity\": {\"value\": 1000000}, \"active\": {\"value\": true}, \"throughput\": {\"value\": 6426.662839999999}, \"avgServiceSpeed\": {\"value\": 0.59247}}}, \"WHBasel\": {\"type\": \"nodeTypeWH\", \"latitude\": 47.58079248578476, \"longitude\": 7.596489442282717, \"props\": {\"capacity\": {\"value\": 1000000}, \"active\": {\"value\": true}, \"throughput\": {\"value\": 19473.135640899985}, \"avgServiceSpeed\": {\"value\": 0.5527}}}, \"WHClermont\": {\"type\": \"nodeTypeWH\", \"latitude\": 45.804530899829416, \"longitude\": 3.1272969362862346, \"props\": {\"capacity\": {\"value\": 1000000}, \"active\": {\"value\": true}, \"throughput\": {\"value\": 1330.785886}, \"avgServiceSpeed\": {\"value\": 1.22159}}}, \"WHBirmingham\": {\"type\": \"nodeTypeWH\", \"latitude\": 52.51149081674486, \"longitude\": -1.8151404944223664, \"props\": {\"capacity\": {\"value\": 1000000}, \"active\": {\"value\": true}, \"throughput\": {\"value\": 33184.354615000004}, \"avgServiceSpeed\": {\"value\": 2.3928667}}}, \"WHLubeck\": {\"type\": \"nodeTypeWH\", \"latitude\": 53.8790852194398, \"longitude\": 10.686727683877145, \"props\": {\"capacity\": {\"value\": 1000000}, \"active\": {\"value\": true}, \"throughput\": {\"value\": 11828.956113999999}, \"avgServiceSpeed\": {\"value\": 1.28947}}}}}'"
      ]
     },
     "execution_count": 55,
     "metadata": {},
     "output_type": "execute_result"
    }
   ],
   "source": [
    "chunks[0]"
   ]
  },
  {
   "cell_type": "code",
   "execution_count": 82,
   "metadata": {},
   "outputs": [
    {
     "name": "stdout",
     "output_type": "stream",
     "text": [
      "{\"path\": \"data.map1.legendGroups.Network Facilities.nodes.nodeTypeWH.sizeBy\", \"value\": \"capacity\"}\n",
      "Command output!\n"
     ]
    }
   ],
   "source": [
    "for data in chunks:\n",
    "  completion = openai.ChatCompletion.create(\n",
    "    model=api_model,\n",
    "    temperature=0.1,\n",
    "    messages=[\n",
    "      {\"role\": \"system\", \"content\": \"Using the given documentation delimited by triple quotes and current api state encoded in JSON, respond to user requests with the path(s) and value(s) you would modify in the api to achieve the users desired action in the format \\n```{\\\"path\\\": example.path.here, \\\"value\\\": value}```. If the user request isn't possible with the given data respond with 'Not possible'\"},\n",
    "      {\"role\": \"user\", \"content\": '\"\"\"' + docs_by_name[current_key] + '\"\"\" \\n\\n' + data + '\\n\\nrequest: ' + query},\n",
    "    ]\n",
    "  )\n",
    "\n",
    "  print(completion.choices[0].message.content)\n",
    "  mutate_command = completion.choices[0].message.content\n",
    "  if not 'Not possible' in mutate_command:\n",
    "    print('Command output!')\n",
    "    break"
   ]
  }
 ],
 "metadata": {
  "kernelspec": {
   "display_name": "Python 3",
   "language": "python",
   "name": "python3"
  },
  "language_info": {
   "codemirror_mode": {
    "name": "ipython",
    "version": 3
   },
   "file_extension": ".py",
   "mimetype": "text/x-python",
   "name": "python",
   "nbconvert_exporter": "python",
   "pygments_lexer": "ipython3",
   "version": "3.8.10"
  },
  "orig_nbformat": 4
 },
 "nbformat": 4,
 "nbformat_minor": 2
}
